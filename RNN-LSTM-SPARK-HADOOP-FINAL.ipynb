{
 "cells": [
  {
   "cell_type": "code",
   "execution_count": 1,
   "id": "db5de378",
   "metadata": {},
   "outputs": [],
   "source": [
    "# Standard Python libraries\n",
    "import warnings\n",
    "import numpy as np\n",
    "\n",
    "# PySpark related imports\n",
    "from pyspark.sql.functions import col, explode, desc, size\n",
    "from pyspark.sql import functions as F\n",
    "from pyspark.sql import types as T\n",
    "from pyspark.ml.feature import StringIndexer, Word2Vec, StandardScaler\n",
    "from pyspark.ml import Pipeline\n",
    "from pyspark.ml.feature import Tokenizer\n",
    "\n",
    "# PyTorch related imports\n",
    "from torch import nn, optim, Tensor\n",
    "import torch\n",
    "from torch.utils.data import DataLoader, TensorDataset\n",
    "from pyspark.ml.feature import Tokenizer\n",
    "\n",
    "# Scikit-learn related imports\n",
    "from sklearn.metrics import accuracy_score, classification_report\n",
    "\n",
    "# Data visualization libraries\n",
    "import seaborn as sns\n",
    "import matplotlib.pyplot as plt\n",
    "\n",
    "# Other imports\n",
    "from tqdm import tqdm\n",
    "from sklearn.model_selection import train_test_split"
   ]
  },
  {
   "cell_type": "code",
   "execution_count": 2,
   "id": "7889d0f9",
   "metadata": {},
   "outputs": [],
   "source": [
    "# sc master running locally\n",
    "sc.master\n",
    "\n",
    "# Filter warnings\n",
    "warnings.filterwarnings(\"ignore\")\n",
    "\n",
    "sc = spark.sparkContext"
   ]
  },
  {
   "cell_type": "code",
   "execution_count": 3,
   "id": "9f465503",
   "metadata": {},
   "outputs": [
    {
     "name": "stderr",
     "output_type": "stream",
     "text": [
      "                                                                                \r"
     ]
    }
   ],
   "source": [
    "path = \"/user1/Suicide_Detection.csv\"\n",
    "df = spark.read.csv(path)"
   ]
  },
  {
   "cell_type": "code",
   "execution_count": 4,
   "id": "f724f3b5",
   "metadata": {},
   "outputs": [
    {
     "name": "stdout",
     "output_type": "stream",
     "text": [
      "root\n",
      " |-- _c0: string (nullable = true)\n",
      " |-- _c1: string (nullable = true)\n",
      " |-- _c2: string (nullable = true)\n",
      "\n"
     ]
    }
   ],
   "source": [
    "# The inferred schema can be visualized using the printSchema() method\n",
    "df.printSchema()"
   ]
  },
  {
   "cell_type": "code",
   "execution_count": 5,
   "id": "54a62d23",
   "metadata": {},
   "outputs": [
    {
     "name": "stdout",
     "output_type": "stream",
     "text": [
      "+----+--------------------+-----------+\n",
      "|  ID|                Text|      Label|\n",
      "+----+--------------------+-----------+\n",
      "|null|                text|      class|\n",
      "|   2|Ex Wife Threateni...|    suicide|\n",
      "|   3|Am I weird I don'...|non-suicide|\n",
      "|   4|\"Finally 2020 is ...|non-suicide|\n",
      "|   8|i need helpjust h...|    suicide|\n",
      "+----+--------------------+-----------+\n",
      "only showing top 5 rows\n",
      "\n"
     ]
    }
   ],
   "source": [
    "# Rename the columns\n",
    "df = df.withColumnRenamed('_c0', 'ID')      # Rename _c0 to ID\n",
    "df = df.withColumnRenamed('_c1', 'Text')    # Rename _c1 to Text\n",
    "df = df.withColumnRenamed('_c2', 'Label')   # Rename _c2 to Label\n",
    "\n",
    "# Show the DataFrame with renamed columns\n",
    "df.show(5)"
   ]
  },
  {
   "cell_type": "code",
   "execution_count": 6,
   "id": "aa8b6e12",
   "metadata": {},
   "outputs": [
    {
     "name": "stderr",
     "output_type": "stream",
     "text": [
      "\r",
      "[Stage 2:>                                                          (0 + 8) / 8]\r"
     ]
    },
    {
     "name": "stdout",
     "output_type": "stream",
     "text": [
      "Total Rows: 664905\n",
      "root\n",
      " |-- ID: string (nullable = true)\n",
      " |-- Text: string (nullable = true)\n",
      " |-- Label: string (nullable = true)\n",
      "\n"
     ]
    },
    {
     "name": "stderr",
     "output_type": "stream",
     "text": [
      "\r",
      "                                                                                \r"
     ]
    }
   ],
   "source": [
    "# Count Rows\n",
    "row_count = df.count()\n",
    "print(\"Total Rows:\", row_count)\n",
    "\n",
    "# Get Schema\n",
    "df.printSchema()"
   ]
  },
  {
   "cell_type": "code",
   "execution_count": 7,
   "id": "f00b0e4b",
   "metadata": {},
   "outputs": [],
   "source": [
    "# \"ID\" column datatype changing\n",
    "df = df.withColumn(\"ID\", col(\"ID\").cast(\"integer\"))"
   ]
  },
  {
   "cell_type": "code",
   "execution_count": 8,
   "id": "4fb78d2f",
   "metadata": {},
   "outputs": [],
   "source": [
    "# Remove rows with null values in any column\n",
    "df = df.na.drop()"
   ]
  },
  {
   "cell_type": "code",
   "execution_count": 9,
   "id": "4748cb9d",
   "metadata": {},
   "outputs": [
    {
     "name": "stdout",
     "output_type": "stream",
     "text": [
      "+---+--------------------+-----------+\n",
      "| ID|                Text|      Label|\n",
      "+---+--------------------+-----------+\n",
      "|  2|Ex Wife Threateni...|    suicide|\n",
      "|  3|Am I weird I don'...|non-suicide|\n",
      "|  4|\"Finally 2020 is ...|non-suicide|\n",
      "|  8|i need helpjust h...|    suicide|\n",
      "| 18|My life is over a...|    suicide|\n",
      "| 19|I took the rest o...|    suicide|\n",
      "| 21|Do you think gett...|    suicide|\n",
      "| 23|Been arrested - f...|    suicide|\n",
      "| 24|Fuck the verizon ...|non-suicide|\n",
      "| 31|Me: I know I have...|non-suicide|\n",
      "| 37|Guys I want frien...|non-suicide|\n",
      "| 39|I’m trashLol I no...|    suicide|\n",
      "| 41|What is the best ...|    suicide|\n",
      "| 43|Today's fact is R...|non-suicide|\n",
      "| 44|I feel like I am ...|    suicide|\n",
      "| 45|Is it worth it?Is...|    suicide|\n",
      "| 47|I triple nipple d...|non-suicide|\n",
      "| 54|Hey, im gonna sle...|non-suicide|\n",
      "| 57|I learnt a new sk...|non-suicide|\n",
      "| 62|Why does no one u...|non-suicide|\n",
      "+---+--------------------+-----------+\n",
      "only showing top 20 rows\n",
      "\n"
     ]
    }
   ],
   "source": [
    "# Filter the DataFrame to include only 'suicide' and 'non-suicide' labels\n",
    "df = df.filter((col('Label') == 'suicide') | (col('Label') == 'non-suicide'))\n",
    "\n",
    "# Show the resulting DataFrame\n",
    "df.show()"
   ]
  },
  {
   "cell_type": "code",
   "execution_count": 10,
   "id": "b49e8a5b",
   "metadata": {},
   "outputs": [
    {
     "name": "stderr",
     "output_type": "stream",
     "text": [
      "[Stage 6:===================================================>       (7 + 1) / 8]\r"
     ]
    },
    {
     "name": "stdout",
     "output_type": "stream",
     "text": [
      "+-----------+-----+\n",
      "|      Label|count|\n",
      "+-----------+-----+\n",
      "|non-suicide|76506|\n",
      "|    suicide|53612|\n",
      "+-----------+-----+\n",
      "\n"
     ]
    },
    {
     "name": "stderr",
     "output_type": "stream",
     "text": [
      "\r",
      "                                                                                \r"
     ]
    }
   ],
   "source": [
    "# 'Label' is the column of interest\n",
    "label_counts = df.groupBy(\"Label\").count().orderBy(col(\"count\").desc())\n",
    "\n",
    "# Show the label counts\n",
    "label_counts.show()"
   ]
  },
  {
   "cell_type": "code",
   "execution_count": 11,
   "id": "4c750ce3",
   "metadata": {},
   "outputs": [
    {
     "name": "stdout",
     "output_type": "stream",
     "text": [
      "+---+-------------------------------------------------------------------------------------------------------------------------------------------------------------------------------------------------------------------------------------------------------------------------------------------------------------------------------------------------------------------------------------------------------------------------------------------------------------------------------------------------------------------------------------------------------------------------------------------------------------------------------------------------------------------------------------------------------------------------------------------+-----------+\n",
      "|ID |Text                                                                                                                                                                                                                                                                                                                                                                                                                                                                                                                                                                                                                                                                                                                                       |Label      |\n",
      "+---+-------------------------------------------------------------------------------------------------------------------------------------------------------------------------------------------------------------------------------------------------------------------------------------------------------------------------------------------------------------------------------------------------------------------------------------------------------------------------------------------------------------------------------------------------------------------------------------------------------------------------------------------------------------------------------------------------------------------------------------------+-----------+\n",
      "|2  |Ex Wife Threatening SuicideRecently I left my wife for good because she has cheated on me twice and lied to me so much that I have decided to refuse to go back to her. As of a few days ago, she began threatening suicide. I have tirelessly spent these paat few days talking her out of it and she keeps hesitating because she wants to believe I'll come back. I know a lot of people will threaten this in order to get their way, but what happens if she really does? What do I do and how am I supposed to handle her death on my hands? I still love my wife but I cannot deal with getting cheated on again and constantly feeling insecure. I'm worried today may be the day she does it and I hope so much it doesn't happen.|suicide    |\n",
      "|3  |Am I weird I don't get affected by compliments if it's coming from someone I know irl but I feel really good when internet strangers do it                                                                                                                                                                                                                                                                                                                                                                                                                                                                                                                                                                                                 |non-suicide|\n",
      "+---+-------------------------------------------------------------------------------------------------------------------------------------------------------------------------------------------------------------------------------------------------------------------------------------------------------------------------------------------------------------------------------------------------------------------------------------------------------------------------------------------------------------------------------------------------------------------------------------------------------------------------------------------------------------------------------------------------------------------------------------------+-----------+\n",
      "only showing top 2 rows\n",
      "\n"
     ]
    }
   ],
   "source": [
    "df.show(2, truncate=False)"
   ]
  },
  {
   "cell_type": "code",
   "execution_count": 12,
   "id": "51cd238c",
   "metadata": {},
   "outputs": [
    {
     "name": "stdout",
     "output_type": "stream",
     "text": [
      "+---+------------------------------------------------------------------------------------------------------------------------------------------------------------------------------------------------------------------------------------------------------------------------------------------------------------------------------------------------------------------------------------------------------------------------------------------------------------------------------------------------------------------------------------------------------------------------------------------------------------------------------------------------------------------------------------------------------------------------------------------------------------------------------------------------------------------------------------------------------------------------------------------------------------------------------------------------------------------------------------------------------------------------------------------------------------------------------------------------------------------------------------------------------------+-----------+---------------------------------------------------------------------------------------------------------------------------------------------------------------------------------------------------------------------------------------------------------------------------------------------------------------------------------------------------------------------------------------------------------------------------------------------------------------------------------------------------------------------------------------------------------------------------------------------------------------------------------------------------------------------------------------------------------------------------------------------------------------------------------------------------------------------------------------------------------------------------------------------------------------------------------------------------------------------------------------------------------------------------------------------------------------------------------------------------------------------------------------------------------------------------------------------------------------------------------------------------------------------------------------------------------------------------------------------------------------------------------------------+\n",
      "|ID |Text                                                                                                                                                                                                                                                                                                                                                                                                                                                                                                                                                                                                                                                                                                                                                                                                                                                                                                                                                                                                                                                                                                                                                        |Label      |tokens                                                                                                                                                                                                                                                                                                                                                                                                                                                                                                                                                                                                                                                                                                                                                                                                                                                                                                                                                                                                                                                                                                                                                                                                                                                                                                                                                                                       |\n",
      "+---+------------------------------------------------------------------------------------------------------------------------------------------------------------------------------------------------------------------------------------------------------------------------------------------------------------------------------------------------------------------------------------------------------------------------------------------------------------------------------------------------------------------------------------------------------------------------------------------------------------------------------------------------------------------------------------------------------------------------------------------------------------------------------------------------------------------------------------------------------------------------------------------------------------------------------------------------------------------------------------------------------------------------------------------------------------------------------------------------------------------------------------------------------------+-----------+---------------------------------------------------------------------------------------------------------------------------------------------------------------------------------------------------------------------------------------------------------------------------------------------------------------------------------------------------------------------------------------------------------------------------------------------------------------------------------------------------------------------------------------------------------------------------------------------------------------------------------------------------------------------------------------------------------------------------------------------------------------------------------------------------------------------------------------------------------------------------------------------------------------------------------------------------------------------------------------------------------------------------------------------------------------------------------------------------------------------------------------------------------------------------------------------------------------------------------------------------------------------------------------------------------------------------------------------------------------------------------------------+\n",
      "|2  |Ex Wife Threatening SuicideRecently I left my wife for good because she has cheated on me twice and lied to me so much that I have decided to refuse to go back to her. As of a few days ago, she began threatening suicide. I have tirelessly spent these paat few days talking her out of it and she keeps hesitating because she wants to believe I'll come back. I know a lot of people will threaten this in order to get their way, but what happens if she really does? What do I do and how am I supposed to handle her death on my hands? I still love my wife but I cannot deal with getting cheated on again and constantly feeling insecure. I'm worried today may be the day she does it and I hope so much it doesn't happen.                                                                                                                                                                                                                                                                                                                                                                                                                 |suicide    |[ex, wife, threatening, suiciderecently, i, left, my, wife, for, good, because, she, has, cheated, on, me, twice, and, lied, to, me, so, much, that, i, have, decided, to, refuse, to, go, back, to, her., as, of, a, few, days, ago,, she, began, threatening, suicide., i, have, tirelessly, spent, these, paat, few, days, talking, her, out, of, it, and, she, keeps, hesitating, because, she, wants, to, believe, i'll, come, back., i, know, a, lot, of, people, will, threaten, this, in, order, to, get, their, way,, but, what, happens, if, she, really, does?, what, do, i, do, and, how, am, i, supposed, to, handle, her, death, on, my, hands?, i, still, love, my, wife, but, i, cannot, deal, with, getting, cheated, on, again, and, constantly, feeling, insecure., i'm, worried, today, may, be, the, day, she, does, it, and, i, hope, so, much, it, doesn't, happen.]                                                                                                                                                                                                                                                                                                                                                                                                                                                                                                  |\n",
      "|3  |Am I weird I don't get affected by compliments if it's coming from someone I know irl but I feel really good when internet strangers do it                                                                                                                                                                                                                                                                                                                                                                                                                                                                                                                                                                                                                                                                                                                                                                                                                                                                                                                                                                                                                  |non-suicide|[am, i, weird, i, don't, get, affected, by, compliments, if, it's, coming, from, someone, i, know, irl, but, i, feel, really, good, when, internet, strangers, do, it]                                                                                                                                                                                                                                                                                                                                                                                                                                                                                                                                                                                                                                                                                                                                                                                                                                                                                                                                                                                                                                                                                                                                                                                                                       |\n",
      "|4  |\"Finally 2020 is almost over... So I can never hear \"\"2020 has been a bad year\"\" ever again. I swear to fucking God it's so annoying\"                                                                                                                                                                                                                                                                                                                                                                                                                                                                                                                                                                                                                                                                                                                                                                                                                                                                                                                                                                                                                       |non-suicide|[\"finally, 2020, is, almost, over..., so, i, can, never, hear, \"\"2020, has, been, a, bad, year\"\", ever, again., i, swear, to, fucking, god, it's, so, annoying\"]                                                                                                                                                                                                                                                                                                                                                                                                                                                                                                                                                                                                                                                                                                                                                                                                                                                                                                                                                                                                                                                                                                                                                                                                                             |\n",
      "|8  |i need helpjust help me im crying so hard                                                                                                                                                                                                                                                                                                                                                                                                                                                                                                                                                                                                                                                                                                                                                                                                                                                                                                                                                                                                                                                                                                                   |suicide    |[i, need, helpjust, help, me, im, crying, so, hard]                                                                                                                                                                                                                                                                                                                                                                                                                                                                                                                                                                                                                                                                                                                                                                                                                                                                                                                                                                                                                                                                                                                                                                                                                                                                                                                                          |\n",
      "|18 |My life is over at 20 years oldHello all. I am a 20 year old balding male. My hairline is trash and to make matters worse my head is HUGE. I have bipolar, depression and crippling social anxiety. Balding has been the cherry on top. I wear a hat 24/7 even in my room when I’m alone because I can’t stop thinking about it. I pop Xanax all day to try and numb the pain and it works for a little bit but it all comes crashing back twice as hard once I come down. I don’t know how to communicate with people anymore and I don’t know how to keep a relationship. I used to be one of the “popular kids” but after my dad passed away I feel into a deep dark hole. I’ve been arrested numerous times, been in rehab, mental hospitals, you name it. The only reason I haven’t killed myself yet is because of my mom and brothers. If I didn’t have them I’d be dead long ago. But it’s getting to the point where even their love and support isn’t going to be enough to keep me alive anymore. I’m either going to be the guy who killed himself, or the guy who went bald and 20 and looks like a child molestor. Which one would you choose?|suicide    |[my, life, is, over, at, 20, years, oldhello, all., i, am, a, 20, year, old, balding, male., my, hairline, is, trash, and, to, make, matters, worse, my, head, is, huge., i, have, bipolar,, depression, and, crippling, social, anxiety., balding, has, been, the, cherry, on, top., i, wear, a, hat, 24/7, even, in, my, room, when, i’m, alone, because, i, can’t, stop, thinking, about, it., i, pop, xanax, all, day, to, try, and, numb, the, pain, and, it, works, for, a, little, bit, but, it, all, comes, crashing, back, twice, as, hard, once, i, come, down., i, don’t, know, how, to, communicate, with, people, anymore, and, i, don’t, know, how, to, keep, a, relationship., i, used, to, be, one, of, the, “popular, kids”, but, after, my, dad, passed, away, i, feel, into, a, deep, dark, hole., i’ve, been, arrested, numerous, times,, been, in, rehab,, mental, hospitals,, you, name, it., the, only, reason, i, haven’t, killed, myself, yet, is, because, of, my, mom, and, brothers., if, i, didn’t, have, them, i’d, be, dead, long, ago., but, it’s, getting, to, the, point, where, even, their, love, and, support, isn’t, going, to, be, enough, to, keep, me, alive, anymore., i’m, either, going, to, be, the, guy, who, killed, himself,, or, the, guy, who, went, bald, and, 20, and, looks, like, a, child, molestor., which, one, would, you, choose?]|\n",
      "|19 |I took the rest of my sleeping pills and my painkillersI can’t wait for it to end, I’ve struggled for the past 6 years and I’m finally ending it.                                                                                                                                                                                                                                                                                                                                                                                                                                                                                                                                                                                                                                                                                                                                                                                                                                                                                                                                                                                                           |suicide    |[i, took, the, rest, of, my, sleeping, pills, and, my, painkillersi, can’t, wait, for, it, to, end,, i’ve, struggled, for, the, past, 6, years, and, i’m, finally, ending, it.]                                                                                                                                                                                                                                                                                                                                                                                                                                                                                                                                                                                                                                                                                                                                                                                                                                                                                                                                                                                                                                                                                                                                                                                                              |\n",
      "|21 |Do you think getting hit by a train would be painful?Guns are hard to come by in my country but trains are not. I just don't want to suffer though, do you think this would be a painless method of suicide?                                                                                                                                                                                                                                                                                                                                                                                                                                                                                                                                                                                                                                                                                                                                                                                                                                                                                                                                                |suicide    |[do, you, think, getting, hit, by, a, train, would, be, painful?guns, are, hard, to, come, by, in, my, country, but, trains, are, not., i, just, don't, want, to, suffer, though,, do, you, think, this, would, be, a, painless, method, of, suicide?]                                                                                                                                                                                                                                                                                                                                                                                                                                                                                                                                                                                                                                                                                                                                                                                                                                                                                                                                                                                                                                                                                                                                       |\n",
      "|23 |Been arrested - feeling suicidalEdit                                                                                                                                                                                                                                                                                                                                                                                                                                                                                                                                                                                                                                                                                                                                                                                                                                                                                                                                                                                                                                                                                                                        |suicide    |[been, arrested, -, feeling, suicidaledit]                                                                                                                                                                                                                                                                                                                                                                                                                                                                                                                                                                                                                                                                                                                                                                                                                                                                                                                                                                                                                                                                                                                                                                                                                                                                                                                                                   |\n",
      "|24 |Fuck the verizon smart family app I can’t even watch porn privately anymore wtf why is that a feature                                                                                                                                                                                                                                                                                                                                                                                                                                                                                                                                                                                                                                                                                                                                                                                                                                                                                                                                                                                                                                                       |non-suicide|[fuck, the, verizon, smart, family, app, i, can’t, even, watch, porn, privately, anymore, wtf, why, is, that, a, feature]                                                                                                                                                                                                                                                                                                                                                                                                                                                                                                                                                                                                                                                                                                                                                                                                                                                                                                                                                                                                                                                                                                                                                                                                                                                                    |\n",
      "|31 |Me: I know I have a really toxic house and I do my best to cope with with it by going to school, etc Rona: hahahaha, stay at home forcefully go brrrrrrrrr                                                                                                                                                                                                                                                                                                                                                                                                                                                                                                                                                                                                                                                                                                                                                                                                                                                                                                                                                                                                  |non-suicide|[me:, i, know, i, have, a, really, toxic, house, and, i, do, my, best, to, cope, with, with, it, by, going, to, school,, etc, rona:, hahahaha,, stay, at, home, forcefully, go, brrrrrrrrr]                                                                                                                                                                                                                                                                                                                                                                                                                                                                                                                                                                                                                                                                                                                                                                                                                                                                                                                                                                                                                                                                                                                                                                                                  |\n",
      "|37 |Guys I want friends That’s it , I’m alone and don’t talk to anyone dm me or anything, I’m just tired of only talking to my dad and sister, literally only my dad and sister , I like animated series but I’m flexible to anything the last series I watch was Santa Clarita’s diet and the last animated series I watch was the hollow and shera ( I was watching them at the same time ), and I have a very extended music repertoire I can draw you anything you ask ( or at least I’ll try ) you can text me at any hour of the day , I pretty much only do that , I have weird family anecdotes and stories I can tell you  , but if you are not interested in anything I mentioned it doesn’t matter I’m just here to be a friend                                                                                                                                                                                                                                                                                                                                                                                                                      |non-suicide|[guys, i, want, friends, that’s, it, ,, i’m, alone, and, don’t, talk, to, anyone, dm, me, or, anything,, i’m, just, tired, of, only, talking, to, my, dad, and, sister,, literally, only, my, dad, and, sister, ,, i, like, animated, series, but, i’m, flexible, to, anything, the, last, series, i, watch, was, santa, clarita’s, diet, and, the, last, animated, series, i, watch, was, the, hollow, and, shera, (, i, was, watching, them, at, the, same, time, ),, and, i, have, a, very, extended, music, repertoire, i, can, draw, you, anything, you, ask, (, or, at, least, i’ll, try, ), you, can, text, me, at, any, hour, of, the, day, ,, i, pretty, much, only, do, that, ,, i, have, weird, family, anecdotes, and, stories, i, can, tell, you, , ,, but, if, you, are, not, interested, in, anything, i, mentioned, it, doesn’t, matter, i’m, just, here, to, be, a, friend]                                                                                                                                                                                                                                                                                                                                                                                                                                                                                                 |\n",
      "|39 |I’m trashLol I normally cringe at the self loathing posts here but honestly I’m such trash. Like literally everything about me.  I just wish I could muster up the courage to just follow through. This is it and I’m okay with that that:  everyday here is worst than the last.  I appreciate this community for letting me know I’m not alone.                                                                                                                                                                                                                                                                                                                                                                                                                                                                                                                                                                                                                                                                                                                                                                                                           |suicide    |[i’m, trashlol, i, normally, cringe, at, the, self, loathing, posts, here, but, honestly, i’m, such, trash., like, literally, everything, about, me., , i, just, wish, i, could, muster, up, the, courage, to, just, follow, through., this, is, it, and, i’m, okay, with, that, that:, , everyday, here, is, worst, than, the, last., , i, appreciate, this, community, for, letting, me, know, i’m, not, alone.]                                                                                                                                                                                                                                                                                                                                                                                                                                                                                                                                                                                                                                                                                                                                                                                                                                                                                                                                                                           |\n",
      "|41 |What is the best way to do it?I’m not looking to be talked out of it. What would be the most effective, easiest way to go?                                                                                                                                                                                                                                                                                                                                                                                                                                                                                                                                                                                                                                                                                                                                                                                                                                                                                                                                                                                                                                  |suicide    |[what, is, the, best, way, to, do, it?i’m, not, looking, to, be, talked, out, of, it., what, would, be, the, most, effective,, easiest, way, to, go?]                                                                                                                                                                                                                                                                                                                                                                                                                                                                                                                                                                                                                                                                                                                                                                                                                                                                                                                                                                                                                                                                                                                                                                                                                                        |\n",
      "|43 |Today's fact is Reddit awards are expensive emojis                                                                                                                                                                                                                                                                                                                                                                                                                                                                                                                                                                                                                                                                                                                                                                                                                                                                                                                                                                                                                                                                                                          |non-suicide|[today's, fact, is, reddit, awards, are, expensive, emojis]                                                                                                                                                                                                                                                                                                                                                                                                                                                                                                                                                                                                                                                                                                                                                                                                                                                                                                                                                                                                                                                                                                                                                                                                                                                                                                                                  |\n",
      "|44 |I feel like I am drowningI used to go to school at a state university, then I had to drop out for financial issues. It's been a year since then and I haven't moved anywhere in my life. I have one job (15 hours a week, so I don't make enough money for essentials like food, soap, toothpaste, etc..) and I am trying to find another job but I can't find one. I feel like I'm going to be stuck in this hole forever and  part of me just wants everything to be over. I apply to 5-6 jobs a day and make sure to call back but all I get is an explanation as to why they don't need me. I also haven't been able to afford a haircut for 3 months and I'm self-conscious about it because my hair never gets long and it feels gross. I spent all of this month with my bank account overdrafted and I have no clue how I will pay rent. Sorry for rambling, but I can't stop thinking of killing myself and I really want help.                                                                                                                                                                                                                    |suicide    |[i, feel, like, i, am, drowningi, used, to, go, to, school, at, a, state, university,, then, i, had, to, drop, out, for, financial, issues., it's, been, a, year, since, then, and, i, haven't, moved, anywhere, in, my, life., i, have, one, job, (15, hours, a, week,, so, i, don't, make, enough, money, for, essentials, like, food,, soap,, toothpaste,, etc..), and, i, am, trying, to, find, another, job, but, i, can't, find, one., i, feel, like, i'm, going, to, be, stuck, in, this, hole, forever, and, , part, of, me, just, wants, everything, to, be, over., i, apply, to, 5-6, jobs, a, day, and, make, sure, to, call, back, but, all, i, get, is, an, explanation, as, to, why, they, don't, need, me., i, also, haven't, been, able, to, afford, a, haircut, for, 3, months, and, i'm, self-conscious, about, it, because, my, hair, never, gets, long, and, it, feels, gross., i, spent, all, of, this, month, with, my, bank, account, overdrafted, and, i, have, no, clue, how, i, will, pay, rent., sorry, for, rambling,, but, i, can't, stop, thinking, of, killing, myself, and, i, really, want, help.]                                                                                                                                                                                                                                                          |\n",
      "|45 |Is it worth it?Is all the trouble, work and anxiety really worth living for.                                                                                                                                                                                                                                                                                                                                                                                                                                                                                                                                                                                                                                                                                                                                                                                                                                                                                                                                                                                                                                                                                |suicide    |[is, it, worth, it?is, all, the, trouble,, work, and, anxiety, really, worth, living, for.]                                                                                                                                                                                                                                                                                                                                                                                                                                                                                                                                                                                                                                                                                                                                                                                                                                                                                                                                                                                                                                                                                                                                                                                                                                                                                                  |\n",
      "|47 |I triple nipple dock dare you To ask out your crush, or if you're taken tell them that you love them                                                                                                                                                                                                                                                                                                                                                                                                                                                                                                                                                                                                                                                                                                                                                                                                                                                                                                                                                                                                                                                        |non-suicide|[i, triple, nipple, dock, dare, you, to, ask, out, your, crush,, or, if, you're, taken, tell, them, that, you, love, them]                                                                                                                                                                                                                                                                                                                                                                                                                                                                                                                                                                                                                                                                                                                                                                                                                                                                                                                                                                                                                                                                                                                                                                                                                                                                   |\n",
      "|54 |Hey, im gonna sleep with socks Whatcha gonna do? Put them off?! Good luck ima gonna sleep with warm feet                                                                                                                                                                                                                                                                                                                                                                                                                                                                                                                                                                                                                                                                                                                                                                                                                                                                                                                                                                                                                                                    |non-suicide|[hey,, im, gonna, sleep, with, socks, whatcha, gonna, do?, put, them, off?!, good, luck, ima, gonna, sleep, with, warm, feet]                                                                                                                                                                                                                                                                                                                                                                                                                                                                                                                                                                                                                                                                                                                                                                                                                                                                                                                                                                                                                                                                                                                                                                                                                                                                |\n",
      "|57 |I learnt a new skill today! I learnt how to change a light bulb, only thing that happened was I cocked up the first time and it went out after 5 minutes, so I tightened it a bit and it now works. My room had been lightless for quite a long time and I finally have a bulb in the light.                                                                                                                                                                                                                                                                                                                                                                                                                                                                                                                                                                                                                                                                                                                                                                                                                                                                |non-suicide|[i, learnt, a, new, skill, today!, i, learnt, how, to, change, a, light, bulb,, only, thing, that, happened, was, i, cocked, up, the, first, time, and, it, went, out, after, 5, minutes,, so, i, tightened, it, a, bit, and, it, now, works., my, room, had, been, lightless, for, quite, a, long, time, and, i, finally, have, a, bulb, in, the, light.]                                                                                                                                                                                                                                                                                                                                                                                                                                                                                                                                                                                                                                                                                                                                                                                                                                                                                                                                                                                                                                   |\n",
      "|62 |Why does no one use the email function of reddit It's kinda sad, so underappreciated, edit- have y'all never used the email function, how uncultured                                                                                                                                                                                                                                                                                                                                                                                                                                                                                                                                                                                                                                                                                                                                                                                                                                                                                                                                                                                                        |non-suicide|[why, does, no, one, use, the, email, function, of, reddit, it's, kinda, sad,, so, underappreciated,, edit-, have, y'all, never, used, the, email, function,, how, uncultured]                                                                                                                                                                                                                                                                                                                                                                                                                                                                                                                                                                                                                                                                                                                                                                                                                                                                                                                                                                                                                                                                                                                                                                                                               |\n",
      "+---+------------------------------------------------------------------------------------------------------------------------------------------------------------------------------------------------------------------------------------------------------------------------------------------------------------------------------------------------------------------------------------------------------------------------------------------------------------------------------------------------------------------------------------------------------------------------------------------------------------------------------------------------------------------------------------------------------------------------------------------------------------------------------------------------------------------------------------------------------------------------------------------------------------------------------------------------------------------------------------------------------------------------------------------------------------------------------------------------------------------------------------------------------------+-----------+---------------------------------------------------------------------------------------------------------------------------------------------------------------------------------------------------------------------------------------------------------------------------------------------------------------------------------------------------------------------------------------------------------------------------------------------------------------------------------------------------------------------------------------------------------------------------------------------------------------------------------------------------------------------------------------------------------------------------------------------------------------------------------------------------------------------------------------------------------------------------------------------------------------------------------------------------------------------------------------------------------------------------------------------------------------------------------------------------------------------------------------------------------------------------------------------------------------------------------------------------------------------------------------------------------------------------------------------------------------------------------------------+\n",
      "only showing top 20 rows\n",
      "\n"
     ]
    }
   ],
   "source": [
    "# Create a Tokenizer object\n",
    "tokenizer = Tokenizer(inputCol=\"Text\", outputCol=\"tokens\")\n",
    "\n",
    "# Tokenize the \"processed_text\" column\n",
    "df = tokenizer.transform(df)\n",
    "\n",
    "# Show the result\n",
    "df.show(truncate=False)"
   ]
  },
  {
   "cell_type": "code",
   "execution_count": 13,
   "id": "da8c1fb2",
   "metadata": {},
   "outputs": [
    {
     "name": "stdout",
     "output_type": "stream",
     "text": [
      "+---------------------------------------------------------------------------------------------------------------------------------------------------------------------------------------------------------------------------------------------------------------------------------------------------------------------------------------------------------------------------------------------------------------------------------------------------------------------------------------------------------------------------------------------------------------------------------------------------------------------------------------------------------------------------------------------------------------------------------------------------------------------------------------------------------------------------------------------------------------------------------------------------------------------------------------------------------------------------------------------------------------------------------------------------------------------------------------------------------------------------------------------------------------------------------------------------------------------------------------------------------------------------------------------------------------------------------------------------------------------------------------------+\n",
      "|tokens                                                                                                                                                                                                                                                                                                                                                                                                                                                                                                                                                                                                                                                                                                                                                                                                                                                                                                                                                                                                                                                                                                                                                                                                                                                                                                                                                                                       |\n",
      "+---------------------------------------------------------------------------------------------------------------------------------------------------------------------------------------------------------------------------------------------------------------------------------------------------------------------------------------------------------------------------------------------------------------------------------------------------------------------------------------------------------------------------------------------------------------------------------------------------------------------------------------------------------------------------------------------------------------------------------------------------------------------------------------------------------------------------------------------------------------------------------------------------------------------------------------------------------------------------------------------------------------------------------------------------------------------------------------------------------------------------------------------------------------------------------------------------------------------------------------------------------------------------------------------------------------------------------------------------------------------------------------------+\n",
      "|[ex, wife, threatening, suiciderecently, i, left, my, wife, for, good, because, she, has, cheated, on, me, twice, and, lied, to, me, so, much, that, i, have, decided, to, refuse, to, go, back, to, her., as, of, a, few, days, ago,, she, began, threatening, suicide., i, have, tirelessly, spent, these, paat, few, days, talking, her, out, of, it, and, she, keeps, hesitating, because, she, wants, to, believe, i'll, come, back., i, know, a, lot, of, people, will, threaten, this, in, order, to, get, their, way,, but, what, happens, if, she, really, does?, what, do, i, do, and, how, am, i, supposed, to, handle, her, death, on, my, hands?, i, still, love, my, wife, but, i, cannot, deal, with, getting, cheated, on, again, and, constantly, feeling, insecure., i'm, worried, today, may, be, the, day, she, does, it, and, i, hope, so, much, it, doesn't, happen.]                                                                                                                                                                                                                                                                                                                                                                                                                                                                                                  |\n",
      "|[am, i, weird, i, don't, get, affected, by, compliments, if, it's, coming, from, someone, i, know, irl, but, i, feel, really, good, when, internet, strangers, do, it]                                                                                                                                                                                                                                                                                                                                                                                                                                                                                                                                                                                                                                                                                                                                                                                                                                                                                                                                                                                                                                                                                                                                                                                                                       |\n",
      "|[\"finally, 2020, is, almost, over..., so, i, can, never, hear, \"\"2020, has, been, a, bad, year\"\", ever, again., i, swear, to, fucking, god, it's, so, annoying\"]                                                                                                                                                                                                                                                                                                                                                                                                                                                                                                                                                                                                                                                                                                                                                                                                                                                                                                                                                                                                                                                                                                                                                                                                                             |\n",
      "|[i, need, helpjust, help, me, im, crying, so, hard]                                                                                                                                                                                                                                                                                                                                                                                                                                                                                                                                                                                                                                                                                                                                                                                                                                                                                                                                                                                                                                                                                                                                                                                                                                                                                                                                          |\n",
      "|[my, life, is, over, at, 20, years, oldhello, all., i, am, a, 20, year, old, balding, male., my, hairline, is, trash, and, to, make, matters, worse, my, head, is, huge., i, have, bipolar,, depression, and, crippling, social, anxiety., balding, has, been, the, cherry, on, top., i, wear, a, hat, 24/7, even, in, my, room, when, i’m, alone, because, i, can’t, stop, thinking, about, it., i, pop, xanax, all, day, to, try, and, numb, the, pain, and, it, works, for, a, little, bit, but, it, all, comes, crashing, back, twice, as, hard, once, i, come, down., i, don’t, know, how, to, communicate, with, people, anymore, and, i, don’t, know, how, to, keep, a, relationship., i, used, to, be, one, of, the, “popular, kids”, but, after, my, dad, passed, away, i, feel, into, a, deep, dark, hole., i’ve, been, arrested, numerous, times,, been, in, rehab,, mental, hospitals,, you, name, it., the, only, reason, i, haven’t, killed, myself, yet, is, because, of, my, mom, and, brothers., if, i, didn’t, have, them, i’d, be, dead, long, ago., but, it’s, getting, to, the, point, where, even, their, love, and, support, isn’t, going, to, be, enough, to, keep, me, alive, anymore., i’m, either, going, to, be, the, guy, who, killed, himself,, or, the, guy, who, went, bald, and, 20, and, looks, like, a, child, molestor., which, one, would, you, choose?]|\n",
      "|[i, took, the, rest, of, my, sleeping, pills, and, my, painkillersi, can’t, wait, for, it, to, end,, i’ve, struggled, for, the, past, 6, years, and, i’m, finally, ending, it.]                                                                                                                                                                                                                                                                                                                                                                                                                                                                                                                                                                                                                                                                                                                                                                                                                                                                                                                                                                                                                                                                                                                                                                                                              |\n",
      "|[do, you, think, getting, hit, by, a, train, would, be, painful?guns, are, hard, to, come, by, in, my, country, but, trains, are, not., i, just, don't, want, to, suffer, though,, do, you, think, this, would, be, a, painless, method, of, suicide?]                                                                                                                                                                                                                                                                                                                                                                                                                                                                                                                                                                                                                                                                                                                                                                                                                                                                                                                                                                                                                                                                                                                                       |\n",
      "|[been, arrested, -, feeling, suicidaledit]                                                                                                                                                                                                                                                                                                                                                                                                                                                                                                                                                                                                                                                                                                                                                                                                                                                                                                                                                                                                                                                                                                                                                                                                                                                                                                                                                   |\n",
      "|[fuck, the, verizon, smart, family, app, i, can’t, even, watch, porn, privately, anymore, wtf, why, is, that, a, feature]                                                                                                                                                                                                                                                                                                                                                                                                                                                                                                                                                                                                                                                                                                                                                                                                                                                                                                                                                                                                                                                                                                                                                                                                                                                                    |\n",
      "|[me:, i, know, i, have, a, really, toxic, house, and, i, do, my, best, to, cope, with, with, it, by, going, to, school,, etc, rona:, hahahaha,, stay, at, home, forcefully, go, brrrrrrrrr]                                                                                                                                                                                                                                                                                                                                                                                                                                                                                                                                                                                                                                                                                                                                                                                                                                                                                                                                                                                                                                                                                                                                                                                                  |\n",
      "|[guys, i, want, friends, that’s, it, ,, i’m, alone, and, don’t, talk, to, anyone, dm, me, or, anything,, i’m, just, tired, of, only, talking, to, my, dad, and, sister,, literally, only, my, dad, and, sister, ,, i, like, animated, series, but, i’m, flexible, to, anything, the, last, series, i, watch, was, santa, clarita’s, diet, and, the, last, animated, series, i, watch, was, the, hollow, and, shera, (, i, was, watching, them, at, the, same, time, ),, and, i, have, a, very, extended, music, repertoire, i, can, draw, you, anything, you, ask, (, or, at, least, i’ll, try, ), you, can, text, me, at, any, hour, of, the, day, ,, i, pretty, much, only, do, that, ,, i, have, weird, family, anecdotes, and, stories, i, can, tell, you, , ,, but, if, you, are, not, interested, in, anything, i, mentioned, it, doesn’t, matter, i’m, just, here, to, be, a, friend]                                                                                                                                                                                                                                                                                                                                                                                                                                                                                                 |\n",
      "|[i’m, trashlol, i, normally, cringe, at, the, self, loathing, posts, here, but, honestly, i’m, such, trash., like, literally, everything, about, me., , i, just, wish, i, could, muster, up, the, courage, to, just, follow, through., this, is, it, and, i’m, okay, with, that, that:, , everyday, here, is, worst, than, the, last., , i, appreciate, this, community, for, letting, me, know, i’m, not, alone.]                                                                                                                                                                                                                                                                                                                                                                                                                                                                                                                                                                                                                                                                                                                                                                                                                                                                                                                                                                           |\n",
      "|[what, is, the, best, way, to, do, it?i’m, not, looking, to, be, talked, out, of, it., what, would, be, the, most, effective,, easiest, way, to, go?]                                                                                                                                                                                                                                                                                                                                                                                                                                                                                                                                                                                                                                                                                                                                                                                                                                                                                                                                                                                                                                                                                                                                                                                                                                        |\n",
      "|[today's, fact, is, reddit, awards, are, expensive, emojis]                                                                                                                                                                                                                                                                                                                                                                                                                                                                                                                                                                                                                                                                                                                                                                                                                                                                                                                                                                                                                                                                                                                                                                                                                                                                                                                                  |\n",
      "|[i, feel, like, i, am, drowningi, used, to, go, to, school, at, a, state, university,, then, i, had, to, drop, out, for, financial, issues., it's, been, a, year, since, then, and, i, haven't, moved, anywhere, in, my, life., i, have, one, job, (15, hours, a, week,, so, i, don't, make, enough, money, for, essentials, like, food,, soap,, toothpaste,, etc..), and, i, am, trying, to, find, another, job, but, i, can't, find, one., i, feel, like, i'm, going, to, be, stuck, in, this, hole, forever, and, , part, of, me, just, wants, everything, to, be, over., i, apply, to, 5-6, jobs, a, day, and, make, sure, to, call, back, but, all, i, get, is, an, explanation, as, to, why, they, don't, need, me., i, also, haven't, been, able, to, afford, a, haircut, for, 3, months, and, i'm, self-conscious, about, it, because, my, hair, never, gets, long, and, it, feels, gross., i, spent, all, of, this, month, with, my, bank, account, overdrafted, and, i, have, no, clue, how, i, will, pay, rent., sorry, for, rambling,, but, i, can't, stop, thinking, of, killing, myself, and, i, really, want, help.]                                                                                                                                                                                                                                                          |\n",
      "|[is, it, worth, it?is, all, the, trouble,, work, and, anxiety, really, worth, living, for.]                                                                                                                                                                                                                                                                                                                                                                                                                                                                                                                                                                                                                                                                                                                                                                                                                                                                                                                                                                                                                                                                                                                                                                                                                                                                                                  |\n",
      "|[i, triple, nipple, dock, dare, you, to, ask, out, your, crush,, or, if, you're, taken, tell, them, that, you, love, them]                                                                                                                                                                                                                                                                                                                                                                                                                                                                                                                                                                                                                                                                                                                                                                                                                                                                                                                                                                                                                                                                                                                                                                                                                                                                   |\n",
      "|[hey,, im, gonna, sleep, with, socks, whatcha, gonna, do?, put, them, off?!, good, luck, ima, gonna, sleep, with, warm, feet]                                                                                                                                                                                                                                                                                                                                                                                                                                                                                                                                                                                                                                                                                                                                                                                                                                                                                                                                                                                                                                                                                                                                                                                                                                                                |\n",
      "|[i, learnt, a, new, skill, today!, i, learnt, how, to, change, a, light, bulb,, only, thing, that, happened, was, i, cocked, up, the, first, time, and, it, went, out, after, 5, minutes,, so, i, tightened, it, a, bit, and, it, now, works., my, room, had, been, lightless, for, quite, a, long, time, and, i, finally, have, a, bulb, in, the, light.]                                                                                                                                                                                                                                                                                                                                                                                                                                                                                                                                                                                                                                                                                                                                                                                                                                                                                                                                                                                                                                   |\n",
      "|[why, does, no, one, use, the, email, function, of, reddit, it's, kinda, sad,, so, underappreciated,, edit-, have, y'all, never, used, the, email, function,, how, uncultured]                                                                                                                                                                                                                                                                                                                                                                                                                                                                                                                                                                                                                                                                                                                                                                                                                                                                                                                                                                                                                                                                                                                                                                                                               |\n",
      "+---------------------------------------------------------------------------------------------------------------------------------------------------------------------------------------------------------------------------------------------------------------------------------------------------------------------------------------------------------------------------------------------------------------------------------------------------------------------------------------------------------------------------------------------------------------------------------------------------------------------------------------------------------------------------------------------------------------------------------------------------------------------------------------------------------------------------------------------------------------------------------------------------------------------------------------------------------------------------------------------------------------------------------------------------------------------------------------------------------------------------------------------------------------------------------------------------------------------------------------------------------------------------------------------------------------------------------------------------------------------------------------------+\n",
      "only showing top 20 rows\n",
      "\n"
     ]
    }
   ],
   "source": [
    "# Show the \"tokens\" column\n",
    "token_df = df.select(\"tokens\")\n",
    "\n",
    "token_df.show(truncate=False)"
   ]
  },
  {
   "cell_type": "code",
   "execution_count": 14,
   "id": "c35bdf3b",
   "metadata": {
    "scrolled": true
   },
   "outputs": [
    {
     "name": "stdout",
     "output_type": "stream",
     "text": [
      "+---+--------------------+-----------+--------------------+\n",
      "| ID|                Text|      Label|              tokens|\n",
      "+---+--------------------+-----------+--------------------+\n",
      "|  2|Ex Wife Threateni...|    suicide|[ex, wife, threat...|\n",
      "|  3|Am I weird I don'...|non-suicide|[am, i, weird, i,...|\n",
      "|  4|\"Finally 2020 is ...|non-suicide|[\"finally, 2020, ...|\n",
      "|  8|i need helpjust h...|    suicide|[i, need, helpjus...|\n",
      "| 18|My life is over a...|    suicide|[my, life, is, ov...|\n",
      "+---+--------------------+-----------+--------------------+\n",
      "only showing top 5 rows\n",
      "\n"
     ]
    }
   ],
   "source": [
    "df.show(5, truncate=True)"
   ]
  },
  {
   "cell_type": "code",
   "execution_count": 15,
   "id": "5d7b1594",
   "metadata": {},
   "outputs": [],
   "source": [
    "# Explode the tokens into separate rows\n",
    "counting_df = df.withColumn(\"word\", explode(df[\"tokens\"]))\n",
    "\n",
    "# Group by words and count their occurrences\n",
    "word_counts = counting_df.groupBy(\"word\").count()\n",
    "\n",
    "# Order the word counts in descending order\n",
    "word_counts = word_counts.orderBy(desc(\"count\"))\n",
    "\n",
    "# Select the top 20 words\n",
    "top_20_words = word_counts.limit(20)"
   ]
  },
  {
   "cell_type": "code",
   "execution_count": 16,
   "id": "37d17f5f",
   "metadata": {
    "scrolled": true
   },
   "outputs": [
    {
     "name": "stderr",
     "output_type": "stream",
     "text": [
      "[Stage 13:=======>                                                  (1 + 7) / 8]\r"
     ]
    },
    {
     "name": "stdout",
     "output_type": "stream",
     "text": [
      "+----+------+\n",
      "|word| count|\n",
      "+----+------+\n",
      "|   i|476118|\n",
      "|  to|277623|\n",
      "| and|236422|\n",
      "| the|167139|\n",
      "|  my|165837|\n",
      "|   a|164026|\n",
      "|  of|106558|\n",
      "|  it| 87695|\n",
      "|  me| 85530|\n",
      "|just| 83531|\n",
      "|  is| 79251|\n",
      "|  in| 78412|\n",
      "| but| 77786|\n",
      "|that| 72752|\n",
      "|have| 72492|\n",
      "| for| 70323|\n",
      "|  so| 66496|\n",
      "|this| 57312|\n",
      "|like| 54352|\n",
      "| i'm| 53014|\n",
      "+----+------+\n",
      "\n"
     ]
    },
    {
     "name": "stderr",
     "output_type": "stream",
     "text": [
      "\r",
      "                                                                                \r"
     ]
    }
   ],
   "source": [
    "# Show the top 20 words and their counts\n",
    "top_20_words.show(20)"
   ]
  },
  {
   "cell_type": "code",
   "execution_count": 17,
   "id": "7e4bfa1d",
   "metadata": {},
   "outputs": [
    {
     "name": "stderr",
     "output_type": "stream",
     "text": [
      "                                                                                \r"
     ]
    },
    {
     "data": {
      "image/png": "[encoded data removed]",
      "text/plain": [
       "<Figure size 864x432 with 1 Axes>"
      ]
     },
     "metadata": {
      "needs_background": "light"
     },
     "output_type": "display_data"
    }
   ],
   "source": [
    "# Extract the word and count columns from the DataFrame\n",
    "words = [row['word'] for row in top_20_words.collect()]\n",
    "counts = [row['count'] for row in top_20_words.collect()]\n",
    "\n",
    "# Create a bar plot\n",
    "plt.figure(figsize=(12, 6))\n",
    "plt.barh(words, counts)\n",
    "plt.xlabel('Word Count')\n",
    "plt.ylabel('Words')\n",
    "plt.title('Top 20 Words in Your Data')\n",
    "plt.gca().invert_yaxis()  # Invert y-axis to display the most frequent word at the top\n",
    "plt.tight_layout()\n",
    "\n",
    "# Show the plot\n",
    "plt.show()"
   ]
  },
  {
   "cell_type": "code",
   "execution_count": 18,
   "id": "e678bf88",
   "metadata": {},
   "outputs": [
    {
     "name": "stdout",
     "output_type": "stream",
     "text": [
      "root\n",
      " |-- ID: integer (nullable = true)\n",
      " |-- Text: string (nullable = true)\n",
      " |-- Label: string (nullable = true)\n",
      " |-- tokens: array (nullable = true)\n",
      " |    |-- element: string (containsNull = true)\n",
      "\n"
     ]
    }
   ],
   "source": [
    "df.printSchema()"
   ]
  },
  {
   "cell_type": "code",
   "execution_count": 19,
   "id": "856c750d",
   "metadata": {},
   "outputs": [
    {
     "name": "stderr",
     "output_type": "stream",
     "text": [
      "\r",
      "[Stage 22:>                                                         (0 + 1) / 1]\r"
     ]
    },
    {
     "name": "stdout",
     "output_type": "stream",
     "text": [
      "+---+---------------------------------------------------------------------------------------------------------------------------------------------------------------------------------------------------------------------------------------------------------------------------------------------------------------------------------------------------------------------------------------------------------------------------------------------------------------------------------------------------------------------------------------------------------------------------------------------------------------------------------------------------------------------------------------------------------------------------------------------------------------------------------------------------------------------------------------------------------------------------------------------------------------------------------------------------------------------------------------------------------------------------------------------------------------------------------------------------------------------------------------------------------------------------------------------------------------------------------------------------------------------------------------------------------------------------------------------------------------------------------------------+-----------+\n",
      "|ID |padded_tokens                                                                                                                                                                                                                                                                                                                                                                                                                                                                                                                                                                                                                                                                                                                                                                                                                                                                                                                                                                                                                                                                                                                                                                                                                                                                                                                                                                                |Label      |\n",
      "+---+---------------------------------------------------------------------------------------------------------------------------------------------------------------------------------------------------------------------------------------------------------------------------------------------------------------------------------------------------------------------------------------------------------------------------------------------------------------------------------------------------------------------------------------------------------------------------------------------------------------------------------------------------------------------------------------------------------------------------------------------------------------------------------------------------------------------------------------------------------------------------------------------------------------------------------------------------------------------------------------------------------------------------------------------------------------------------------------------------------------------------------------------------------------------------------------------------------------------------------------------------------------------------------------------------------------------------------------------------------------------------------------------+-----------+\n",
      "|2  |[ex, wife, threatening, suiciderecently, i, left, my, wife, for, good, because, she, has, cheated, on, me, twice, and, lied, to, me, so, much, that, i, have, decided, to, refuse, to, go, back, to, her., as, of, a, few, days, ago,, she, began, threatening, suicide., i, have, tirelessly, spent, these, paat, few, days, talking, her, out, of, it, and, she, keeps, hesitating, because, she, wants, to, believe, i'll, come, back., i, know, a, lot, of, people, will, threaten, this, in, order, to, get, their, way,, but, what, happens, if, she, really, does?, what, do, i, do, and, how, am, i, supposed, to, handle, her, death, on, my, hands?, i, still, love, my, wife, but, i, cannot, deal, with, getting, cheated, on, again, and, constantly, feeling, insecure., i'm, worried, today, may, be, the, day, she, does, it, and, i, hope, so, much, it, doesn't, happen.]                                                                                                                                                                                                                                                                                                                                                                                                                                                                                                  |suicide    |\n",
      "|3  |[am, i, weird, i, don't, get, affected, by, compliments, if, it's, coming, from, someone, i, know, irl, but, i, feel, really, good, when, internet, strangers, do, it, , , , , , , , , , , , , , , , , , , , , , , ]                                                                                                                                                                                                                                                                                                                                                                                                                                                                                                                                                                                                                                                                                                                                                                                                                                                                                                                                                                                                                                                                                                                                                                         |non-suicide|\n",
      "|4  |[\"finally, 2020, is, almost, over..., so, i, can, never, hear, \"\"2020, has, been, a, bad, year\"\", ever, again., i, swear, to, fucking, god, it's, so, annoying\", , , , , , , , , , , , , , , , , , , , , , , , ]                                                                                                                                                                                                                                                                                                                                                                                                                                                                                                                                                                                                                                                                                                                                                                                                                                                                                                                                                                                                                                                                                                                                                                             |non-suicide|\n",
      "|8  |[i, need, helpjust, help, me, im, crying, so, hard, , , , , , , , , , , , , , , , , , , , , , , , , , , , , , , , , , , , , , , , , ]                                                                                                                                                                                                                                                                                                                                                                                                                                                                                                                                                                                                                                                                                                                                                                                                                                                                                                                                                                                                                                                                                                                                                                                                                                                        |suicide    |\n",
      "|18 |[my, life, is, over, at, 20, years, oldhello, all., i, am, a, 20, year, old, balding, male., my, hairline, is, trash, and, to, make, matters, worse, my, head, is, huge., i, have, bipolar,, depression, and, crippling, social, anxiety., balding, has, been, the, cherry, on, top., i, wear, a, hat, 24/7, even, in, my, room, when, i’m, alone, because, i, can’t, stop, thinking, about, it., i, pop, xanax, all, day, to, try, and, numb, the, pain, and, it, works, for, a, little, bit, but, it, all, comes, crashing, back, twice, as, hard, once, i, come, down., i, don’t, know, how, to, communicate, with, people, anymore, and, i, don’t, know, how, to, keep, a, relationship., i, used, to, be, one, of, the, “popular, kids”, but, after, my, dad, passed, away, i, feel, into, a, deep, dark, hole., i’ve, been, arrested, numerous, times,, been, in, rehab,, mental, hospitals,, you, name, it., the, only, reason, i, haven’t, killed, myself, yet, is, because, of, my, mom, and, brothers., if, i, didn’t, have, them, i’d, be, dead, long, ago., but, it’s, getting, to, the, point, where, even, their, love, and, support, isn’t, going, to, be, enough, to, keep, me, alive, anymore., i’m, either, going, to, be, the, guy, who, killed, himself,, or, the, guy, who, went, bald, and, 20, and, looks, like, a, child, molestor., which, one, would, you, choose?]|suicide    |\n",
      "+---+---------------------------------------------------------------------------------------------------------------------------------------------------------------------------------------------------------------------------------------------------------------------------------------------------------------------------------------------------------------------------------------------------------------------------------------------------------------------------------------------------------------------------------------------------------------------------------------------------------------------------------------------------------------------------------------------------------------------------------------------------------------------------------------------------------------------------------------------------------------------------------------------------------------------------------------------------------------------------------------------------------------------------------------------------------------------------------------------------------------------------------------------------------------------------------------------------------------------------------------------------------------------------------------------------------------------------------------------------------------------------------------------+-----------+\n",
      "only showing top 5 rows\n",
      "\n"
     ]
    },
    {
     "name": "stderr",
     "output_type": "stream",
     "text": [
      "\r",
      "                                                                                \r"
     ]
    }
   ],
   "source": [
    "# Define the maximum sequence length you want\n",
    "max_sequence_length = 50\n",
    "\n",
    "# Define a function to pad sequences\n",
    "def pad_sequence(tokens, length):\n",
    "    return tokens + [\"\"] * (length - len(tokens))\n",
    "\n",
    "# Create a UDF to apply the padding function\n",
    "pad_udf = F.udf(lambda tokens: pad_sequence(tokens, max_sequence_length), T.ArrayType(T.StringType()))\n",
    "\n",
    "# Apply the UDF to pad the sequences\n",
    "df = df.withColumn(\"padded_tokens\", pad_udf(df[\"tokens\"]))\n",
    "\n",
    "# Select the relevant columns: ID, padded_tokens, and Label\n",
    "final_df = df.select(\"ID\", \"padded_tokens\", \"Label\")\n",
    "\n",
    "# Show the resulting DataFrame\n",
    "final_df.show(5, truncate=False)"
   ]
  },
  {
   "cell_type": "code",
   "execution_count": 20,
   "id": "39a32115",
   "metadata": {},
   "outputs": [
    {
     "name": "stdout",
     "output_type": "stream",
     "text": [
      "+---+--------------------+-----------+\n",
      "| ID|       padded_tokens|      Label|\n",
      "+---+--------------------+-----------+\n",
      "|  2|[ex, wife, threat...|    suicide|\n",
      "|  3|[am, i, weird, i,...|non-suicide|\n",
      "|  4|[\"finally, 2020, ...|non-suicide|\n",
      "|  8|[i, need, helpjus...|    suicide|\n",
      "| 18|[my, life, is, ov...|    suicide|\n",
      "+---+--------------------+-----------+\n",
      "only showing top 5 rows\n",
      "\n"
     ]
    }
   ],
   "source": [
    "final_df.show(5, truncate=True)"
   ]
  },
  {
   "cell_type": "code",
   "execution_count": 21,
   "id": "e6fbd179",
   "metadata": {},
   "outputs": [
    {
     "name": "stderr",
     "output_type": "stream",
     "text": [
      "                                                                                \r"
     ]
    },
    {
     "name": "stdout",
     "output_type": "stream",
     "text": [
      "+---+--------------------+-----------+--------------------+--------------------+----------+\n",
      "| ID|                Text|      Label|              tokens|       padded_tokens|LabelIndex|\n",
      "+---+--------------------+-----------+--------------------+--------------------+----------+\n",
      "|  2|Ex Wife Threateni...|    suicide|[ex, wife, threat...|[ex, wife, threat...|       1.0|\n",
      "|  3|Am I weird I don'...|non-suicide|[am, i, weird, i,...|[am, i, weird, i,...|       0.0|\n",
      "+---+--------------------+-----------+--------------------+--------------------+----------+\n",
      "only showing top 2 rows\n",
      "\n"
     ]
    }
   ],
   "source": [
    "# Initialize the StringIndexer\n",
    "label_indexer = StringIndexer(inputCol=\"Label\", outputCol=\"LabelIndex\")\n",
    "\n",
    "# Fit the StringIndexer on your DataFrame\n",
    "indexed_df = label_indexer.fit(df).transform(df)\n",
    "\n",
    "# Show the resulting DataFrame\n",
    "indexed_df.show(2, truncate=True)"
   ]
  },
  {
   "cell_type": "code",
   "execution_count": 22,
   "id": "dd7dfac6",
   "metadata": {},
   "outputs": [],
   "source": [
    "# Define Word2Vec parameters\n",
    "word2vec = Word2Vec(\n",
    "    vectorSize=100,       # Set the size of the word vectors\n",
    "    seed=42,              # Set a seed for reproducibility\n",
    "    inputCol=\"padded_tokens\",  # Specify the input column with your tokenized and padded text\n",
    "    outputCol=\"word_vectors\"   # Specify the output column for word vectors\n",
    ")"
   ]
  },
  {
   "cell_type": "code",
   "execution_count": 23,
   "id": "af5e6f4a",
   "metadata": {},
   "outputs": [
    {
     "name": "stderr",
     "output_type": "stream",
     "text": [
      "                                                                                \r"
     ]
    }
   ],
   "source": [
    "# Train the Word2Vec model\n",
    "word2vec_model = word2vec.fit(indexed_df)"
   ]
  },
  {
   "cell_type": "code",
   "execution_count": 24,
   "id": "fd57cbc8",
   "metadata": {},
   "outputs": [],
   "source": [
    "# Transform the DataFrame to include word vectors\n",
    "df = word2vec_model.transform(indexed_df)"
   ]
  },
  {
   "cell_type": "code",
   "execution_count": 25,
   "id": "fa25af82",
   "metadata": {},
   "outputs": [
    {
     "name": "stdout",
     "output_type": "stream",
     "text": [
      "+---+--------------------+-------+--------------------+--------------------+----------+--------------------+\n",
      "| ID|                Text|  Label|              tokens|       padded_tokens|LabelIndex|        word_vectors|\n",
      "+---+--------------------+-------+--------------------+--------------------+----------+--------------------+\n",
      "|  2|Ex Wife Threateni...|suicide|[ex, wife, threat...|[ex, wife, threat...|       1.0|[0.15129990431958...|\n",
      "+---+--------------------+-------+--------------------+--------------------+----------+--------------------+\n",
      "only showing top 1 row\n",
      "\n"
     ]
    }
   ],
   "source": [
    "df.show(1, truncate=True)"
   ]
  },
  {
   "cell_type": "code",
   "execution_count": 26,
   "id": "f84ff2a7",
   "metadata": {},
   "outputs": [],
   "source": [
    "# Initialize the StandardScaler\n",
    "scaler = StandardScaler(inputCol=\"word_vectors\", outputCol=\"scaled_word_vectors\", withMean=True, withStd=True)"
   ]
  },
  {
   "cell_type": "code",
   "execution_count": 27,
   "id": "105fd5ac",
   "metadata": {},
   "outputs": [],
   "source": [
    "# Create a Pipeline to apply the scaler\n",
    "pipeline = Pipeline(stages=[scaler])"
   ]
  },
  {
   "cell_type": "code",
   "execution_count": 28,
   "id": "a4c72ad7",
   "metadata": {},
   "outputs": [
    {
     "name": "stderr",
     "output_type": "stream",
     "text": [
      "                                                                                \r"
     ]
    }
   ],
   "source": [
    "# Fit and transform the DataFrame using the pipeline\n",
    "scaled_df = pipeline.fit(df).transform(df)"
   ]
  },
  {
   "cell_type": "code",
   "execution_count": 29,
   "id": "47240faa",
   "metadata": {},
   "outputs": [
    {
     "name": "stdout",
     "output_type": "stream",
     "text": [
      "+---+--------------------+-----------+--------------------+--------------------+----------+--------------------+--------------------+\n",
      "| ID|                Text|      Label|              tokens|       padded_tokens|LabelIndex|        word_vectors| scaled_word_vectors|\n",
      "+---+--------------------+-----------+--------------------+--------------------+----------+--------------------+--------------------+\n",
      "|  2|Ex Wife Threateni...|    suicide|[ex, wife, threat...|[ex, wife, threat...|       1.0|[0.15129990431958...|[1.20124083637301...|\n",
      "|  3|Am I weird I don'...|non-suicide|[am, i, weird, i,...|[am, i, weird, i,...|       0.0|[-0.0481562759727...|[-0.1914851304084...|\n",
      "|  4|\"Finally 2020 is ...|non-suicide|[\"finally, 2020, ...|[\"finally, 2020, ...|       0.0|[-0.0920528553985...|[-0.4979980994705...|\n",
      "|  8|i need helpjust h...|    suicide|[i, need, helpjus...|[i, need, helpjus...|       1.0|[-0.1856799309793...|[-1.1517600393823...|\n",
      "| 18|My life is over a...|    suicide|[my, life, is, ov...|[my, life, is, ov...|       1.0|[0.08548574968933...|[0.74168585040570...|\n",
      "+---+--------------------+-----------+--------------------+--------------------+----------+--------------------+--------------------+\n",
      "only showing top 5 rows\n",
      "\n"
     ]
    }
   ],
   "source": [
    "scaled_df.show(5, truncate=True)"
   ]
  },
  {
   "cell_type": "code",
   "execution_count": 30,
   "id": "e7224435",
   "metadata": {},
   "outputs": [
    {
     "name": "stdout",
     "output_type": "stream",
     "text": [
      "root\n",
      " |-- ID: integer (nullable = true)\n",
      " |-- Text: string (nullable = true)\n",
      " |-- Label: string (nullable = true)\n",
      " |-- tokens: array (nullable = true)\n",
      " |    |-- element: string (containsNull = true)\n",
      " |-- padded_tokens: array (nullable = true)\n",
      " |    |-- element: string (containsNull = true)\n",
      " |-- LabelIndex: double (nullable = false)\n",
      " |-- word_vectors: vector (nullable = true)\n",
      " |-- scaled_word_vectors: vector (nullable = true)\n",
      "\n"
     ]
    }
   ],
   "source": [
    "scaled_df.printSchema()"
   ]
  },
  {
   "cell_type": "code",
   "execution_count": 31,
   "id": "6bb67b87",
   "metadata": {},
   "outputs": [
    {
     "name": "stderr",
     "output_type": "stream",
     "text": [
      "                                                                                \r"
     ]
    }
   ],
   "source": [
    "# Extract relevant columns\n",
    "scaled_word_vectors = scaled_df.select(\"scaled_word_vectors\").rdd.flatMap(lambda x: x).collect()\n",
    "labels = scaled_df.select(\"LabelIndex\").rdd.flatMap(lambda x: x).collect()"
   ]
  },
  {
   "cell_type": "code",
   "execution_count": 32,
   "id": "e022fca3",
   "metadata": {},
   "outputs": [],
   "source": [
    "# Convert scaled_word_vectors to NumPy array\n",
    "X = np.array(scaled_word_vectors)"
   ]
  },
  {
   "cell_type": "code",
   "execution_count": 33,
   "id": "1b39a3b7",
   "metadata": {},
   "outputs": [],
   "source": [
    "# Convert labels to NumPy array\n",
    "y = np.array(labels)"
   ]
  },
  {
   "cell_type": "code",
   "execution_count": 34,
   "id": "e180fee0",
   "metadata": {},
   "outputs": [],
   "source": [
    "# Split data into training and validation sets\n",
    "X_train, X_validation, y_train, y_validation = train_test_split(X, y, test_size=0.2, random_state=42)"
   ]
  },
  {
   "cell_type": "code",
   "execution_count": 35,
   "id": "68bca390",
   "metadata": {},
   "outputs": [],
   "source": [
    "# Convert NumPy arrays to PyTorch tensors for training and validation sets\n",
    "X_train = torch.tensor(X_train, dtype=torch.float32)\n",
    "X_validation = torch.tensor(X_validation, dtype=torch.float32)\n",
    "y_train = torch.tensor(y_train, dtype=torch.float32)\n",
    "y_validation = torch.tensor(y_validation, dtype=torch.float32)"
   ]
  },
  {
   "cell_type": "code",
   "execution_count": 36,
   "id": "ba91b355",
   "metadata": {},
   "outputs": [],
   "source": [
    "# Define the RNN model using PyTorch\n",
    "class RNNModel(nn.Module):\n",
    "    def __init__(self, input_size, hidden_size, output_size):\n",
    "        super(RNNModel, self).__init__()\n",
    "        self.lstm = nn.LSTM(input_size, hidden_size)\n",
    "        self.fc = nn.Linear(hidden_size, output_size)\n",
    "    \n",
    "    def forward(self, x):\n",
    "        out, _ = self.lstm(x)\n",
    "        out = self.fc(out[:, -1, :])  # Use the last LSTM output\n",
    "        return out"
   ]
  },
  {
   "cell_type": "code",
   "execution_count": 37,
   "id": "e442a7e9",
   "metadata": {},
   "outputs": [],
   "source": [
    "# Model configuration\n",
    "input_size = X_train.shape[1]\n",
    "hidden_size = 100\n",
    "output_size = 1  # Binary classification\n",
    "model = RNNModel(input_size, hidden_size, output_size)"
   ]
  },
  {
   "cell_type": "code",
   "execution_count": 38,
   "id": "560858cc",
   "metadata": {},
   "outputs": [],
   "source": [
    "# Define loss function and optimizer\n",
    "criterion = nn.BCEWithLogitsLoss()\n",
    "optimizer = optim.Adam(model.parameters(), lr=0.001)"
   ]
  },
  {
   "cell_type": "code",
   "execution_count": 39,
   "id": "d4e645ea",
   "metadata": {},
   "outputs": [],
   "source": [
    "# Training parameters\n",
    "num_epochs, batch_size, verbose = 20, 32, 1"
   ]
  },
  {
   "cell_type": "code",
   "execution_count": 40,
   "id": "ce487683",
   "metadata": {},
   "outputs": [],
   "source": [
    "# Prepare DataLoaders for training and validation\n",
    "train_dataset = TensorDataset(X_train.unsqueeze(1), y_train)\n",
    "train_loader = DataLoader(train_dataset, batch_size=batch_size, shuffle=True)\n",
    "\n",
    "validation_dataset = TensorDataset(X_validation.unsqueeze(1), y_validation)\n",
    "validation_loader = DataLoader(validation_dataset, batch_size=batch_size, shuffle=False)\n"
   ]
  },
  {
   "cell_type": "code",
   "execution_count": 41,
   "id": "c9f4a8e5",
   "metadata": {},
   "outputs": [],
   "source": [
    "# Initialize lists to store training and validation losses\n",
    "train_losses = []       # List to store training losses\n",
    "validation_losses = []  # List to store validation losses\n",
    "train_accuracies = []   # List to store training accuracies\n",
    "validation_accuracies = []  # List to store validation accuracies"
   ]
  },
  {
   "cell_type": "code",
   "execution_count": 42,
   "id": "5c8d5725",
   "metadata": {},
   "outputs": [
    {
     "name": "stdout",
     "output_type": "stream",
     "text": [
      "Epoch 1/20: Training Loss: 0.2653946384576845, Training Accuracy: 0.8924625818971315\n",
      "Epoch 1/20: Validation Loss: 0.23061785503938173, Validation Accuracy: 0.9083922533046419\n",
      "Epoch 2/20: Training Loss: 0.23593121435856254, Training Accuracy: 0.9057486502584203\n",
      "Epoch 2/20: Validation Loss: 0.22437751514228468, Validation Accuracy: 0.9103135567168767\n",
      "Epoch 3/20: Training Loss: 0.22655495889816987, Training Accuracy: 0.9099563855745768\n",
      "Epoch 3/20: Validation Loss: 0.21259304243357308, Validation Accuracy: 0.9156547802028896\n",
      "Epoch 4/20: Training Loss: 0.22105317463416377, Training Accuracy: 0.9116951985705228\n",
      "Epoch 4/20: Validation Loss: 0.2119484005646931, Validation Accuracy: 0.9145788502920381\n",
      "Epoch 5/20: Training Loss: 0.2162323368348518, Training Accuracy: 0.9141449074874632\n",
      "Epoch 5/20: Validation Loss: 0.22092986179868113, Validation Accuracy: 0.912426990470335\n",
      "Epoch 6/20: Training Loss: 0.21253393135181564, Training Accuracy: 0.9159509673948546\n",
      "Epoch 6/20: Validation Loss: 0.20544331594935505, Validation Accuracy: 0.9185751613894866\n",
      "Epoch 7/20: Training Loss: 0.20918667540893238, Training Accuracy: 0.9171902319057774\n",
      "Epoch 7/20: Validation Loss: 0.2047861196965675, Validation Accuracy: 0.9197663695050723\n",
      "Epoch 8/20: Training Loss: 0.2058211000830329, Training Accuracy: 0.9183238226987146\n",
      "Epoch 8/20: Validation Loss: 0.20403392203220827, Validation Accuracy: 0.9179219182293268\n",
      "Epoch 9/20: Training Loss: 0.2038094601435017, Training Accuracy: 0.9191596057409649\n",
      "Epoch 9/20: Validation Loss: 0.20859934740610586, Validation Accuracy: 0.9168075622502305\n",
      "Epoch 10/20: Training Loss: 0.20037800160486022, Training Accuracy: 0.9208503852287355\n",
      "Epoch 10/20: Validation Loss: 0.20427487543909936, Validation Accuracy: 0.918267752843529\n",
      "Epoch 11/20: Training Loss: 0.1985631666186014, Training Accuracy: 0.9216189213595404\n",
      "Epoch 11/20: Validation Loss: 0.20148746806130508, Validation Accuracy: 0.9203427605287428\n",
      "Epoch 12/20: Training Loss: 0.19614345408103445, Training Accuracy: 0.922022402828213\n",
      "Epoch 12/20: Validation Loss: 0.20046646285948574, Validation Accuracy: 0.9206117430064555\n",
      "Epoch 13/20: Training Loss: 0.1942302086263153, Training Accuracy: 0.9229158260802736\n",
      "Epoch 13/20: Validation Loss: 0.20798344436245775, Validation Accuracy: 0.9189594220719336\n",
      "Epoch 14/20: Training Loss: 0.19195954258219575, Training Accuracy: 0.9241454838895613\n",
      "Epoch 14/20: Validation Loss: 0.20509848918957999, Validation Accuracy: 0.9193821088226253\n",
      "Epoch 15/20: Training Loss: 0.18931877096989522, Training Accuracy: 0.9255768824331854\n",
      "Epoch 15/20: Validation Loss: 0.21077863226990223, Validation Accuracy: 0.915347371656932\n",
      "Epoch 16/20: Training Loss: 0.18747435939918242, Training Accuracy: 0.9260187907083982\n",
      "Epoch 16/20: Validation Loss: 0.20660737744493626, Validation Accuracy: 0.9189209960036889\n",
      "Epoch 17/20: Training Loss: 0.1856455284646345, Training Accuracy: 0.9263454185639902\n",
      "Epoch 17/20: Validation Loss: 0.21199259070876336, Validation Accuracy: 0.9160390408853366\n",
      "Epoch 18/20: Training Loss: 0.18274533620079572, Training Accuracy: 0.927892097527235\n",
      "Epoch 18/20: Validation Loss: 0.2028915338305166, Validation Accuracy: 0.9194589609591146\n",
      "Epoch 19/20: Training Loss: 0.18052628629116865, Training Accuracy: 0.9293523161757642\n",
      "Epoch 19/20: Validation Loss: 0.20423167446257515, Validation Accuracy: 0.9192668306178912\n",
      "Epoch 20/20: Training Loss: 0.17884243016302714, Training Accuracy: 0.9292562491594136\n",
      "Epoch 20/20: Validation Loss: 0.20752708262624334, Validation Accuracy: 0.9188057177989548\n"
     ]
    }
   ],
   "source": [
    "for epoch in range(num_epochs):\n",
    "    train_total_loss, train_correct_predictions = 0.0, 0\n",
    "    validation_total_loss, validation_correct_predictions = 0.0, 0\n",
    "\n",
    "    # Training loop\n",
    "    model.train()  # Set the model in training mode\n",
    "    \n",
    "    for inputs, labels in train_loader:\n",
    "        optimizer.zero_grad()\n",
    "        outputs = model(inputs)\n",
    "        loss = criterion(outputs.squeeze(), labels)\n",
    "        loss.backward()\n",
    "        optimizer.step()\n",
    "        \n",
    "        train_total_loss += loss.item()\n",
    "        predicted = (torch.sigmoid(outputs) > 0.5).float()\n",
    "        train_correct_predictions += (predicted.squeeze() == labels).sum().item()\n",
    "    \n",
    "    average_train_loss = train_total_loss / len(train_loader)\n",
    "    train_accuracy = train_correct_predictions / len(train_dataset)\n",
    "    \n",
    "    train_losses.append(average_train_loss)  # Append training loss for this epoch\n",
    "    train_accuracies.append(train_accuracy)  # Append training accuracy for this epoch\n",
    "    \n",
    "    if verbose:\n",
    "        print(f\"Epoch {epoch + 1}/{num_epochs}: Training Loss: {average_train_loss}, Training Accuracy: {train_accuracy}\")\n",
    "    \n",
    "    # Validation loop\n",
    "    model.eval()  # Set the model in evaluation mode\n",
    "    \n",
    "    with torch.no_grad():\n",
    "        for inputs, labels in validation_loader:\n",
    "            outputs = model(inputs)\n",
    "            loss = criterion(outputs.squeeze(), labels)\n",
    "            validation_total_loss += loss.item()\n",
    "            \n",
    "            predicted = (torch.sigmoid(outputs) > 0.5).float()\n",
    "            validation_correct_predictions += (predicted.squeeze() == labels).sum().item()\n",
    "    \n",
    "    average_validation_loss = validation_total_loss / len(validation_loader)\n",
    "    validation_accuracy = validation_correct_predictions / len(validation_dataset)\n",
    "    \n",
    "    validation_losses.append(average_validation_loss)  # Append validation loss for this epoch\n",
    "    validation_accuracies.append(validation_accuracy)  # Append validation accuracy for this epoch\n",
    "    \n",
    "    if verbose:\n",
    "        print(f\"Epoch {epoch + 1}/{num_epochs}: Validation Loss: {average_validation_loss}, Validation Accuracy: {validation_accuracy}\")"
   ]
  },
  {
   "cell_type": "code",
   "execution_count": 43,
   "id": "33f82b40",
   "metadata": {},
   "outputs": [
    {
     "data": {
      "image/png": "[encoded data removed]",
      "text/plain": [
       "<Figure size 1008x432 with 2 Axes>"
      ]
     },
     "metadata": {},
     "output_type": "display_data"
    }
   ],
   "source": [
    "sns.set(style=\"whitegrid\")\n",
    "\n",
    "fig, (ax1, ax2) = plt.subplots(1, 2, figsize=(14, 6))\n",
    "\n",
    "# Plot training and validation accuracy\n",
    "for data, label, color in [(train_accuracies, 'Training Accuracy', 'b'), (validation_accuracies, 'Validation Accuracy', 'r')]:\n",
    "    ax1.plot(data, label=label, color=color)\n",
    "\n",
    "ax1.set_xlabel('Epochs')\n",
    "ax1.set_ylabel('Accuracy')\n",
    "ax1.set_title('Training and Validation Accuracy Over Epochs')\n",
    "ax1.legend(loc='lower right')\n",
    "\n",
    "# Set Y-axis ticks starting from 0.20 to 0.3 with increments of 0.05\n",
    "ax1.set_yticks([0.89 + 0.02 * i for i in range(3)])\n",
    "ax1.set_xticks([0 + 1 * i for i in range(21)])\n",
    "\n",
    "# Plot training and validation loss\n",
    "epochs = range(1, num_epochs + 1)\n",
    "for data, label in [(train_losses, 'Training Loss'), (validation_losses, 'Validation Loss')]:\n",
    "    ax2.plot(epochs, data, label=label)\n",
    "\n",
    "ax2.set_xlabel('Epochs')\n",
    "ax2.set_ylabel('Loss')\n",
    "ax2.set_title('Training and Validation Loss')\n",
    "ax2.legend()\n",
    "ax2.grid(True)\n",
    "\n",
    "# Set Y-axis and X-axis ticks starting from 0.20 to 0.3 with increments of 0.05\n",
    "ax2.set_yticks([0.20 + 0.02 * i for i in range(5)])\n",
    "ax2.set_xticks([0 + 1 * i for i in range(21)])\n",
    "\n",
    "plt.tight_layout()  # Ensures proper spacing between subplots\n",
    "plt.show()"
   ]
  },
  {
   "cell_type": "code",
   "execution_count": 44,
   "id": "93552db0",
   "metadata": {},
   "outputs": [],
   "source": [
    "# Split your data into training and testing sets\n",
    "X_train, X_test, y_train, y_test = train_test_split(X, y, test_size=0.2, random_state=42)"
   ]
  },
  {
   "cell_type": "code",
   "execution_count": 45,
   "id": "b4249df9",
   "metadata": {},
   "outputs": [],
   "source": [
    "# Create a test dataset using your X_test and y_test\n",
    "test_dataset = TensorDataset(torch.tensor(X_test, dtype=torch.float32), torch.tensor(y_test, dtype=torch.float32))"
   ]
  },
  {
   "cell_type": "code",
   "execution_count": 46,
   "id": "bcab5059",
   "metadata": {},
   "outputs": [],
   "source": [
    "test_loader = DataLoader(test_dataset, batch_size=batch_size, shuffle=False)\n",
    "\n",
    "# Initialize variables to store true labels and predicted labels\n",
    "true_labels = []\n",
    "predicted_labels = []\n",
    "\n",
    "# Set the model in evaluation mode\n",
    "model.eval()\n",
    "\n",
    "# Initialize lists to store test losses and correct predictions\n",
    "test_losses = []\n",
    "correct_predictions = 0\n",
    "\n",
    "# Testing the Model and Calculating Metrics with PyTorch\n",
    "with torch.no_grad():\n",
    "    for inputs, labels in test_loader:\n",
    "        # Reshape inputs to match the model's input requirements\n",
    "        inputs = inputs.unsqueeze(1)  # Add a sequence length dimension\n",
    "        \n",
    "        # Forward pass\n",
    "        outputs = model(inputs)\n",
    "        \n",
    "        # Calculate test loss\n",
    "        test_loss = criterion(outputs.squeeze(), labels)\n",
    "        test_losses.append(test_loss.item())\n",
    "        \n",
    "        # Calculate predictions and accuracy\n",
    "        predicted = (torch.sigmoid(outputs) > 0.5).float()\n",
    "        correct_predictions += (predicted.squeeze() == labels).sum().item()\n",
    "        \n",
    "        # Append true labels and predicted labels to the lists\n",
    "        true_labels.extend(labels.cpu().numpy())\n",
    "        predicted_labels.extend(predicted.cpu().numpy())"
   ]
  },
  {
   "cell_type": "code",
   "execution_count": 47,
   "id": "811a76d9",
   "metadata": {},
   "outputs": [],
   "source": [
    "# Calculate average test loss and accuracy\n",
    "test_average_loss = sum(test_losses) / len(test_losses)\n",
    "test_accuracy = correct_predictions / len(test_dataset)"
   ]
  },
  {
   "cell_type": "code",
   "execution_count": 48,
   "id": "31c222d8",
   "metadata": {},
   "outputs": [
    {
     "name": "stdout",
     "output_type": "stream",
     "text": [
      "Test Loss: 0.20752708262624334, Test Accuracy: 0.9188057177989548\n"
     ]
    }
   ],
   "source": [
    "# Print test results and confusion matrix\n",
    "print(f\"Test Loss: {test_average_loss}, Test Accuracy: {test_accuracy}\")"
   ]
  },
  {
   "cell_type": "code",
   "execution_count": 49,
   "id": "d74fd6ff",
   "metadata": {
    "scrolled": false
   },
   "outputs": [
    {
     "name": "stdout",
     "output_type": "stream",
     "text": [
      "+--------------------+\n",
      "|                Text|\n",
      "+--------------------+\n",
      "|I'm feeling reall...|\n",
      "|Had a great day a...|\n",
      "|Life is so hard, ...|\n",
      "|Just got a promot...|\n",
      "+--------------------+\n",
      "\n"
     ]
    }
   ],
   "source": [
    "# Pandas dataframe just for the create a manual dataset and make prediction\n",
    "import pandas as pd\n",
    "\n",
    "# Manually create a list of text samples\n",
    "text_samples = [\n",
    "    \"I'm feeling really down today. I can't take it anymore.\",\n",
    "    \"Had a great day at the park with my friends!\",\n",
    "    \"Life is so hard, and I don't see a way out.\",\n",
    "    \"Just got a promotion at work! Feeling on top of the world!\",\n",
    "]\n",
    "\n",
    "# Create a DataFrame with the text samples\n",
    "manual_df = spark.createDataFrame([(text,) for text in text_samples], [\"Text\"])\n",
    "\n",
    "# Show the DataFrame\n",
    "manual_df.show()"
   ]
  },
  {
   "cell_type": "code",
   "execution_count": 50,
   "id": "805a1e18",
   "metadata": {},
   "outputs": [
    {
     "name": "stdout",
     "output_type": "stream",
     "text": [
      "                                                Text        Label\n",
      "0  I'm feeling really down today. I can't take it...      suicide\n",
      "1       Had a great day at the park with my friends!  non-suicide\n",
      "2        Life is so hard, and I don't see a way out.      suicide\n",
      "3  Just got a promotion at work! Feeling on top o...  non-suicide\n"
     ]
    }
   ],
   "source": [
    "# Create another DataFrame with labels to compare after the prediction.\n",
    "# This dataset has not seen by the model. It's just for visualisation\n",
    "labels = [\"suicide\", \"non-suicide\", \"suicide\", \"non-suicide\"]\n",
    "\n",
    "data = {\n",
    "    \"Text\": text_samples,\n",
    "    \"Label\": labels\n",
    "}\n",
    "\n",
    "labeled_df = pd.DataFrame(data)\n",
    "\n",
    "print(labeled_df)"
   ]
  },
  {
   "cell_type": "code",
   "execution_count": 51,
   "id": "316b7ab7",
   "metadata": {},
   "outputs": [
    {
     "name": "stdout",
     "output_type": "stream",
     "text": [
      "+----------------------------------------------------------+-----------------------------------------------------------------------+---------------------------------------------------------------------------------------------------------------------------------------------------+\n",
      "|Text                                                      |tokens                                                                 |padded_tokens                                                                                                                                      |\n",
      "+----------------------------------------------------------+-----------------------------------------------------------------------+---------------------------------------------------------------------------------------------------------------------------------------------------+\n",
      "|I'm feeling really down today. I can't take it anymore.   |[i'm, feeling, really, down, today., i, can't, take, it, anymore.]     |[i'm, feeling, really, down, today., i, can't, take, it, anymore., , , , , , , , , , , , , , , , , , , , , , , , , , , , , , , , , , , , , , , , ] |\n",
      "|Had a great day at the park with my friends!              |[had, a, great, day, at, the, park, with, my, friends!]                |[had, a, great, day, at, the, park, with, my, friends!, , , , , , , , , , , , , , , , , , , , , , , , , , , , , , , , , , , , , , , , ]            |\n",
      "|Life is so hard, and I don't see a way out.               |[life, is, so, hard,, and, i, don't, see, a, way, out.]                |[life, is, so, hard,, and, i, don't, see, a, way, out., , , , , , , , , , , , , , , , , , , , , , , , , , , , , , , , , , , , , , , ]              |\n",
      "|Just got a promotion at work! Feeling on top of the world!|[just, got, a, promotion, at, work!, feeling, on, top, of, the, world!]|[just, got, a, promotion, at, work!, feeling, on, top, of, the, world!, , , , , , , , , , , , , , , , , , , , , , , , , , , , , , , , , , , , , , ]|\n",
      "+----------------------------------------------------------+-----------------------------------------------------------------------+---------------------------------------------------------------------------------------------------------------------------------------------------+\n",
      "\n"
     ]
    }
   ],
   "source": [
    "# Tokenize the \"Text\" column\n",
    "manual_df = tokenizer.transform(manual_df)\n",
    "\n",
    "# Apply padding to the sequences\n",
    "manual_df = manual_df.withColumn(\"padded_tokens\", pad_udf(manual_df[\"tokens\"]))\n",
    "\n",
    "# Show the preprocessed DataFrame\n",
    "manual_df.show(truncate=False)"
   ]
  },
  {
   "cell_type": "code",
   "execution_count": 52,
   "id": "654ffb14",
   "metadata": {},
   "outputs": [
    {
     "name": "stderr",
     "output_type": "stream",
     "text": [
      "[Stage 49:=============================>                            (4 + 4) / 8]\r"
     ]
    },
    {
     "name": "stdout",
     "output_type": "stream",
     "text": [
      "Predicted Labels for Manual Dataset:\n",
      "Text: 'I'm feeling really down today. I can't take it anymore.' - Predicted Label: suicide\n",
      "Text: 'Had a great day at the park with my friends!' - Predicted Label: non-suicide\n",
      "Text: 'Life is so hard, and I don't see a way out.' - Predicted Label: suicide\n",
      "Text: 'Just got a promotion at work! Feeling on top of the world!' - Predicted Label: non-suicide\n"
     ]
    },
    {
     "name": "stderr",
     "output_type": "stream",
     "text": [
      "\r",
      "[Stage 49:====================================>                     (5 + 3) / 8]\r",
      "\r",
      "                                                                                \r"
     ]
    }
   ],
   "source": [
    "# Transform the DataFrame to include word vectors\n",
    "manual_df = word2vec_model.transform(manual_df)\n",
    "\n",
    "# Apply scaling\n",
    "scaled_manual_df = pipeline.fit(manual_df).transform(manual_df)\n",
    "\n",
    "# Extract relevant columns\n",
    "scaled_word_vectors_manual = scaled_manual_df.select(\"scaled_word_vectors\").rdd.flatMap(lambda x: x).collect()\n",
    "\n",
    "# Convert scaled_word_vectors to NumPy array\n",
    "X_manual = np.array(scaled_word_vectors_manual)\n",
    "\n",
    "# Convert NumPy array to PyTorch tensor\n",
    "X_manual = torch.tensor(X_manual, dtype=torch.float32)\n",
    "\n",
    "# Set the model in evaluation mode\n",
    "model.eval()\n",
    "\n",
    "# Initialize lists to store predicted labels\n",
    "predicted_labels_manual = []\n",
    "\n",
    "# Make predictions on the manual dataset\n",
    "with torch.no_grad():\n",
    "    for inputs in X_manual:\n",
    "        # Reshape inputs to match the model's input requirements\n",
    "        inputs = inputs.unsqueeze(0).unsqueeze(0)  # Add batch and sequence length dimensions\n",
    "        \n",
    "        # Forward pass\n",
    "        outputs = model(inputs)\n",
    "        \n",
    "        # Calculate predictions\n",
    "        predicted = (torch.sigmoid(outputs) > 0.5).float()\n",
    "        predicted_labels_manual.append(predicted.item())\n",
    "\n",
    "# Print the predicted labels\n",
    "print(\"Predicted Labels for Manual Dataset:\")\n",
    "for text, label in zip(text_samples, predicted_labels_manual):\n",
    "    print(f\"Text: '{text}' - Predicted Label: {'suicide' if label == 1 else 'non-suicide'}\")"
   ]
  },
  {
   "cell_type": "code",
   "execution_count": 53,
   "id": "7862cc33",
   "metadata": {},
   "outputs": [
    {
     "data": {
      "image/png": "[encoded data removed]",
      "text/plain": [
       "<Figure size 720x432 with 1 Axes>"
      ]
     },
     "metadata": {},
     "output_type": "display_data"
    }
   ],
   "source": [
    "# Count the occurrences of each label in both DataFrames\n",
    "real_label_counts = labeled_df[\"Label\"].value_counts()\n",
    "\n",
    "# Calculate the counts of predicted labels manually\n",
    "predicted_label_counts = [predicted_labels_manual.count(1), predicted_labels_manual.count(0)]\n",
    "\n",
    "# Create a bar plot to compare the distributions\n",
    "labels = [\"suicide\", \"non-suicide\"]\n",
    "x = np.arange(len(labels))\n",
    "width = 0.35\n",
    "\n",
    "plt.figure(figsize=(10, 6))\n",
    "\n",
    "plt.bar(x - width/2, real_label_counts, width, label='Real Labels', color='blue', alpha=0.7)\n",
    "plt.bar(x + width/2, predicted_label_counts, width, label='Predicted Labels', color='green', alpha=0.7)\n",
    "\n",
    "plt.xlabel('Labels')\n",
    "plt.ylabel('Count')\n",
    "plt.title('Distribution of Real vs. Predicted Labels')\n",
    "plt.xticks(x, labels)\n",
    "plt.legend()\n",
    "plt.yticks([0, 1, 2])\n",
    "\n",
    "plt.show()"
   ]
  },
  {
   "cell_type": "code",
   "execution_count": 56,
   "id": "697eb789",
   "metadata": {},
   "outputs": [
    {
     "name": "stdout",
     "output_type": "stream",
     "text": [
      "Epoch 1/20, Training Loss: 0.7409895062446594, Validation Loss: 0.6700261831283569, Training Accuracy: 0.31812592464503237, Validation Accuracy: 0.640101444820166\n",
      "Epoch 2/20, Training Loss: 0.6707879900932312, Validation Loss: 0.6210072636604309, Training Accuracy: 0.6388744788364363, Validation Accuracy: 0.700122963418383\n",
      "Epoch 3/20, Training Loss: 0.6230310797691345, Validation Loss: 0.5917002558708191, Training Accuracy: 0.6970910907449036, Validation Accuracy: 0.7077313249308331\n",
      "Epoch 4/20, Training Loss: 0.594944953918457, Validation Loss: 0.5770169496536255, Training Accuracy: 0.7036332545583799, Validation Accuracy: 0.7116892099600369\n",
      "Epoch 5/20, Training Loss: 0.5813797116279602, Validation Loss: 0.5711174011230469, Training Accuracy: 0.7070724537437316, Validation Accuracy: 0.7139947740547187\n",
      "Epoch 6/20, Training Loss: 0.5764418840408325, Validation Loss: 0.5689976215362549, Training Accuracy: 0.7094645224508617, Validation Accuracy: 0.7166461727636029\n",
      "Epoch 7/20, Training Loss: 0.5750955939292908, Validation Loss: 0.567269504070282, Training Accuracy: 0.7115491767056699, Validation Accuracy: 0.7185290501075929\n",
      "Epoch 8/20, Training Loss: 0.5739453434944153, Validation Loss: 0.5641157031059265, Training Accuracy: 0.7136050108555728, Validation Accuracy: 0.720680909929296\n",
      "Epoch 9/20, Training Loss: 0.5711853504180908, Validation Loss: 0.5588673949241638, Training Accuracy: 0.7158433723365419, Validation Accuracy: 0.7228327697509991\n",
      "Epoch 10/20, Training Loss: 0.5661677122116089, Validation Loss: 0.5515628457069397, Training Accuracy: 0.7182738678502123, Validation Accuracy: 0.7255225945281278\n",
      "Epoch 11/20, Training Loss: 0.5589549541473389, Validation Loss: 0.5426252484321594, Training Accuracy: 0.7209829577112994, Validation Accuracy: 0.7282508453735014\n",
      "Epoch 12/20, Training Loss: 0.5499941110610962, Validation Loss: 0.5326586961746216, Training Accuracy: 0.7239418218148981, Validation Accuracy: 0.7313249308330771\n",
      "Epoch 13/20, Training Loss: 0.539912223815918, Validation Loss: 0.5223221778869629, Training Accuracy: 0.727256133878994, Validation Accuracy: 0.7355133722717492\n",
      "Epoch 14/20, Training Loss: 0.5293897986412048, Validation Loss: 0.512241780757904, Training Accuracy: 0.7316656099294868, Validation Accuracy: 0.7409314478942515\n",
      "Epoch 15/20, Training Loss: 0.519073486328125, Validation Loss: 0.5029404759407043, Training Accuracy: 0.7360846926816147, Validation Accuracy: 0.7461573931755303\n",
      "Epoch 16/20, Training Loss: 0.5095069408416748, Validation Loss: 0.4947779178619385, Training Accuracy: 0.7418102868561108, Validation Accuracy: 0.7541115893021826\n",
      "Epoch 17/20, Training Loss: 0.5010695457458496, Validation Loss: 0.4879027009010315, Training Accuracy: 0.7486022249120987, Validation Accuracy: 0.7633722717491547\n",
      "Epoch 18/20, Training Loss: 0.4939296543598175, Validation Loss: 0.48222795128822327, Training Accuracy: 0.7584298806847657, Validation Accuracy: 0.7758991699969259\n",
      "Epoch 19/20, Training Loss: 0.4880187213420868, Validation Loss: 0.477445125579834, Training Accuracy: 0.7710338732299652, Validation Accuracy: 0.790232093452198\n",
      "Epoch 20/20, Training Loss: 0.4830450415611267, Validation Loss: 0.4730895459651947, Training Accuracy: 0.7851269045285991, Validation Accuracy: 0.8033738087918845\n",
      "Final Results:\n",
      "Training Loss: 0.4830450415611267, Validation Loss: 0.4730895459651947, Training Accuracy: 0.7851269045285991, Validation Accuracy: 0.8033738087918845\n"
     ]
    }
   ],
   "source": [
    "import numpy as np\n",
    "import torch\n",
    "import torch.nn as nn\n",
    "import torch.optim as optim\n",
    "from sklearn.model_selection import train_test_split\n",
    "from sklearn.metrics import accuracy_score\n",
    "\n",
    "# Split data into training and validation sets\n",
    "X_train, X_validation, y_train, y_validation = train_test_split(X, y, test_size=0.2, random_state=42)\n",
    "\n",
    "# Convert NumPy arrays to PyTorch tensors for training and validation sets\n",
    "X_train = torch.tensor(X_train, dtype=torch.float32)\n",
    "X_validation = torch.tensor(X_validation, dtype=torch.float32)\n",
    "y_train = torch.tensor(y_train, dtype=torch.float32)\n",
    "y_validation = torch.tensor(y_validation, dtype=torch.float32)\n",
    "\n",
    "# Define the Simple RNN model using PyTorch\n",
    "class SimpleRNNModel(nn.Module):\n",
    "    def __init__(self, input_size, hidden_size, output_size):\n",
    "        super(SimpleRNNModel, self).__init__()\n",
    "        self.rnn = nn.RNN(input_size, hidden_size, batch_first=True)\n",
    "        self.fc = nn.Linear(hidden_size, output_size)\n",
    "    \n",
    "    def forward(self, x):\n",
    "        # Add a batch dimension if it's missing\n",
    "        if len(x.shape) == 2:\n",
    "            x = x.unsqueeze(1)\n",
    "        out, _ = self.rnn(x)\n",
    "        out = self.fc(out[:, -1, :])  # Use the last RNN output\n",
    "        return out\n",
    "\n",
    "# Model configuration\n",
    "input_size = X_train.shape[-1]  # Use the last dimension as input size\n",
    "hidden_size = 100\n",
    "output_size = 1  # Binary classification\n",
    "model = SimpleRNNModel(input_size, hidden_size, output_size)\n",
    "\n",
    "# Define loss function and optimizer\n",
    "criterion = nn.BCEWithLogitsLoss()\n",
    "optimizer = optim.Adam(model.parameters(), lr=0.001)\n",
    "\n",
    "# Training parameters\n",
    "num_epochs = 20\n",
    "batch_size = 32\n",
    "\n",
    "# Initialize lists to store training and validation losses, accuracies\n",
    "train_losses = []\n",
    "validation_losses = []\n",
    "train_accuracies = []\n",
    "validation_accuracies = []\n",
    "\n",
    "# Training loop\n",
    "for epoch in range(num_epochs):\n",
    "    model.train()  # Set the model in training mode\n",
    "    optimizer.zero_grad()\n",
    "    \n",
    "    # Forward pass\n",
    "    outputs = model(X_train)\n",
    "    loss = criterion(outputs.squeeze(), y_train)\n",
    "    \n",
    "    # Backward pass and optimization\n",
    "    loss.backward()\n",
    "    optimizer.step()\n",
    "    \n",
    "    # Append training loss\n",
    "    train_losses.append(loss.item())\n",
    "\n",
    "    # Evaluation on validation data\n",
    "    model.eval()  # Set the model in evaluation mode\n",
    "    with torch.no_grad():\n",
    "        # Forward pass on validation data\n",
    "        val_outputs = model(X_validation)\n",
    "        val_loss = criterion(val_outputs.squeeze(), y_validation)\n",
    "        validation_losses.append(val_loss.item())\n",
    "\n",
    "        # Calculate accuracy on training and validation data\n",
    "        train_predictions = (torch.sigmoid(outputs) > 0.5).float()\n",
    "        val_predictions = (torch.sigmoid(val_outputs) > 0.5).float()\n",
    "        train_accuracy = accuracy_score(y_train.numpy(), train_predictions.numpy())\n",
    "        val_accuracy = accuracy_score(y_validation.numpy(), val_predictions.numpy())\n",
    "        train_accuracies.append(train_accuracy)\n",
    "        validation_accuracies.append(val_accuracy)\n",
    "    \n",
    "    print(f\"Epoch {epoch + 1}/{num_epochs}, Training Loss: {loss.item()}, Validation Loss: {val_loss.item()}, Training Accuracy: {train_accuracy}, Validation Accuracy: {val_accuracy}\")\n",
    "\n",
    "# Print final results\n",
    "print(\"Final Results:\")\n",
    "print(f\"Training Loss: {train_losses[-1]}, Validation Loss: {validation_losses[-1]}, Training Accuracy: {train_accuracies[-1]}, Validation Accuracy: {validation_accuracies[-1]}\")"
   ]
  },
  {
   "cell_type": "code",
   "execution_count": 69,
   "id": "6c1cb859",
   "metadata": {},
   "outputs": [
    {
     "data": {
      "image/png": "[encoded data removed]",
      "text/plain": [
       "<Figure size 1008x432 with 2 Axes>"
      ]
     },
     "metadata": {},
     "output_type": "display_data"
    }
   ],
   "source": [
    "sns.set(style=\"whitegrid\")\n",
    "\n",
    "fig, (ax1, ax2) = plt.subplots(1, 2, figsize=(14, 6))\n",
    "\n",
    "# Plot training and validation accuracy\n",
    "for data, label, color in [(train_accuracies, 'Training Accuracy', 'b'), (validation_accuracies, 'Validation Accuracy', 'r')]:\n",
    "    ax1.plot(data, label=label, color=color)\n",
    "\n",
    "ax1.set_xlabel('Epochs')\n",
    "ax1.set_ylabel('Accuracy')\n",
    "ax1.set_title('Training and Validation Accuracy Over Epochs')\n",
    "ax1.legend(loc='lower right')\n",
    "ax1.grid(True)\n",
    "\n",
    "# Set Y-axis ticks starting from 0.20 to 0.3 with increments of 0.05\n",
    "ax1.set_yticks([0.30 + 0.05 * i for i in range(12)])\n",
    "ax1.set_xticks([1 * i for i in range(20)])\n",
    "\n",
    "# Plot training and validation loss\n",
    "epochs = range(1, num_epochs + 1)\n",
    "for data, label in [(train_losses, 'Training Loss'), (validation_losses, 'Validation Loss')]:\n",
    "    ax2.plot(epochs, data, label=label)\n",
    "\n",
    "ax2.set_xlabel('Epochs')\n",
    "ax2.set_ylabel('Loss')\n",
    "ax2.set_title('Training and Validation Loss')\n",
    "ax2.legend()\n",
    "ax2.grid(True)\n",
    "\n",
    "# Set Y-axis and X-axis ticks starting from 0.20 to 0.3 with increments of 0.05\n",
    "ax2.set_yticks([0.30 + 0.05 * i for i in range(12)])\n",
    "ax2.set_xticks([1 * i for i in range(20)])\n",
    "\n",
    "plt.tight_layout()  # Ensures proper spacing between subplots\n",
    "plt.show()"
   ]
  },
  {
   "cell_type": "code",
   "execution_count": null,
   "id": "65a4f915",
   "metadata": {},
   "outputs": [],
   "source": []
  }
 ],
 "metadata": {
  "kernelspec": {
   "display_name": "Python 3 (ipykernel)",
   "language": "python",
   "name": "python3"
  },
  "language_info": {
   "codemirror_mode": {
    "name": "ipython",
    "version": 3
   },
   "file_extension": ".py",
   "mimetype": "text/x-python",
   "name": "python",
   "nbconvert_exporter": "python",
   "pygments_lexer": "ipython3",
   "version": "3.10.12"
  }
 },
 "nbformat": 4,
 "nbformat_minor": 5
}
