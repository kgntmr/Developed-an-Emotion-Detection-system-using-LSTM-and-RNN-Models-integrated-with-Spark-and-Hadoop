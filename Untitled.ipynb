{
 "cells": [
  {
   "cell_type": "code",
   "execution_count": 1,
   "id": "db5de378",
   "metadata": {},
   "outputs": [],
   "source": [
    "# sc master running locally\n",
    "sc.master\n",
    "\n",
    "import warnings\n",
    "warnings.filterwarnings(\"ignore\")\n",
    "\n",
    "# spark is from the previous example.\n",
    "sc = spark.sparkContext"
   ]
  },
  {
   "cell_type": "code",
   "execution_count": 2,
   "id": "9f465503",
   "metadata": {},
   "outputs": [
    {
     "name": "stderr",
     "output_type": "stream",
     "text": [
      "\r",
      "[Stage 0:>                                                          (0 + 1) / 1]\r",
      "\r",
      "                                                                                \r"
     ]
    }
   ],
   "source": [
    "path = \"/user1/Suicide_Detection.csv\"\n",
    "df = spark.read.csv(path)"
   ]
  },
  {
   "cell_type": "code",
   "execution_count": 3,
   "id": "f724f3b5",
   "metadata": {},
   "outputs": [
    {
     "name": "stdout",
     "output_type": "stream",
     "text": [
      "root\n",
      " |-- _c0: string (nullable = true)\n",
      " |-- _c1: string (nullable = true)\n",
      " |-- _c2: string (nullable = true)\n",
      "\n"
     ]
    }
   ],
   "source": [
    "# The inferred schema can be visualized using the printSchema() method\n",
    "df.printSchema()"
   ]
  },
  {
   "cell_type": "code",
   "execution_count": 4,
   "id": "54a62d23",
   "metadata": {},
   "outputs": [
    {
     "name": "stdout",
     "output_type": "stream",
     "text": [
      "+----+--------------------+-----------+\n",
      "|  ID|                Text|      Label|\n",
      "+----+--------------------+-----------+\n",
      "|null|                text|      class|\n",
      "|   2|Ex Wife Threateni...|    suicide|\n",
      "|   3|Am I weird I don'...|non-suicide|\n",
      "|   4|\"Finally 2020 is ...|non-suicide|\n",
      "|   8|i need helpjust h...|    suicide|\n",
      "+----+--------------------+-----------+\n",
      "only showing top 5 rows\n",
      "\n"
     ]
    }
   ],
   "source": [
    "# Rename the columns\n",
    "df = df.withColumnRenamed('_c0', 'ID')      # Rename _c0 to ID\n",
    "df = df.withColumnRenamed('_c1', 'Text')    # Rename _c1 to Text\n",
    "df = df.withColumnRenamed('_c2', 'Label')   # Rename _c2 to Label\n",
    "\n",
    "# Show the DataFrame with renamed columns\n",
    "df.show(5)"
   ]
  },
  {
   "cell_type": "code",
   "execution_count": 5,
   "id": "aa8b6e12",
   "metadata": {},
   "outputs": [
    {
     "name": "stderr",
     "output_type": "stream",
     "text": [
      "[Stage 2:=======>                                                   (1 + 7) / 8]\r"
     ]
    },
    {
     "name": "stdout",
     "output_type": "stream",
     "text": [
      "Total Rows: 664905\n",
      "root\n",
      " |-- ID: string (nullable = true)\n",
      " |-- Text: string (nullable = true)\n",
      " |-- Label: string (nullable = true)\n",
      "\n"
     ]
    },
    {
     "name": "stderr",
     "output_type": "stream",
     "text": [
      "\r",
      "                                                                                \r"
     ]
    }
   ],
   "source": [
    "# Count Rows\n",
    "row_count = df.count()\n",
    "print(\"Total Rows:\", row_count)\n",
    "\n",
    "# Get Schema\n",
    "df.printSchema()"
   ]
  },
  {
   "cell_type": "code",
   "execution_count": 6,
   "id": "f00b0e4b",
   "metadata": {},
   "outputs": [],
   "source": [
    "from pyspark.sql.functions import col\n",
    "\n",
    "# \"ID\" column datatype changing\n",
    "df = df.withColumn(\"ID\", col(\"ID\").cast(\"integer\"))"
   ]
  },
  {
   "cell_type": "code",
   "execution_count": 7,
   "id": "4fb78d2f",
   "metadata": {},
   "outputs": [],
   "source": [
    "# Remove rows with null values in any column\n",
    "df = df.na.drop()"
   ]
  },
  {
   "cell_type": "code",
   "execution_count": 8,
   "id": "4748cb9d",
   "metadata": {},
   "outputs": [
    {
     "name": "stdout",
     "output_type": "stream",
     "text": [
      "+---+--------------------+-----------+\n",
      "| ID|                Text|      Label|\n",
      "+---+--------------------+-----------+\n",
      "|  2|Ex Wife Threateni...|    suicide|\n",
      "|  3|Am I weird I don'...|non-suicide|\n",
      "|  4|\"Finally 2020 is ...|non-suicide|\n",
      "|  8|i need helpjust h...|    suicide|\n",
      "| 18|My life is over a...|    suicide|\n",
      "| 19|I took the rest o...|    suicide|\n",
      "| 21|Do you think gett...|    suicide|\n",
      "| 23|Been arrested - f...|    suicide|\n",
      "| 24|Fuck the verizon ...|non-suicide|\n",
      "| 31|Me: I know I have...|non-suicide|\n",
      "| 37|Guys I want frien...|non-suicide|\n",
      "| 39|I’m trashLol I no...|    suicide|\n",
      "| 41|What is the best ...|    suicide|\n",
      "| 43|Today's fact is R...|non-suicide|\n",
      "| 44|I feel like I am ...|    suicide|\n",
      "| 45|Is it worth it?Is...|    suicide|\n",
      "| 47|I triple nipple d...|non-suicide|\n",
      "| 54|Hey, im gonna sle...|non-suicide|\n",
      "| 57|I learnt a new sk...|non-suicide|\n",
      "| 62|Why does no one u...|non-suicide|\n",
      "+---+--------------------+-----------+\n",
      "only showing top 20 rows\n",
      "\n"
     ]
    }
   ],
   "source": [
    "from pyspark.sql.functions import col\n",
    "\n",
    "# Filter the DataFrame to include only 'suicide' and 'non-suicide' labels\n",
    "df = df.filter((col('Label') == 'suicide') | (col('Label') == 'non-suicide'))\n",
    "\n",
    "# Show the resulting DataFrame\n",
    "df.show()"
   ]
  },
  {
   "cell_type": "code",
   "execution_count": 9,
   "id": "b49e8a5b",
   "metadata": {},
   "outputs": [
    {
     "name": "stderr",
     "output_type": "stream",
     "text": [
      "[Stage 6:=============================>                             (4 + 4) / 8]\r"
     ]
    },
    {
     "name": "stdout",
     "output_type": "stream",
     "text": [
      "+-----------+-----+\n",
      "|      Label|count|\n",
      "+-----------+-----+\n",
      "|non-suicide|76506|\n",
      "|    suicide|53612|\n",
      "+-----------+-----+\n",
      "\n"
     ]
    },
    {
     "name": "stderr",
     "output_type": "stream",
     "text": [
      "\r",
      "                                                                                \r"
     ]
    }
   ],
   "source": [
    "# Assuming 'df' is your DataFrame and 'Label' is the column of interest\n",
    "label_counts = df.groupBy(\"Label\").count().orderBy(col(\"count\").desc())\n",
    "\n",
    "# Show the label counts\n",
    "label_counts.show()"
   ]
  },
  {
   "cell_type": "code",
   "execution_count": 10,
   "id": "4c750ce3",
   "metadata": {},
   "outputs": [
    {
     "name": "stdout",
     "output_type": "stream",
     "text": [
      "+---+-------------------------------------------------------------------------------------------------------------------------------------------------------------------------------------------------------------------------------------------------------------------------------------------------------------------------------------------------------------------------------------------------------------------------------------------------------------------------------------------------------------------------------------------------------------------------------------------------------------------------------------------------------------------------------------------------------------------------------------------+-----------+\n",
      "|ID |Text                                                                                                                                                                                                                                                                                                                                                                                                                                                                                                                                                                                                                                                                                                                                       |Label      |\n",
      "+---+-------------------------------------------------------------------------------------------------------------------------------------------------------------------------------------------------------------------------------------------------------------------------------------------------------------------------------------------------------------------------------------------------------------------------------------------------------------------------------------------------------------------------------------------------------------------------------------------------------------------------------------------------------------------------------------------------------------------------------------------+-----------+\n",
      "|2  |Ex Wife Threatening SuicideRecently I left my wife for good because she has cheated on me twice and lied to me so much that I have decided to refuse to go back to her. As of a few days ago, she began threatening suicide. I have tirelessly spent these paat few days talking her out of it and she keeps hesitating because she wants to believe I'll come back. I know a lot of people will threaten this in order to get their way, but what happens if she really does? What do I do and how am I supposed to handle her death on my hands? I still love my wife but I cannot deal with getting cheated on again and constantly feeling insecure. I'm worried today may be the day she does it and I hope so much it doesn't happen.|suicide    |\n",
      "|3  |Am I weird I don't get affected by compliments if it's coming from someone I know irl but I feel really good when internet strangers do it                                                                                                                                                                                                                                                                                                                                                                                                                                                                                                                                                                                                 |non-suicide|\n",
      "+---+-------------------------------------------------------------------------------------------------------------------------------------------------------------------------------------------------------------------------------------------------------------------------------------------------------------------------------------------------------------------------------------------------------------------------------------------------------------------------------------------------------------------------------------------------------------------------------------------------------------------------------------------------------------------------------------------------------------------------------------------+-----------+\n",
      "only showing top 2 rows\n",
      "\n"
     ]
    }
   ],
   "source": [
    "df.show(2, truncate=False)"
   ]
  },
  {
   "cell_type": "code",
   "execution_count": 11,
   "id": "51cd238c",
   "metadata": {},
   "outputs": [
    {
     "name": "stdout",
     "output_type": "stream",
     "text": [
      "+---+------------------------------------------------------------------------------------------------------------------------------------------------------------------------------------------------------------------------------------------------------------------------------------------------------------------------------------------------------------------------------------------------------------------------------------------------------------------------------------------------------------------------------------------------------------------------------------------------------------------------------------------------------------------------------------------------------------------------------------------------------------------------------------------------------------------------------------------------------------------------------------------------------------------------------------------------------------------------------------------------------------------------------------------------------------------------------------------------------------------------------------------------------------+-----------+---------------------------------------------------------------------------------------------------------------------------------------------------------------------------------------------------------------------------------------------------------------------------------------------------------------------------------------------------------------------------------------------------------------------------------------------------------------------------------------------------------------------------------------------------------------------------------------------------------------------------------------------------------------------------------------------------------------------------------------------------------------------------------------------------------------------------------------------------------------------------------------------------------------------------------------------------------------------------------------------------------------------------------------------------------------------------------------------------------------------------------------------------------------------------------------------------------------------------------------------------------------------------------------------------------------------------------------------------------------------------------------------+\n",
      "|ID |Text                                                                                                                                                                                                                                                                                                                                                                                                                                                                                                                                                                                                                                                                                                                                                                                                                                                                                                                                                                                                                                                                                                                                                        |Label      |tokens                                                                                                                                                                                                                                                                                                                                                                                                                                                                                                                                                                                                                                                                                                                                                                                                                                                                                                                                                                                                                                                                                                                                                                                                                                                                                                                                                                                       |\n",
      "+---+------------------------------------------------------------------------------------------------------------------------------------------------------------------------------------------------------------------------------------------------------------------------------------------------------------------------------------------------------------------------------------------------------------------------------------------------------------------------------------------------------------------------------------------------------------------------------------------------------------------------------------------------------------------------------------------------------------------------------------------------------------------------------------------------------------------------------------------------------------------------------------------------------------------------------------------------------------------------------------------------------------------------------------------------------------------------------------------------------------------------------------------------------------+-----------+---------------------------------------------------------------------------------------------------------------------------------------------------------------------------------------------------------------------------------------------------------------------------------------------------------------------------------------------------------------------------------------------------------------------------------------------------------------------------------------------------------------------------------------------------------------------------------------------------------------------------------------------------------------------------------------------------------------------------------------------------------------------------------------------------------------------------------------------------------------------------------------------------------------------------------------------------------------------------------------------------------------------------------------------------------------------------------------------------------------------------------------------------------------------------------------------------------------------------------------------------------------------------------------------------------------------------------------------------------------------------------------------+\n",
      "|2  |Ex Wife Threatening SuicideRecently I left my wife for good because she has cheated on me twice and lied to me so much that I have decided to refuse to go back to her. As of a few days ago, she began threatening suicide. I have tirelessly spent these paat few days talking her out of it and she keeps hesitating because she wants to believe I'll come back. I know a lot of people will threaten this in order to get their way, but what happens if she really does? What do I do and how am I supposed to handle her death on my hands? I still love my wife but I cannot deal with getting cheated on again and constantly feeling insecure. I'm worried today may be the day she does it and I hope so much it doesn't happen.                                                                                                                                                                                                                                                                                                                                                                                                                 |suicide    |[ex, wife, threatening, suiciderecently, i, left, my, wife, for, good, because, she, has, cheated, on, me, twice, and, lied, to, me, so, much, that, i, have, decided, to, refuse, to, go, back, to, her., as, of, a, few, days, ago,, she, began, threatening, suicide., i, have, tirelessly, spent, these, paat, few, days, talking, her, out, of, it, and, she, keeps, hesitating, because, she, wants, to, believe, i'll, come, back., i, know, a, lot, of, people, will, threaten, this, in, order, to, get, their, way,, but, what, happens, if, she, really, does?, what, do, i, do, and, how, am, i, supposed, to, handle, her, death, on, my, hands?, i, still, love, my, wife, but, i, cannot, deal, with, getting, cheated, on, again, and, constantly, feeling, insecure., i'm, worried, today, may, be, the, day, she, does, it, and, i, hope, so, much, it, doesn't, happen.]                                                                                                                                                                                                                                                                                                                                                                                                                                                                                                  |\n",
      "|3  |Am I weird I don't get affected by compliments if it's coming from someone I know irl but I feel really good when internet strangers do it                                                                                                                                                                                                                                                                                                                                                                                                                                                                                                                                                                                                                                                                                                                                                                                                                                                                                                                                                                                                                  |non-suicide|[am, i, weird, i, don't, get, affected, by, compliments, if, it's, coming, from, someone, i, know, irl, but, i, feel, really, good, when, internet, strangers, do, it]                                                                                                                                                                                                                                                                                                                                                                                                                                                                                                                                                                                                                                                                                                                                                                                                                                                                                                                                                                                                                                                                                                                                                                                                                       |\n",
      "|4  |\"Finally 2020 is almost over... So I can never hear \"\"2020 has been a bad year\"\" ever again. I swear to fucking God it's so annoying\"                                                                                                                                                                                                                                                                                                                                                                                                                                                                                                                                                                                                                                                                                                                                                                                                                                                                                                                                                                                                                       |non-suicide|[\"finally, 2020, is, almost, over..., so, i, can, never, hear, \"\"2020, has, been, a, bad, year\"\", ever, again., i, swear, to, fucking, god, it's, so, annoying\"]                                                                                                                                                                                                                                                                                                                                                                                                                                                                                                                                                                                                                                                                                                                                                                                                                                                                                                                                                                                                                                                                                                                                                                                                                             |\n",
      "|8  |i need helpjust help me im crying so hard                                                                                                                                                                                                                                                                                                                                                                                                                                                                                                                                                                                                                                                                                                                                                                                                                                                                                                                                                                                                                                                                                                                   |suicide    |[i, need, helpjust, help, me, im, crying, so, hard]                                                                                                                                                                                                                                                                                                                                                                                                                                                                                                                                                                                                                                                                                                                                                                                                                                                                                                                                                                                                                                                                                                                                                                                                                                                                                                                                          |\n",
      "|18 |My life is over at 20 years oldHello all. I am a 20 year old balding male. My hairline is trash and to make matters worse my head is HUGE. I have bipolar, depression and crippling social anxiety. Balding has been the cherry on top. I wear a hat 24/7 even in my room when I’m alone because I can’t stop thinking about it. I pop Xanax all day to try and numb the pain and it works for a little bit but it all comes crashing back twice as hard once I come down. I don’t know how to communicate with people anymore and I don’t know how to keep a relationship. I used to be one of the “popular kids” but after my dad passed away I feel into a deep dark hole. I’ve been arrested numerous times, been in rehab, mental hospitals, you name it. The only reason I haven’t killed myself yet is because of my mom and brothers. If I didn’t have them I’d be dead long ago. But it’s getting to the point where even their love and support isn’t going to be enough to keep me alive anymore. I’m either going to be the guy who killed himself, or the guy who went bald and 20 and looks like a child molestor. Which one would you choose?|suicide    |[my, life, is, over, at, 20, years, oldhello, all., i, am, a, 20, year, old, balding, male., my, hairline, is, trash, and, to, make, matters, worse, my, head, is, huge., i, have, bipolar,, depression, and, crippling, social, anxiety., balding, has, been, the, cherry, on, top., i, wear, a, hat, 24/7, even, in, my, room, when, i’m, alone, because, i, can’t, stop, thinking, about, it., i, pop, xanax, all, day, to, try, and, numb, the, pain, and, it, works, for, a, little, bit, but, it, all, comes, crashing, back, twice, as, hard, once, i, come, down., i, don’t, know, how, to, communicate, with, people, anymore, and, i, don’t, know, how, to, keep, a, relationship., i, used, to, be, one, of, the, “popular, kids”, but, after, my, dad, passed, away, i, feel, into, a, deep, dark, hole., i’ve, been, arrested, numerous, times,, been, in, rehab,, mental, hospitals,, you, name, it., the, only, reason, i, haven’t, killed, myself, yet, is, because, of, my, mom, and, brothers., if, i, didn’t, have, them, i’d, be, dead, long, ago., but, it’s, getting, to, the, point, where, even, their, love, and, support, isn’t, going, to, be, enough, to, keep, me, alive, anymore., i’m, either, going, to, be, the, guy, who, killed, himself,, or, the, guy, who, went, bald, and, 20, and, looks, like, a, child, molestor., which, one, would, you, choose?]|\n",
      "|19 |I took the rest of my sleeping pills and my painkillersI can’t wait for it to end, I’ve struggled for the past 6 years and I’m finally ending it.                                                                                                                                                                                                                                                                                                                                                                                                                                                                                                                                                                                                                                                                                                                                                                                                                                                                                                                                                                                                           |suicide    |[i, took, the, rest, of, my, sleeping, pills, and, my, painkillersi, can’t, wait, for, it, to, end,, i’ve, struggled, for, the, past, 6, years, and, i’m, finally, ending, it.]                                                                                                                                                                                                                                                                                                                                                                                                                                                                                                                                                                                                                                                                                                                                                                                                                                                                                                                                                                                                                                                                                                                                                                                                              |\n",
      "|21 |Do you think getting hit by a train would be painful?Guns are hard to come by in my country but trains are not. I just don't want to suffer though, do you think this would be a painless method of suicide?                                                                                                                                                                                                                                                                                                                                                                                                                                                                                                                                                                                                                                                                                                                                                                                                                                                                                                                                                |suicide    |[do, you, think, getting, hit, by, a, train, would, be, painful?guns, are, hard, to, come, by, in, my, country, but, trains, are, not., i, just, don't, want, to, suffer, though,, do, you, think, this, would, be, a, painless, method, of, suicide?]                                                                                                                                                                                                                                                                                                                                                                                                                                                                                                                                                                                                                                                                                                                                                                                                                                                                                                                                                                                                                                                                                                                                       |\n",
      "|23 |Been arrested - feeling suicidalEdit                                                                                                                                                                                                                                                                                                                                                                                                                                                                                                                                                                                                                                                                                                                                                                                                                                                                                                                                                                                                                                                                                                                        |suicide    |[been, arrested, -, feeling, suicidaledit]                                                                                                                                                                                                                                                                                                                                                                                                                                                                                                                                                                                                                                                                                                                                                                                                                                                                                                                                                                                                                                                                                                                                                                                                                                                                                                                                                   |\n",
      "|24 |Fuck the verizon smart family app I can’t even watch porn privately anymore wtf why is that a feature                                                                                                                                                                                                                                                                                                                                                                                                                                                                                                                                                                                                                                                                                                                                                                                                                                                                                                                                                                                                                                                       |non-suicide|[fuck, the, verizon, smart, family, app, i, can’t, even, watch, porn, privately, anymore, wtf, why, is, that, a, feature]                                                                                                                                                                                                                                                                                                                                                                                                                                                                                                                                                                                                                                                                                                                                                                                                                                                                                                                                                                                                                                                                                                                                                                                                                                                                    |\n",
      "|31 |Me: I know I have a really toxic house and I do my best to cope with with it by going to school, etc Rona: hahahaha, stay at home forcefully go brrrrrrrrr                                                                                                                                                                                                                                                                                                                                                                                                                                                                                                                                                                                                                                                                                                                                                                                                                                                                                                                                                                                                  |non-suicide|[me:, i, know, i, have, a, really, toxic, house, and, i, do, my, best, to, cope, with, with, it, by, going, to, school,, etc, rona:, hahahaha,, stay, at, home, forcefully, go, brrrrrrrrr]                                                                                                                                                                                                                                                                                                                                                                                                                                                                                                                                                                                                                                                                                                                                                                                                                                                                                                                                                                                                                                                                                                                                                                                                  |\n",
      "|37 |Guys I want friends That’s it , I’m alone and don’t talk to anyone dm me or anything, I’m just tired of only talking to my dad and sister, literally only my dad and sister , I like animated series but I’m flexible to anything the last series I watch was Santa Clarita’s diet and the last animated series I watch was the hollow and shera ( I was watching them at the same time ), and I have a very extended music repertoire I can draw you anything you ask ( or at least I’ll try ) you can text me at any hour of the day , I pretty much only do that , I have weird family anecdotes and stories I can tell you  , but if you are not interested in anything I mentioned it doesn’t matter I’m just here to be a friend                                                                                                                                                                                                                                                                                                                                                                                                                      |non-suicide|[guys, i, want, friends, that’s, it, ,, i’m, alone, and, don’t, talk, to, anyone, dm, me, or, anything,, i’m, just, tired, of, only, talking, to, my, dad, and, sister,, literally, only, my, dad, and, sister, ,, i, like, animated, series, but, i’m, flexible, to, anything, the, last, series, i, watch, was, santa, clarita’s, diet, and, the, last, animated, series, i, watch, was, the, hollow, and, shera, (, i, was, watching, them, at, the, same, time, ),, and, i, have, a, very, extended, music, repertoire, i, can, draw, you, anything, you, ask, (, or, at, least, i’ll, try, ), you, can, text, me, at, any, hour, of, the, day, ,, i, pretty, much, only, do, that, ,, i, have, weird, family, anecdotes, and, stories, i, can, tell, you, , ,, but, if, you, are, not, interested, in, anything, i, mentioned, it, doesn’t, matter, i’m, just, here, to, be, a, friend]                                                                                                                                                                                                                                                                                                                                                                                                                                                                                                 |\n",
      "|39 |I’m trashLol I normally cringe at the self loathing posts here but honestly I’m such trash. Like literally everything about me.  I just wish I could muster up the courage to just follow through. This is it and I’m okay with that that:  everyday here is worst than the last.  I appreciate this community for letting me know I’m not alone.                                                                                                                                                                                                                                                                                                                                                                                                                                                                                                                                                                                                                                                                                                                                                                                                           |suicide    |[i’m, trashlol, i, normally, cringe, at, the, self, loathing, posts, here, but, honestly, i’m, such, trash., like, literally, everything, about, me., , i, just, wish, i, could, muster, up, the, courage, to, just, follow, through., this, is, it, and, i’m, okay, with, that, that:, , everyday, here, is, worst, than, the, last., , i, appreciate, this, community, for, letting, me, know, i’m, not, alone.]                                                                                                                                                                                                                                                                                                                                                                                                                                                                                                                                                                                                                                                                                                                                                                                                                                                                                                                                                                           |\n",
      "|41 |What is the best way to do it?I’m not looking to be talked out of it. What would be the most effective, easiest way to go?                                                                                                                                                                                                                                                                                                                                                                                                                                                                                                                                                                                                                                                                                                                                                                                                                                                                                                                                                                                                                                  |suicide    |[what, is, the, best, way, to, do, it?i’m, not, looking, to, be, talked, out, of, it., what, would, be, the, most, effective,, easiest, way, to, go?]                                                                                                                                                                                                                                                                                                                                                                                                                                                                                                                                                                                                                                                                                                                                                                                                                                                                                                                                                                                                                                                                                                                                                                                                                                        |\n",
      "|43 |Today's fact is Reddit awards are expensive emojis                                                                                                                                                                                                                                                                                                                                                                                                                                                                                                                                                                                                                                                                                                                                                                                                                                                                                                                                                                                                                                                                                                          |non-suicide|[today's, fact, is, reddit, awards, are, expensive, emojis]                                                                                                                                                                                                                                                                                                                                                                                                                                                                                                                                                                                                                                                                                                                                                                                                                                                                                                                                                                                                                                                                                                                                                                                                                                                                                                                                  |\n",
      "|44 |I feel like I am drowningI used to go to school at a state university, then I had to drop out for financial issues. It's been a year since then and I haven't moved anywhere in my life. I have one job (15 hours a week, so I don't make enough money for essentials like food, soap, toothpaste, etc..) and I am trying to find another job but I can't find one. I feel like I'm going to be stuck in this hole forever and  part of me just wants everything to be over. I apply to 5-6 jobs a day and make sure to call back but all I get is an explanation as to why they don't need me. I also haven't been able to afford a haircut for 3 months and I'm self-conscious about it because my hair never gets long and it feels gross. I spent all of this month with my bank account overdrafted and I have no clue how I will pay rent. Sorry for rambling, but I can't stop thinking of killing myself and I really want help.                                                                                                                                                                                                                    |suicide    |[i, feel, like, i, am, drowningi, used, to, go, to, school, at, a, state, university,, then, i, had, to, drop, out, for, financial, issues., it's, been, a, year, since, then, and, i, haven't, moved, anywhere, in, my, life., i, have, one, job, (15, hours, a, week,, so, i, don't, make, enough, money, for, essentials, like, food,, soap,, toothpaste,, etc..), and, i, am, trying, to, find, another, job, but, i, can't, find, one., i, feel, like, i'm, going, to, be, stuck, in, this, hole, forever, and, , part, of, me, just, wants, everything, to, be, over., i, apply, to, 5-6, jobs, a, day, and, make, sure, to, call, back, but, all, i, get, is, an, explanation, as, to, why, they, don't, need, me., i, also, haven't, been, able, to, afford, a, haircut, for, 3, months, and, i'm, self-conscious, about, it, because, my, hair, never, gets, long, and, it, feels, gross., i, spent, all, of, this, month, with, my, bank, account, overdrafted, and, i, have, no, clue, how, i, will, pay, rent., sorry, for, rambling,, but, i, can't, stop, thinking, of, killing, myself, and, i, really, want, help.]                                                                                                                                                                                                                                                          |\n",
      "|45 |Is it worth it?Is all the trouble, work and anxiety really worth living for.                                                                                                                                                                                                                                                                                                                                                                                                                                                                                                                                                                                                                                                                                                                                                                                                                                                                                                                                                                                                                                                                                |suicide    |[is, it, worth, it?is, all, the, trouble,, work, and, anxiety, really, worth, living, for.]                                                                                                                                                                                                                                                                                                                                                                                                                                                                                                                                                                                                                                                                                                                                                                                                                                                                                                                                                                                                                                                                                                                                                                                                                                                                                                  |\n",
      "|47 |I triple nipple dock dare you To ask out your crush, or if you're taken tell them that you love them                                                                                                                                                                                                                                                                                                                                                                                                                                                                                                                                                                                                                                                                                                                                                                                                                                                                                                                                                                                                                                                        |non-suicide|[i, triple, nipple, dock, dare, you, to, ask, out, your, crush,, or, if, you're, taken, tell, them, that, you, love, them]                                                                                                                                                                                                                                                                                                                                                                                                                                                                                                                                                                                                                                                                                                                                                                                                                                                                                                                                                                                                                                                                                                                                                                                                                                                                   |\n",
      "|54 |Hey, im gonna sleep with socks Whatcha gonna do? Put them off?! Good luck ima gonna sleep with warm feet                                                                                                                                                                                                                                                                                                                                                                                                                                                                                                                                                                                                                                                                                                                                                                                                                                                                                                                                                                                                                                                    |non-suicide|[hey,, im, gonna, sleep, with, socks, whatcha, gonna, do?, put, them, off?!, good, luck, ima, gonna, sleep, with, warm, feet]                                                                                                                                                                                                                                                                                                                                                                                                                                                                                                                                                                                                                                                                                                                                                                                                                                                                                                                                                                                                                                                                                                                                                                                                                                                                |\n",
      "|57 |I learnt a new skill today! I learnt how to change a light bulb, only thing that happened was I cocked up the first time and it went out after 5 minutes, so I tightened it a bit and it now works. My room had been lightless for quite a long time and I finally have a bulb in the light.                                                                                                                                                                                                                                                                                                                                                                                                                                                                                                                                                                                                                                                                                                                                                                                                                                                                |non-suicide|[i, learnt, a, new, skill, today!, i, learnt, how, to, change, a, light, bulb,, only, thing, that, happened, was, i, cocked, up, the, first, time, and, it, went, out, after, 5, minutes,, so, i, tightened, it, a, bit, and, it, now, works., my, room, had, been, lightless, for, quite, a, long, time, and, i, finally, have, a, bulb, in, the, light.]                                                                                                                                                                                                                                                                                                                                                                                                                                                                                                                                                                                                                                                                                                                                                                                                                                                                                                                                                                                                                                   |\n",
      "|62 |Why does no one use the email function of reddit It's kinda sad, so underappreciated, edit- have y'all never used the email function, how uncultured                                                                                                                                                                                                                                                                                                                                                                                                                                                                                                                                                                                                                                                                                                                                                                                                                                                                                                                                                                                                        |non-suicide|[why, does, no, one, use, the, email, function, of, reddit, it's, kinda, sad,, so, underappreciated,, edit-, have, y'all, never, used, the, email, function,, how, uncultured]                                                                                                                                                                                                                                                                                                                                                                                                                                                                                                                                                                                                                                                                                                                                                                                                                                                                                                                                                                                                                                                                                                                                                                                                               |\n",
      "+---+------------------------------------------------------------------------------------------------------------------------------------------------------------------------------------------------------------------------------------------------------------------------------------------------------------------------------------------------------------------------------------------------------------------------------------------------------------------------------------------------------------------------------------------------------------------------------------------------------------------------------------------------------------------------------------------------------------------------------------------------------------------------------------------------------------------------------------------------------------------------------------------------------------------------------------------------------------------------------------------------------------------------------------------------------------------------------------------------------------------------------------------------------------+-----------+---------------------------------------------------------------------------------------------------------------------------------------------------------------------------------------------------------------------------------------------------------------------------------------------------------------------------------------------------------------------------------------------------------------------------------------------------------------------------------------------------------------------------------------------------------------------------------------------------------------------------------------------------------------------------------------------------------------------------------------------------------------------------------------------------------------------------------------------------------------------------------------------------------------------------------------------------------------------------------------------------------------------------------------------------------------------------------------------------------------------------------------------------------------------------------------------------------------------------------------------------------------------------------------------------------------------------------------------------------------------------------------------+\n",
      "only showing top 20 rows\n",
      "\n"
     ]
    }
   ],
   "source": [
    "from pyspark.ml.feature import Tokenizer\n",
    "\n",
    "# Create a Tokenizer object\n",
    "tokenizer = Tokenizer(inputCol=\"Text\", outputCol=\"tokens\")\n",
    "\n",
    "# Tokenize the \"processed_text\" column\n",
    "df = tokenizer.transform(df)\n",
    "\n",
    "# Show the result\n",
    "df.show(truncate=False)"
   ]
  },
  {
   "cell_type": "code",
   "execution_count": 12,
   "id": "da8c1fb2",
   "metadata": {},
   "outputs": [
    {
     "name": "stdout",
     "output_type": "stream",
     "text": [
      "+---------------------------------------------------------------------------------------------------------------------------------------------------------------------------------------------------------------------------------------------------------------------------------------------------------------------------------------------------------------------------------------------------------------------------------------------------------------------------------------------------------------------------------------------------------------------------------------------------------------------------------------------------------------------------------------------------------------------------------------------------------------------------------------------------------------------------------------------------------------------------------------------------------------------------------------------------------------------------------------------------------------------------------------------------------------------------------------------------------------------------------------------------------------------------------------------------------------------------------------------------------------------------------------------------------------------------------------------------------------------------------------------+\n",
      "|tokens                                                                                                                                                                                                                                                                                                                                                                                                                                                                                                                                                                                                                                                                                                                                                                                                                                                                                                                                                                                                                                                                                                                                                                                                                                                                                                                                                                                       |\n",
      "+---------------------------------------------------------------------------------------------------------------------------------------------------------------------------------------------------------------------------------------------------------------------------------------------------------------------------------------------------------------------------------------------------------------------------------------------------------------------------------------------------------------------------------------------------------------------------------------------------------------------------------------------------------------------------------------------------------------------------------------------------------------------------------------------------------------------------------------------------------------------------------------------------------------------------------------------------------------------------------------------------------------------------------------------------------------------------------------------------------------------------------------------------------------------------------------------------------------------------------------------------------------------------------------------------------------------------------------------------------------------------------------------+\n",
      "|[ex, wife, threatening, suiciderecently, i, left, my, wife, for, good, because, she, has, cheated, on, me, twice, and, lied, to, me, so, much, that, i, have, decided, to, refuse, to, go, back, to, her., as, of, a, few, days, ago,, she, began, threatening, suicide., i, have, tirelessly, spent, these, paat, few, days, talking, her, out, of, it, and, she, keeps, hesitating, because, she, wants, to, believe, i'll, come, back., i, know, a, lot, of, people, will, threaten, this, in, order, to, get, their, way,, but, what, happens, if, she, really, does?, what, do, i, do, and, how, am, i, supposed, to, handle, her, death, on, my, hands?, i, still, love, my, wife, but, i, cannot, deal, with, getting, cheated, on, again, and, constantly, feeling, insecure., i'm, worried, today, may, be, the, day, she, does, it, and, i, hope, so, much, it, doesn't, happen.]                                                                                                                                                                                                                                                                                                                                                                                                                                                                                                  |\n",
      "|[am, i, weird, i, don't, get, affected, by, compliments, if, it's, coming, from, someone, i, know, irl, but, i, feel, really, good, when, internet, strangers, do, it]                                                                                                                                                                                                                                                                                                                                                                                                                                                                                                                                                                                                                                                                                                                                                                                                                                                                                                                                                                                                                                                                                                                                                                                                                       |\n",
      "|[\"finally, 2020, is, almost, over..., so, i, can, never, hear, \"\"2020, has, been, a, bad, year\"\", ever, again., i, swear, to, fucking, god, it's, so, annoying\"]                                                                                                                                                                                                                                                                                                                                                                                                                                                                                                                                                                                                                                                                                                                                                                                                                                                                                                                                                                                                                                                                                                                                                                                                                             |\n",
      "|[i, need, helpjust, help, me, im, crying, so, hard]                                                                                                                                                                                                                                                                                                                                                                                                                                                                                                                                                                                                                                                                                                                                                                                                                                                                                                                                                                                                                                                                                                                                                                                                                                                                                                                                          |\n",
      "|[my, life, is, over, at, 20, years, oldhello, all., i, am, a, 20, year, old, balding, male., my, hairline, is, trash, and, to, make, matters, worse, my, head, is, huge., i, have, bipolar,, depression, and, crippling, social, anxiety., balding, has, been, the, cherry, on, top., i, wear, a, hat, 24/7, even, in, my, room, when, i’m, alone, because, i, can’t, stop, thinking, about, it., i, pop, xanax, all, day, to, try, and, numb, the, pain, and, it, works, for, a, little, bit, but, it, all, comes, crashing, back, twice, as, hard, once, i, come, down., i, don’t, know, how, to, communicate, with, people, anymore, and, i, don’t, know, how, to, keep, a, relationship., i, used, to, be, one, of, the, “popular, kids”, but, after, my, dad, passed, away, i, feel, into, a, deep, dark, hole., i’ve, been, arrested, numerous, times,, been, in, rehab,, mental, hospitals,, you, name, it., the, only, reason, i, haven’t, killed, myself, yet, is, because, of, my, mom, and, brothers., if, i, didn’t, have, them, i’d, be, dead, long, ago., but, it’s, getting, to, the, point, where, even, their, love, and, support, isn’t, going, to, be, enough, to, keep, me, alive, anymore., i’m, either, going, to, be, the, guy, who, killed, himself,, or, the, guy, who, went, bald, and, 20, and, looks, like, a, child, molestor., which, one, would, you, choose?]|\n",
      "|[i, took, the, rest, of, my, sleeping, pills, and, my, painkillersi, can’t, wait, for, it, to, end,, i’ve, struggled, for, the, past, 6, years, and, i’m, finally, ending, it.]                                                                                                                                                                                                                                                                                                                                                                                                                                                                                                                                                                                                                                                                                                                                                                                                                                                                                                                                                                                                                                                                                                                                                                                                              |\n",
      "|[do, you, think, getting, hit, by, a, train, would, be, painful?guns, are, hard, to, come, by, in, my, country, but, trains, are, not., i, just, don't, want, to, suffer, though,, do, you, think, this, would, be, a, painless, method, of, suicide?]                                                                                                                                                                                                                                                                                                                                                                                                                                                                                                                                                                                                                                                                                                                                                                                                                                                                                                                                                                                                                                                                                                                                       |\n",
      "|[been, arrested, -, feeling, suicidaledit]                                                                                                                                                                                                                                                                                                                                                                                                                                                                                                                                                                                                                                                                                                                                                                                                                                                                                                                                                                                                                                                                                                                                                                                                                                                                                                                                                   |\n",
      "|[fuck, the, verizon, smart, family, app, i, can’t, even, watch, porn, privately, anymore, wtf, why, is, that, a, feature]                                                                                                                                                                                                                                                                                                                                                                                                                                                                                                                                                                                                                                                                                                                                                                                                                                                                                                                                                                                                                                                                                                                                                                                                                                                                    |\n",
      "|[me:, i, know, i, have, a, really, toxic, house, and, i, do, my, best, to, cope, with, with, it, by, going, to, school,, etc, rona:, hahahaha,, stay, at, home, forcefully, go, brrrrrrrrr]                                                                                                                                                                                                                                                                                                                                                                                                                                                                                                                                                                                                                                                                                                                                                                                                                                                                                                                                                                                                                                                                                                                                                                                                  |\n",
      "|[guys, i, want, friends, that’s, it, ,, i’m, alone, and, don’t, talk, to, anyone, dm, me, or, anything,, i’m, just, tired, of, only, talking, to, my, dad, and, sister,, literally, only, my, dad, and, sister, ,, i, like, animated, series, but, i’m, flexible, to, anything, the, last, series, i, watch, was, santa, clarita’s, diet, and, the, last, animated, series, i, watch, was, the, hollow, and, shera, (, i, was, watching, them, at, the, same, time, ),, and, i, have, a, very, extended, music, repertoire, i, can, draw, you, anything, you, ask, (, or, at, least, i’ll, try, ), you, can, text, me, at, any, hour, of, the, day, ,, i, pretty, much, only, do, that, ,, i, have, weird, family, anecdotes, and, stories, i, can, tell, you, , ,, but, if, you, are, not, interested, in, anything, i, mentioned, it, doesn’t, matter, i’m, just, here, to, be, a, friend]                                                                                                                                                                                                                                                                                                                                                                                                                                                                                                 |\n",
      "|[i’m, trashlol, i, normally, cringe, at, the, self, loathing, posts, here, but, honestly, i’m, such, trash., like, literally, everything, about, me., , i, just, wish, i, could, muster, up, the, courage, to, just, follow, through., this, is, it, and, i’m, okay, with, that, that:, , everyday, here, is, worst, than, the, last., , i, appreciate, this, community, for, letting, me, know, i’m, not, alone.]                                                                                                                                                                                                                                                                                                                                                                                                                                                                                                                                                                                                                                                                                                                                                                                                                                                                                                                                                                           |\n",
      "|[what, is, the, best, way, to, do, it?i’m, not, looking, to, be, talked, out, of, it., what, would, be, the, most, effective,, easiest, way, to, go?]                                                                                                                                                                                                                                                                                                                                                                                                                                                                                                                                                                                                                                                                                                                                                                                                                                                                                                                                                                                                                                                                                                                                                                                                                                        |\n",
      "|[today's, fact, is, reddit, awards, are, expensive, emojis]                                                                                                                                                                                                                                                                                                                                                                                                                                                                                                                                                                                                                                                                                                                                                                                                                                                                                                                                                                                                                                                                                                                                                                                                                                                                                                                                  |\n",
      "|[i, feel, like, i, am, drowningi, used, to, go, to, school, at, a, state, university,, then, i, had, to, drop, out, for, financial, issues., it's, been, a, year, since, then, and, i, haven't, moved, anywhere, in, my, life., i, have, one, job, (15, hours, a, week,, so, i, don't, make, enough, money, for, essentials, like, food,, soap,, toothpaste,, etc..), and, i, am, trying, to, find, another, job, but, i, can't, find, one., i, feel, like, i'm, going, to, be, stuck, in, this, hole, forever, and, , part, of, me, just, wants, everything, to, be, over., i, apply, to, 5-6, jobs, a, day, and, make, sure, to, call, back, but, all, i, get, is, an, explanation, as, to, why, they, don't, need, me., i, also, haven't, been, able, to, afford, a, haircut, for, 3, months, and, i'm, self-conscious, about, it, because, my, hair, never, gets, long, and, it, feels, gross., i, spent, all, of, this, month, with, my, bank, account, overdrafted, and, i, have, no, clue, how, i, will, pay, rent., sorry, for, rambling,, but, i, can't, stop, thinking, of, killing, myself, and, i, really, want, help.]                                                                                                                                                                                                                                                          |\n",
      "|[is, it, worth, it?is, all, the, trouble,, work, and, anxiety, really, worth, living, for.]                                                                                                                                                                                                                                                                                                                                                                                                                                                                                                                                                                                                                                                                                                                                                                                                                                                                                                                                                                                                                                                                                                                                                                                                                                                                                                  |\n",
      "|[i, triple, nipple, dock, dare, you, to, ask, out, your, crush,, or, if, you're, taken, tell, them, that, you, love, them]                                                                                                                                                                                                                                                                                                                                                                                                                                                                                                                                                                                                                                                                                                                                                                                                                                                                                                                                                                                                                                                                                                                                                                                                                                                                   |\n",
      "|[hey,, im, gonna, sleep, with, socks, whatcha, gonna, do?, put, them, off?!, good, luck, ima, gonna, sleep, with, warm, feet]                                                                                                                                                                                                                                                                                                                                                                                                                                                                                                                                                                                                                                                                                                                                                                                                                                                                                                                                                                                                                                                                                                                                                                                                                                                                |\n",
      "|[i, learnt, a, new, skill, today!, i, learnt, how, to, change, a, light, bulb,, only, thing, that, happened, was, i, cocked, up, the, first, time, and, it, went, out, after, 5, minutes,, so, i, tightened, it, a, bit, and, it, now, works., my, room, had, been, lightless, for, quite, a, long, time, and, i, finally, have, a, bulb, in, the, light.]                                                                                                                                                                                                                                                                                                                                                                                                                                                                                                                                                                                                                                                                                                                                                                                                                                                                                                                                                                                                                                   |\n",
      "|[why, does, no, one, use, the, email, function, of, reddit, it's, kinda, sad,, so, underappreciated,, edit-, have, y'all, never, used, the, email, function,, how, uncultured]                                                                                                                                                                                                                                                                                                                                                                                                                                                                                                                                                                                                                                                                                                                                                                                                                                                                                                                                                                                                                                                                                                                                                                                                               |\n",
      "+---------------------------------------------------------------------------------------------------------------------------------------------------------------------------------------------------------------------------------------------------------------------------------------------------------------------------------------------------------------------------------------------------------------------------------------------------------------------------------------------------------------------------------------------------------------------------------------------------------------------------------------------------------------------------------------------------------------------------------------------------------------------------------------------------------------------------------------------------------------------------------------------------------------------------------------------------------------------------------------------------------------------------------------------------------------------------------------------------------------------------------------------------------------------------------------------------------------------------------------------------------------------------------------------------------------------------------------------------------------------------------------------+\n",
      "only showing top 20 rows\n",
      "\n"
     ]
    }
   ],
   "source": [
    "# Show the \"tokens\" column\n",
    "token_df = df.select(\"tokens\")\n",
    "\n",
    "token_df.show(truncate=False)"
   ]
  },
  {
   "cell_type": "code",
   "execution_count": 13,
   "id": "c35bdf3b",
   "metadata": {
    "scrolled": true
   },
   "outputs": [
    {
     "name": "stdout",
     "output_type": "stream",
     "text": [
      "+---+--------------------+-----------+--------------------+\n",
      "| ID|                Text|      Label|              tokens|\n",
      "+---+--------------------+-----------+--------------------+\n",
      "|  2|Ex Wife Threateni...|    suicide|[ex, wife, threat...|\n",
      "|  3|Am I weird I don'...|non-suicide|[am, i, weird, i,...|\n",
      "|  4|\"Finally 2020 is ...|non-suicide|[\"finally, 2020, ...|\n",
      "|  8|i need helpjust h...|    suicide|[i, need, helpjus...|\n",
      "| 18|My life is over a...|    suicide|[my, life, is, ov...|\n",
      "+---+--------------------+-----------+--------------------+\n",
      "only showing top 5 rows\n",
      "\n"
     ]
    }
   ],
   "source": [
    "df.show(5, truncate=True)"
   ]
  },
  {
   "cell_type": "code",
   "execution_count": 14,
   "id": "5d7b1594",
   "metadata": {},
   "outputs": [],
   "source": [
    "from pyspark.sql.functions import explode, desc\n",
    "from pyspark.sql import functions as F\n",
    "\n",
    "# Explode the tokens into separate rows\n",
    "counting_df = df.withColumn(\"word\", explode(df[\"tokens\"]))\n",
    "\n",
    "# Group by words and count their occurrences\n",
    "word_counts = counting_df.groupBy(\"word\").count()\n",
    "\n",
    "# Order the word counts in descending order\n",
    "word_counts = word_counts.orderBy(desc(\"count\"))\n",
    "\n",
    "# Select the top 50 words\n",
    "top_50_words = word_counts.limit(50)"
   ]
  },
  {
   "cell_type": "code",
   "execution_count": 15,
   "id": "37d17f5f",
   "metadata": {},
   "outputs": [
    {
     "name": "stderr",
     "output_type": "stream",
     "text": [
      "[Stage 13:=======>                                                  (1 + 7) / 8]\r"
     ]
    },
    {
     "name": "stdout",
     "output_type": "stream",
     "text": [
      "+-------+------+\n",
      "|   word| count|\n",
      "+-------+------+\n",
      "|      i|476118|\n",
      "|     to|277623|\n",
      "|    and|236422|\n",
      "|    the|167139|\n",
      "|     my|165837|\n",
      "|      a|164026|\n",
      "|     of|106558|\n",
      "|     it| 87695|\n",
      "|     me| 85530|\n",
      "|   just| 83531|\n",
      "|     is| 79251|\n",
      "|     in| 78412|\n",
      "|    but| 77786|\n",
      "|   that| 72752|\n",
      "|   have| 72492|\n",
      "|    for| 70323|\n",
      "|     so| 66496|\n",
      "|   this| 57312|\n",
      "|   like| 54352|\n",
      "|    i'm| 53014|\n",
      "|     be| 51307|\n",
      "|   want| 48788|\n",
      "|   with| 48505|\n",
      "|    you| 47600|\n",
      "|     do| 45516|\n",
      "|    was| 44319|\n",
      "|     on| 43693|\n",
      "|    not| 40132|\n",
      "|    i’m| 39662|\n",
      "|     if| 37987|\n",
      "|   feel| 36059|\n",
      "|   know| 35882|\n",
      "|  about| 34641|\n",
      "|     or| 34344|\n",
      "|    all| 33957|\n",
      "|   what| 33199|\n",
      "|    get| 33182|\n",
      "|  don't| 32684|\n",
      "| filler| 31819|\n",
      "|     no| 30422|\n",
      "|     at| 29498|\n",
      "|because| 27107|\n",
      "|    out| 26843|\n",
      "|     am| 26665|\n",
      "|    how| 26211|\n",
      "|   been| 25391|\n",
      "|    can| 25217|\n",
      "|   they| 25155|\n",
      "|    are| 24378|\n",
      "|       | 24034|\n",
      "+-------+------+\n",
      "\n"
     ]
    },
    {
     "name": "stderr",
     "output_type": "stream",
     "text": [
      "\r",
      "                                                                                \r"
     ]
    }
   ],
   "source": [
    "# Show the top 50 words and their counts\n",
    "top_50_words.show(50)"
   ]
  },
  {
   "cell_type": "code",
   "execution_count": 16,
   "id": "e678bf88",
   "metadata": {},
   "outputs": [
    {
     "name": "stdout",
     "output_type": "stream",
     "text": [
      "root\n",
      " |-- ID: integer (nullable = true)\n",
      " |-- Text: string (nullable = true)\n",
      " |-- Label: string (nullable = true)\n",
      " |-- tokens: array (nullable = true)\n",
      " |    |-- element: string (containsNull = true)\n",
      "\n"
     ]
    }
   ],
   "source": [
    "df.printSchema()"
   ]
  },
  {
   "cell_type": "code",
   "execution_count": 17,
   "id": "856c750d",
   "metadata": {},
   "outputs": [
    {
     "name": "stderr",
     "output_type": "stream",
     "text": [
      "                                                                                \r"
     ]
    },
    {
     "name": "stdout",
     "output_type": "stream",
     "text": [
      "+---+---------------------------------------------------------------------------------------------------------------------------------------------------------------------------------------------------------------------------------------------------------------------------------------------------------------------------------------------------------------------------------------------------------------------------------------------------------------------------------------------------------------------------------------------------------------------------------------------------------------------------------------------------------------------------------------------------------------------------------------------------------------------------------------------------------------------------------------------------------------------------------------------------------------------------------------------------------------------------------------------------------------------------------------------------------------------------------------------------------------------------------------------------------------------------------------------------------------------------------------------------------------------------------------------------------------------------------------------------------------------------------------------+-----------+\n",
      "|ID |padded_tokens                                                                                                                                                                                                                                                                                                                                                                                                                                                                                                                                                                                                                                                                                                                                                                                                                                                                                                                                                                                                                                                                                                                                                                                                                                                                                                                                                                                |Label      |\n",
      "+---+---------------------------------------------------------------------------------------------------------------------------------------------------------------------------------------------------------------------------------------------------------------------------------------------------------------------------------------------------------------------------------------------------------------------------------------------------------------------------------------------------------------------------------------------------------------------------------------------------------------------------------------------------------------------------------------------------------------------------------------------------------------------------------------------------------------------------------------------------------------------------------------------------------------------------------------------------------------------------------------------------------------------------------------------------------------------------------------------------------------------------------------------------------------------------------------------------------------------------------------------------------------------------------------------------------------------------------------------------------------------------------------------+-----------+\n",
      "|2  |[ex, wife, threatening, suiciderecently, i, left, my, wife, for, good, because, she, has, cheated, on, me, twice, and, lied, to, me, so, much, that, i, have, decided, to, refuse, to, go, back, to, her., as, of, a, few, days, ago,, she, began, threatening, suicide., i, have, tirelessly, spent, these, paat, few, days, talking, her, out, of, it, and, she, keeps, hesitating, because, she, wants, to, believe, i'll, come, back., i, know, a, lot, of, people, will, threaten, this, in, order, to, get, their, way,, but, what, happens, if, she, really, does?, what, do, i, do, and, how, am, i, supposed, to, handle, her, death, on, my, hands?, i, still, love, my, wife, but, i, cannot, deal, with, getting, cheated, on, again, and, constantly, feeling, insecure., i'm, worried, today, may, be, the, day, she, does, it, and, i, hope, so, much, it, doesn't, happen.]                                                                                                                                                                                                                                                                                                                                                                                                                                                                                                  |suicide    |\n",
      "|3  |[am, i, weird, i, don't, get, affected, by, compliments, if, it's, coming, from, someone, i, know, irl, but, i, feel, really, good, when, internet, strangers, do, it, , , , , , , , , , , , , , , , , , , , , , , ]                                                                                                                                                                                                                                                                                                                                                                                                                                                                                                                                                                                                                                                                                                                                                                                                                                                                                                                                                                                                                                                                                                                                                                         |non-suicide|\n",
      "|4  |[\"finally, 2020, is, almost, over..., so, i, can, never, hear, \"\"2020, has, been, a, bad, year\"\", ever, again., i, swear, to, fucking, god, it's, so, annoying\", , , , , , , , , , , , , , , , , , , , , , , , ]                                                                                                                                                                                                                                                                                                                                                                                                                                                                                                                                                                                                                                                                                                                                                                                                                                                                                                                                                                                                                                                                                                                                                                             |non-suicide|\n",
      "|8  |[i, need, helpjust, help, me, im, crying, so, hard, , , , , , , , , , , , , , , , , , , , , , , , , , , , , , , , , , , , , , , , , ]                                                                                                                                                                                                                                                                                                                                                                                                                                                                                                                                                                                                                                                                                                                                                                                                                                                                                                                                                                                                                                                                                                                                                                                                                                                        |suicide    |\n",
      "|18 |[my, life, is, over, at, 20, years, oldhello, all., i, am, a, 20, year, old, balding, male., my, hairline, is, trash, and, to, make, matters, worse, my, head, is, huge., i, have, bipolar,, depression, and, crippling, social, anxiety., balding, has, been, the, cherry, on, top., i, wear, a, hat, 24/7, even, in, my, room, when, i’m, alone, because, i, can’t, stop, thinking, about, it., i, pop, xanax, all, day, to, try, and, numb, the, pain, and, it, works, for, a, little, bit, but, it, all, comes, crashing, back, twice, as, hard, once, i, come, down., i, don’t, know, how, to, communicate, with, people, anymore, and, i, don’t, know, how, to, keep, a, relationship., i, used, to, be, one, of, the, “popular, kids”, but, after, my, dad, passed, away, i, feel, into, a, deep, dark, hole., i’ve, been, arrested, numerous, times,, been, in, rehab,, mental, hospitals,, you, name, it., the, only, reason, i, haven’t, killed, myself, yet, is, because, of, my, mom, and, brothers., if, i, didn’t, have, them, i’d, be, dead, long, ago., but, it’s, getting, to, the, point, where, even, their, love, and, support, isn’t, going, to, be, enough, to, keep, me, alive, anymore., i’m, either, going, to, be, the, guy, who, killed, himself,, or, the, guy, who, went, bald, and, 20, and, looks, like, a, child, molestor., which, one, would, you, choose?]|suicide    |\n",
      "+---+---------------------------------------------------------------------------------------------------------------------------------------------------------------------------------------------------------------------------------------------------------------------------------------------------------------------------------------------------------------------------------------------------------------------------------------------------------------------------------------------------------------------------------------------------------------------------------------------------------------------------------------------------------------------------------------------------------------------------------------------------------------------------------------------------------------------------------------------------------------------------------------------------------------------------------------------------------------------------------------------------------------------------------------------------------------------------------------------------------------------------------------------------------------------------------------------------------------------------------------------------------------------------------------------------------------------------------------------------------------------------------------------+-----------+\n",
      "only showing top 5 rows\n",
      "\n"
     ]
    }
   ],
   "source": [
    "from pyspark.sql.functions import size\n",
    "from pyspark.sql import types as T\n",
    "\n",
    "# Define the maximum sequence length you want\n",
    "max_sequence_length = 50\n",
    "\n",
    "# Define a function to pad sequences\n",
    "def pad_sequence(tokens, length):\n",
    "    return tokens + [\"\"] * (length - len(tokens))\n",
    "\n",
    "# Create a UDF to apply the padding function\n",
    "pad_udf = F.udf(lambda tokens: pad_sequence(tokens, max_sequence_length), T.ArrayType(T.StringType()))\n",
    "\n",
    "# Apply the UDF to pad the sequences\n",
    "df = df.withColumn(\"padded_tokens\", pad_udf(df[\"tokens\"]))\n",
    "\n",
    "# Select the relevant columns: ID, padded_tokens, and Label\n",
    "final_df = df.select(\"ID\", \"padded_tokens\", \"Label\")\n",
    "\n",
    "# Show the resulting DataFrame\n",
    "final_df.show(5, truncate=False)"
   ]
  },
  {
   "cell_type": "code",
   "execution_count": 18,
   "id": "39a32115",
   "metadata": {},
   "outputs": [
    {
     "name": "stdout",
     "output_type": "stream",
     "text": [
      "+---+--------------------+-----------+\n",
      "| ID|       padded_tokens|      Label|\n",
      "+---+--------------------+-----------+\n",
      "|  2|[ex, wife, threat...|    suicide|\n",
      "|  3|[am, i, weird, i,...|non-suicide|\n",
      "|  4|[\"finally, 2020, ...|non-suicide|\n",
      "|  8|[i, need, helpjus...|    suicide|\n",
      "| 18|[my, life, is, ov...|    suicide|\n",
      "+---+--------------------+-----------+\n",
      "only showing top 5 rows\n",
      "\n"
     ]
    }
   ],
   "source": [
    "final_df.show(5, truncate=True)"
   ]
  },
  {
   "cell_type": "code",
   "execution_count": 19,
   "id": "e6fbd179",
   "metadata": {},
   "outputs": [
    {
     "name": "stderr",
     "output_type": "stream",
     "text": [
      "                                                                                \r"
     ]
    },
    {
     "name": "stdout",
     "output_type": "stream",
     "text": [
      "+---+--------------------+-----------+--------------------+--------------------+----------+\n",
      "| ID|                Text|      Label|              tokens|       padded_tokens|LabelIndex|\n",
      "+---+--------------------+-----------+--------------------+--------------------+----------+\n",
      "|  2|Ex Wife Threateni...|    suicide|[ex, wife, threat...|[ex, wife, threat...|       1.0|\n",
      "|  3|Am I weird I don'...|non-suicide|[am, i, weird, i,...|[am, i, weird, i,...|       0.0|\n",
      "+---+--------------------+-----------+--------------------+--------------------+----------+\n",
      "only showing top 2 rows\n",
      "\n"
     ]
    }
   ],
   "source": [
    "from pyspark.ml.feature import StringIndexer\n",
    "\n",
    "# Initialize the StringIndexer\n",
    "label_indexer = StringIndexer(inputCol=\"Label\", outputCol=\"LabelIndex\")\n",
    "\n",
    "# Fit the StringIndexer on your DataFrame\n",
    "indexed_df = label_indexer.fit(df).transform(df)\n",
    "\n",
    "# Show the resulting DataFrame\n",
    "indexed_df.show(2, truncate=True)"
   ]
  },
  {
   "cell_type": "code",
   "execution_count": 20,
   "id": "dd7dfac6",
   "metadata": {},
   "outputs": [],
   "source": [
    "from pyspark.ml.feature import Word2Vec\n",
    "\n",
    "# Define Word2Vec parameters\n",
    "word2vec = Word2Vec(\n",
    "    vectorSize=100,       # Set the size of the word vectors\n",
    "    seed=42,              # Set a seed for reproducibility\n",
    "    inputCol=\"padded_tokens\",  # Specify the input column with your tokenized and padded text\n",
    "    outputCol=\"word_vectors\"   # Specify the output column for word vectors\n",
    ")"
   ]
  },
  {
   "cell_type": "code",
   "execution_count": 21,
   "id": "af5e6f4a",
   "metadata": {},
   "outputs": [
    {
     "name": "stderr",
     "output_type": "stream",
     "text": [
      "                                                                                \r"
     ]
    }
   ],
   "source": [
    "# Train the Word2Vec model\n",
    "word2vec_model = word2vec.fit(indexed_df)"
   ]
  },
  {
   "cell_type": "code",
   "execution_count": 22,
   "id": "fd57cbc8",
   "metadata": {},
   "outputs": [],
   "source": [
    "# Transform your DataFrame to include word vectors\n",
    "df = word2vec_model.transform(indexed_df)"
   ]
  },
  {
   "cell_type": "code",
   "execution_count": 23,
   "id": "fa25af82",
   "metadata": {},
   "outputs": [
    {
     "name": "stdout",
     "output_type": "stream",
     "text": [
      "+---+--------------------+-------+--------------------+--------------------+----------+--------------------+\n",
      "| ID|                Text|  Label|              tokens|       padded_tokens|LabelIndex|        word_vectors|\n",
      "+---+--------------------+-------+--------------------+--------------------+----------+--------------------+\n",
      "|  2|Ex Wife Threateni...|suicide|[ex, wife, threat...|[ex, wife, threat...|       1.0|[0.15129990431958...|\n",
      "+---+--------------------+-------+--------------------+--------------------+----------+--------------------+\n",
      "only showing top 1 row\n",
      "\n"
     ]
    }
   ],
   "source": [
    "df.show(1, truncate=True)"
   ]
  },
  {
   "cell_type": "code",
   "execution_count": 24,
   "id": "f84ff2a7",
   "metadata": {},
   "outputs": [],
   "source": [
    "from pyspark.ml.feature import StandardScaler\n",
    "from pyspark.ml import Pipeline\n",
    "\n",
    "# Initialize the StandardScaler\n",
    "scaler = StandardScaler(inputCol=\"word_vectors\", outputCol=\"scaled_word_vectors\", withMean=True, withStd=True)"
   ]
  },
  {
   "cell_type": "code",
   "execution_count": 25,
   "id": "105fd5ac",
   "metadata": {},
   "outputs": [],
   "source": [
    "# Create a Pipeline to apply the scaler\n",
    "pipeline = Pipeline(stages=[scaler])"
   ]
  },
  {
   "cell_type": "code",
   "execution_count": 26,
   "id": "a4c72ad7",
   "metadata": {},
   "outputs": [
    {
     "name": "stderr",
     "output_type": "stream",
     "text": [
      "                                                                                \r"
     ]
    }
   ],
   "source": [
    "# Fit and transform your DataFrame using the pipeline\n",
    "scaled_df = pipeline.fit(df).transform(df)"
   ]
  },
  {
   "cell_type": "code",
   "execution_count": 27,
   "id": "47240faa",
   "metadata": {},
   "outputs": [
    {
     "name": "stdout",
     "output_type": "stream",
     "text": [
      "+---+--------------------+-----------+--------------------+--------------------+----------+--------------------+--------------------+\n",
      "| ID|                Text|      Label|              tokens|       padded_tokens|LabelIndex|        word_vectors| scaled_word_vectors|\n",
      "+---+--------------------+-----------+--------------------+--------------------+----------+--------------------+--------------------+\n",
      "|  2|Ex Wife Threateni...|    suicide|[ex, wife, threat...|[ex, wife, threat...|       1.0|[0.15129990431958...|[1.20124083637301...|\n",
      "|  3|Am I weird I don'...|non-suicide|[am, i, weird, i,...|[am, i, weird, i,...|       0.0|[-0.0481562759727...|[-0.1914851304084...|\n",
      "|  4|\"Finally 2020 is ...|non-suicide|[\"finally, 2020, ...|[\"finally, 2020, ...|       0.0|[-0.0920528553985...|[-0.4979980994705...|\n",
      "|  8|i need helpjust h...|    suicide|[i, need, helpjus...|[i, need, helpjus...|       1.0|[-0.1856799309793...|[-1.1517600393823...|\n",
      "| 18|My life is over a...|    suicide|[my, life, is, ov...|[my, life, is, ov...|       1.0|[0.08548574968933...|[0.74168585040570...|\n",
      "+---+--------------------+-----------+--------------------+--------------------+----------+--------------------+--------------------+\n",
      "only showing top 5 rows\n",
      "\n"
     ]
    }
   ],
   "source": [
    "scaled_df.show(5, truncate=True)"
   ]
  },
  {
   "cell_type": "code",
   "execution_count": 28,
   "id": "e7224435",
   "metadata": {},
   "outputs": [
    {
     "name": "stdout",
     "output_type": "stream",
     "text": [
      "root\n",
      " |-- ID: integer (nullable = true)\n",
      " |-- Text: string (nullable = true)\n",
      " |-- Label: string (nullable = true)\n",
      " |-- tokens: array (nullable = true)\n",
      " |    |-- element: string (containsNull = true)\n",
      " |-- padded_tokens: array (nullable = true)\n",
      " |    |-- element: string (containsNull = true)\n",
      " |-- LabelIndex: double (nullable = false)\n",
      " |-- word_vectors: vector (nullable = true)\n",
      " |-- scaled_word_vectors: vector (nullable = true)\n",
      "\n"
     ]
    }
   ],
   "source": [
    "scaled_df.printSchema()"
   ]
  },
  {
   "cell_type": "code",
   "execution_count": 29,
   "id": "4fa0e47b",
   "metadata": {},
   "outputs": [],
   "source": [
    "from torch import nn, optim, Tensor\n",
    "import torch\n",
    "from sklearn.metrics import accuracy_score, classification_report, confusion_matrix\n",
    "from tqdm import tqdm\n",
    "from torch.utils.data import DataLoader, TensorDataset\n",
    "from sklearn.model_selection import train_test_split\n",
    "import numpy as np\n",
    "import matplotlib.pyplot as plt\n",
    "from sklearn.metrics import confusion_matrix\n",
    "import seaborn as sns"
   ]
  },
  {
   "cell_type": "code",
   "execution_count": 30,
   "id": "6bb67b87",
   "metadata": {},
   "outputs": [
    {
     "name": "stderr",
     "output_type": "stream",
     "text": [
      "                                                                                \r"
     ]
    }
   ],
   "source": [
    "# Extract relevant columns\n",
    "scaled_word_vectors = scaled_df.select(\"scaled_word_vectors\").rdd.flatMap(lambda x: x).collect()\n",
    "labels = scaled_df.select(\"LabelIndex\").rdd.flatMap(lambda x: x).collect()"
   ]
  },
  {
   "cell_type": "code",
   "execution_count": 31,
   "id": "e022fca3",
   "metadata": {},
   "outputs": [],
   "source": [
    "# Convert scaled_word_vectors to NumPy array\n",
    "X = np.array(scaled_word_vectors)"
   ]
  },
  {
   "cell_type": "code",
   "execution_count": 32,
   "id": "1b39a3b7",
   "metadata": {},
   "outputs": [],
   "source": [
    "# Convert labels to NumPy array\n",
    "y = np.array(labels)"
   ]
  },
  {
   "cell_type": "code",
   "execution_count": 33,
   "id": "e180fee0",
   "metadata": {},
   "outputs": [],
   "source": [
    "from sklearn.model_selection import train_test_split\n",
    "\n",
    "# Split data into training and validation sets\n",
    "X_train, X_validation, y_train, y_validation = train_test_split(X, y, test_size=0.2, random_state=42)"
   ]
  },
  {
   "cell_type": "code",
   "execution_count": 34,
   "id": "68bca390",
   "metadata": {},
   "outputs": [],
   "source": [
    "import torch\n",
    "\n",
    "# Assuming you have X_train, X_validation, y_train, and y_validation prepared\n",
    "\n",
    "# Convert NumPy arrays to PyTorch tensors for training and validation sets\n",
    "X_train = torch.tensor(X_train, dtype=torch.float32)\n",
    "X_validation = torch.tensor(X_validation, dtype=torch.float32)\n",
    "y_train = torch.tensor(y_train, dtype=torch.float32)\n",
    "y_validation = torch.tensor(y_validation, dtype=torch.float32)"
   ]
  },
  {
   "cell_type": "code",
   "execution_count": 35,
   "id": "ba91b355",
   "metadata": {},
   "outputs": [],
   "source": [
    "# Define the RNN model using PyTorch\n",
    "class RNNModel(nn.Module):\n",
    "    def __init__(self, input_size, hidden_size, output_size):\n",
    "        super(RNNModel, self).__init__()\n",
    "        self.lstm = nn.LSTM(input_size, hidden_size)\n",
    "        self.fc = nn.Linear(hidden_size, output_size)\n",
    "    \n",
    "    def forward(self, x):\n",
    "        out, _ = self.lstm(x)\n",
    "        out = self.fc(out[:, -1, :])  # Use the last LSTM output\n",
    "        return out"
   ]
  },
  {
   "cell_type": "code",
   "execution_count": 36,
   "id": "e442a7e9",
   "metadata": {},
   "outputs": [],
   "source": [
    "# Model configuration\n",
    "input_size = X_train.shape[1]\n",
    "hidden_size = 100\n",
    "output_size = 1  # Binary classification\n",
    "model = RNNModel(input_size, hidden_size, output_size)"
   ]
  },
  {
   "cell_type": "code",
   "execution_count": 37,
   "id": "560858cc",
   "metadata": {},
   "outputs": [],
   "source": [
    "# Define loss function and optimizer\n",
    "criterion = nn.BCEWithLogitsLoss()\n",
    "optimizer = optim.Adam(model.parameters(), lr=0.001)"
   ]
  },
  {
   "cell_type": "code",
   "execution_count": 38,
   "id": "d4e645ea",
   "metadata": {},
   "outputs": [],
   "source": [
    "# Training parameters\n",
    "num_epochs, batch_size, verbose = 10, 32, 1"
   ]
  },
  {
   "cell_type": "code",
   "execution_count": 39,
   "id": "ce487683",
   "metadata": {},
   "outputs": [],
   "source": [
    "# Prepare DataLoaders for training and validation\n",
    "train_dataset = TensorDataset(X_train.unsqueeze(1), y_train)\n",
    "train_loader = DataLoader(train_dataset, batch_size=batch_size, shuffle=True)\n",
    "\n",
    "validation_dataset = TensorDataset(X_validation.unsqueeze(1), y_validation)\n",
    "validation_loader = DataLoader(validation_dataset, batch_size=batch_size, shuffle=False)\n"
   ]
  },
  {
   "cell_type": "code",
   "execution_count": 40,
   "id": "c9f4a8e5",
   "metadata": {},
   "outputs": [],
   "source": [
    "# Initialize lists to store training and validation losses\n",
    "train_losses = []  # List to store training losses\n",
    "validation_losses = []   # List to store validation losses"
   ]
  },
  {
   "cell_type": "code",
   "execution_count": 41,
   "id": "5c8d5725",
   "metadata": {},
   "outputs": [
    {
     "name": "stdout",
     "output_type": "stream",
     "text": [
      "Epoch 1/10: Training Loss: 0.2630132405591806, Training Accuracy: 0.8935865659884336\n",
      "Epoch 1/10: Validation Loss: 0.231685319462338, Validation Accuracy: 0.9053181678450661\n",
      "Epoch 2/10: Training Loss: 0.2358506104035393, Training Accuracy: 0.9055276961208139\n",
      "Epoch 2/10: Validation Loss: 0.2203703355135657, Validation Accuracy: 0.9146172763602828\n",
      "Epoch 3/10: Training Loss: 0.22664726051438086, Training Accuracy: 0.9096873979287952\n",
      "Epoch 3/10: Validation Loss: 0.21648915007673844, Validation Accuracy: 0.9136950507224101\n",
      "Epoch 4/10: Training Loss: 0.2208340956499961, Training Accuracy: 0.9128672161700002\n",
      "Epoch 4/10: Validation Loss: 0.22104302808386103, Validation Accuracy: 0.9149631109744851\n",
      "Epoch 5/10: Training Loss: 0.21631925717818437, Training Accuracy: 0.9132706976386727\n",
      "Epoch 5/10: Validation Loss: 0.21141430917733717, Validation Accuracy: 0.9153089455886874\n",
      "Epoch 6/10: Training Loss: 0.21263261724124863, Training Accuracy: 0.915845293676869\n",
      "Epoch 6/10: Validation Loss: 0.20625607813285154, Validation Accuracy: 0.9180371964340609\n",
      "Epoch 7/10: Training Loss: 0.20938026010784008, Training Accuracy: 0.9172670855188579\n",
      "Epoch 7/10: Validation Loss: 0.2054859715644316, Validation Accuracy: 0.9184983092529972\n",
      "Epoch 8/10: Training Loss: 0.20629842959280256, Training Accuracy: 0.9181316886660134\n",
      "Epoch 8/10: Validation Loss: 0.20371065073685504, Validation Accuracy: 0.9193821088226253\n",
      "Epoch 9/10: Training Loss: 0.20412641194071582, Training Accuracy: 0.9189962918131689\n",
      "Epoch 9/10: Validation Loss: 0.20557667211119168, Validation Accuracy: 0.9176913618198586\n",
      "Epoch 10/10: Training Loss: 0.20135611464099684, Training Accuracy: 0.9204661171633332\n",
      "Epoch 10/10: Validation Loss: 0.20378594855830548, Validation Accuracy: 0.9193436827543806\n"
     ]
    }
   ],
   "source": [
    "train_losses = []       # List to store training losses\n",
    "validation_losses = []  # List to store validation losses\n",
    "train_accuracies = []   # List to store training accuracies\n",
    "validation_accuracies = []  # List to store validation accuracies\n",
    "\n",
    "for epoch in range(num_epochs):\n",
    "    train_total_loss, train_correct_predictions = 0.0, 0\n",
    "    validation_total_loss, validation_correct_predictions = 0.0, 0\n",
    "\n",
    "    # Training loop\n",
    "    model.train()  # Set the model in training mode\n",
    "    \n",
    "    for inputs, labels in train_loader:\n",
    "        optimizer.zero_grad()\n",
    "        outputs = model(inputs)\n",
    "        loss = criterion(outputs.squeeze(), labels)\n",
    "        loss.backward()\n",
    "        optimizer.step()\n",
    "        \n",
    "        train_total_loss += loss.item()\n",
    "        predicted = (torch.sigmoid(outputs) > 0.5).float()\n",
    "        train_correct_predictions += (predicted.squeeze() == labels).sum().item()\n",
    "    \n",
    "    average_train_loss = train_total_loss / len(train_loader)\n",
    "    train_accuracy = train_correct_predictions / len(train_dataset)\n",
    "    \n",
    "    train_losses.append(average_train_loss)  # Append training loss for this epoch\n",
    "    train_accuracies.append(train_accuracy)  # Append training accuracy for this epoch\n",
    "    \n",
    "    if verbose:\n",
    "        print(f\"Epoch {epoch + 1}/{num_epochs}: Training Loss: {average_train_loss}, Training Accuracy: {train_accuracy}\")\n",
    "    \n",
    "    # Validation loop\n",
    "    model.eval()  # Set the model in evaluation mode\n",
    "    \n",
    "    with torch.no_grad():\n",
    "        for inputs, labels in validation_loader:\n",
    "            outputs = model(inputs)\n",
    "            loss = criterion(outputs.squeeze(), labels)\n",
    "            validation_total_loss += loss.item()\n",
    "            \n",
    "            predicted = (torch.sigmoid(outputs) > 0.5).float()\n",
    "            validation_correct_predictions += (predicted.squeeze() == labels).sum().item()\n",
    "    \n",
    "    average_validation_loss = validation_total_loss / len(validation_loader)\n",
    "    validation_accuracy = validation_correct_predictions / len(validation_dataset)\n",
    "    \n",
    "    validation_losses.append(average_validation_loss)  # Append validation loss for this epoch\n",
    "    validation_accuracies.append(validation_accuracy)  # Append validation accuracy for this epoch\n",
    "    \n",
    "    if verbose:\n",
    "        print(f\"Epoch {epoch + 1}/{num_epochs}: Validation Loss: {average_validation_loss}, Validation Accuracy: {validation_accuracy}\")"
   ]
  },
  {
   "cell_type": "code",
   "execution_count": 42,
   "id": "629e8ab9",
   "metadata": {},
   "outputs": [
    {
     "data": {
      "image/png": "[encoded data removed]",
      "text/plain": [
       "<Figure size 720x360 with 1 Axes>"
      ]
     },
     "metadata": {
      "needs_background": "light"
     },
     "output_type": "display_data"
    }
   ],
   "source": [
    "import matplotlib.pyplot as plt\n",
    "import seaborn as sns\n",
    "\n",
    "# Assuming you have 'train_accuracies' and 'validation_accuracies' lists\n",
    "\n",
    "# Plot training and validation accuracy\n",
    "plt.figure(figsize=(10, 5))\n",
    "sns.set(style=\"whitegrid\")  # Set Seaborn style\n",
    "\n",
    "plt.plot(train_accuracies, label='Training Accuracy', color='b')\n",
    "plt.plot(validation_accuracies, label='Validation Accuracy', color='r')\n",
    "\n",
    "plt.xlabel('Epochs')\n",
    "plt.ylabel('Accuracy')\n",
    "plt.title('Training and Validation Accuracy Over Epochs')\n",
    "plt.legend(loc='lower right')\n",
    "plt.show()"
   ]
  },
  {
   "cell_type": "code",
   "execution_count": 49,
   "id": "93552db0",
   "metadata": {},
   "outputs": [],
   "source": [
    "from sklearn.model_selection import train_test_split\n",
    "\n",
    "# Split your data into training and testing sets\n",
    "X_train, X_test, y_train, y_test = train_test_split(X, y, test_size=0.2, random_state=42)\n"
   ]
  },
  {
   "cell_type": "code",
   "execution_count": 50,
   "id": "b4249df9",
   "metadata": {},
   "outputs": [],
   "source": [
    "from torch.utils.data import TensorDataset, DataLoader\n",
    "\n",
    "# Create a test dataset using your X_test and y_test\n",
    "test_dataset = TensorDataset(torch.tensor(X_test, dtype=torch.float32), torch.tensor(y_test, dtype=torch.float32))"
   ]
  },
  {
   "cell_type": "code",
   "execution_count": 52,
   "id": "bcab5059",
   "metadata": {},
   "outputs": [
    {
     "name": "stdout",
     "output_type": "stream",
     "text": [
      "Test Loss: 0.20378594855830548, Test Accuracy: 0.9193436827543806\n",
      "Confusion Matrix:\n",
      "[[14438   902]\n",
      " [ 1197  9487]]\n"
     ]
    }
   ],
   "source": [
    "from sklearn.metrics import confusion_matrix\n",
    "\n",
    "# Assuming you have prepared a test dataset named 'test_dataset'\n",
    "test_loader = DataLoader(test_dataset, batch_size=batch_size, shuffle=False)\n",
    "\n",
    "# Initialize variables to store true labels and predicted labels\n",
    "true_labels = []\n",
    "predicted_labels = []\n",
    "\n",
    "# Set the model in evaluation mode\n",
    "model.eval()\n",
    "\n",
    "# Initialize lists to store test losses and correct predictions\n",
    "test_losses = []\n",
    "correct_predictions = 0\n",
    "\n",
    "# Disable gradient calculation during evaluation\n",
    "with torch.no_grad():\n",
    "    for inputs, labels in test_loader:\n",
    "        # Reshape inputs to match the model's input requirements\n",
    "        inputs = inputs.unsqueeze(1)  # Add a sequence length dimension\n",
    "        \n",
    "        # Forward pass\n",
    "        outputs = model(inputs)\n",
    "        \n",
    "        # Calculate test loss\n",
    "        test_loss = criterion(outputs.squeeze(), labels)\n",
    "        test_losses.append(test_loss.item())\n",
    "        \n",
    "        # Calculate predictions and accuracy\n",
    "        predicted = (torch.sigmoid(outputs) > 0.5).float()\n",
    "        correct_predictions += (predicted.squeeze() == labels).sum().item()\n",
    "        \n",
    "        # Append true labels and predicted labels to the lists\n",
    "        true_labels.extend(labels.cpu().numpy())\n",
    "        predicted_labels.extend(predicted.cpu().numpy())\n",
    "\n",
    "# Calculate average test loss and accuracy\n",
    "test_average_loss = sum(test_losses) / len(test_losses)\n",
    "test_accuracy = correct_predictions / len(test_dataset)\n",
    "\n",
    "# Create the confusion matrix\n",
    "conf_matrix = confusion_matrix(true_labels, predicted_labels)\n",
    "\n",
    "# Print test results and confusion matrix\n",
    "print(f\"Test Loss: {test_average_loss}, Test Accuracy: {test_accuracy}\")\n",
    "print(\"Confusion Matrix:\")\n",
    "print(conf_matrix)"
   ]
  },
  {
   "cell_type": "code",
   "execution_count": 53,
   "id": "c78f9e26",
   "metadata": {},
   "outputs": [
    {
     "name": "stdout",
     "output_type": "stream",
     "text": [
      "Accuracy: 0.9193\n",
      "Precision: 0.9132\n",
      "Recall (Sensitivity): 0.8880\n",
      "Specificity: 0.9412\n",
      "F1 Score: 0.9004\n"
     ]
    }
   ],
   "source": [
    "# Calculate and print performance metrics\n",
    "accuracy = (conf_matrix[0, 0] + conf_matrix[1, 1]) / conf_matrix.sum()\n",
    "precision = conf_matrix[1, 1] / (conf_matrix[1, 1] + conf_matrix[0, 1])\n",
    "recall = conf_matrix[1, 1] / (conf_matrix[1, 1] + conf_matrix[1, 0])\n",
    "specificity = conf_matrix[0, 0] / (conf_matrix[0, 0] + conf_matrix[0, 1])\n",
    "f1_score = 2 * (precision * recall) / (precision + recall)\n",
    "\n",
    "print(f\"Accuracy: {accuracy:.4f}\")\n",
    "print(f\"Precision: {precision:.4f}\")\n",
    "print(f\"Recall (Sensitivity): {recall:.4f}\")\n",
    "print(f\"Specificity: {specificity:.4f}\")\n",
    "print(f\"F1 Score: {f1_score:.4f}\")"
   ]
  },
  {
   "cell_type": "code",
   "execution_count": null,
   "id": "31c222d8",
   "metadata": {},
   "outputs": [],
   "source": []
  }
 ],
 "metadata": {
  "kernelspec": {
   "display_name": "Python 3 (ipykernel)",
   "language": "python",
   "name": "python3"
  },
  "language_info": {
   "codemirror_mode": {
    "name": "ipython",
    "version": 3
   },
   "file_extension": ".py",
   "mimetype": "text/x-python",
   "name": "python",
   "nbconvert_exporter": "python",
   "pygments_lexer": "ipython3",
   "version": "3.10.12"
  }
 },
 "nbformat": 4,
 "nbformat_minor": 5
}
