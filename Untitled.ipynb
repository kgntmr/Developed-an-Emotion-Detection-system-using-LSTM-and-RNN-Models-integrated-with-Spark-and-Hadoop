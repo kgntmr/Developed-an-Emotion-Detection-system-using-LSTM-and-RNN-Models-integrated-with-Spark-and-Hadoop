{
 "cells": [
  {
   "cell_type": "code",
   "execution_count": 1,
   "id": "db5de378",
   "metadata": {},
   "outputs": [],
   "source": [
    "# sc master running locally\n",
    "sc.master\n",
    "\n",
    "import warnings\n",
    "warnings.filterwarnings(\"ignore\")\n",
    "\n",
    "# spark is from the previous example.\n",
    "sc = spark.sparkContext"
   ]
  },
  {
   "cell_type": "code",
   "execution_count": 2,
   "id": "9f465503",
   "metadata": {},
   "outputs": [
    {
     "name": "stderr",
     "output_type": "stream",
     "text": [
      "\r",
      "[Stage 0:>                                                          (0 + 1) / 1]\r",
      "\r",
      "                                                                                \r"
     ]
    }
   ],
   "source": [
    "path = \"/user1/Suicide_Detection.csv\"\n",
    "df = spark.read.csv(path)"
   ]
  },
  {
   "cell_type": "code",
   "execution_count": 3,
   "id": "f724f3b5",
   "metadata": {},
   "outputs": [
    {
     "name": "stdout",
     "output_type": "stream",
     "text": [
      "root\n",
      " |-- _c0: string (nullable = true)\n",
      " |-- _c1: string (nullable = true)\n",
      " |-- _c2: string (nullable = true)\n",
      "\n"
     ]
    }
   ],
   "source": [
    "# The inferred schema can be visualized using the printSchema() method\n",
    "df.printSchema()"
   ]
  },
  {
   "cell_type": "code",
   "execution_count": 4,
   "id": "54a62d23",
   "metadata": {},
   "outputs": [
    {
     "name": "stdout",
     "output_type": "stream",
     "text": [
      "+----+--------------------+-----------+\n",
      "|  ID|                Text|      Label|\n",
      "+----+--------------------+-----------+\n",
      "|null|                text|      class|\n",
      "|   2|Ex Wife Threateni...|    suicide|\n",
      "|   3|Am I weird I don'...|non-suicide|\n",
      "|   4|\"Finally 2020 is ...|non-suicide|\n",
      "|   8|i need helpjust h...|    suicide|\n",
      "+----+--------------------+-----------+\n",
      "only showing top 5 rows\n",
      "\n"
     ]
    }
   ],
   "source": [
    "# Rename the columns\n",
    "df = df.withColumnRenamed('_c0', 'ID')      # Rename _c0 to ID\n",
    "df = df.withColumnRenamed('_c1', 'Text')    # Rename _c1 to Text\n",
    "df = df.withColumnRenamed('_c2', 'Label')   # Rename _c2 to Label\n",
    "\n",
    "# Show the DataFrame with renamed columns\n",
    "df.show(5)"
   ]
  },
  {
   "cell_type": "code",
   "execution_count": 5,
   "id": "aa8b6e12",
   "metadata": {},
   "outputs": [
    {
     "name": "stderr",
     "output_type": "stream",
     "text": [
      "\r",
      "[Stage 2:>                                                          (0 + 4) / 4]\r"
     ]
    },
    {
     "name": "stdout",
     "output_type": "stream",
     "text": [
      "Total Rows: 664905\n",
      "root\n",
      " |-- ID: string (nullable = true)\n",
      " |-- Text: string (nullable = true)\n",
      " |-- Label: string (nullable = true)\n",
      "\n"
     ]
    },
    {
     "name": "stderr",
     "output_type": "stream",
     "text": [
      "\r",
      "                                                                                \r"
     ]
    }
   ],
   "source": [
    "# Count Rows\n",
    "row_count = df.count()\n",
    "print(\"Total Rows:\", row_count)\n",
    "\n",
    "# Get Schema\n",
    "df.printSchema()"
   ]
  },
  {
   "cell_type": "code",
   "execution_count": 6,
   "id": "f00b0e4b",
   "metadata": {},
   "outputs": [],
   "source": [
    "from pyspark.sql.functions import col\n",
    "\n",
    "# \"ID\" column datatype changing\n",
    "df = df.withColumn(\"ID\", col(\"ID\").cast(\"integer\"))"
   ]
  },
  {
   "cell_type": "code",
   "execution_count": 7,
   "id": "4fb78d2f",
   "metadata": {},
   "outputs": [],
   "source": [
    "# Remove rows with null values in any column\n",
    "df = df.na.drop()"
   ]
  },
  {
   "cell_type": "code",
   "execution_count": 8,
   "id": "4748cb9d",
   "metadata": {},
   "outputs": [
    {
     "name": "stdout",
     "output_type": "stream",
     "text": [
      "+---+--------------------+-----------+\n",
      "| ID|                Text|      Label|\n",
      "+---+--------------------+-----------+\n",
      "|  2|Ex Wife Threateni...|    suicide|\n",
      "|  3|Am I weird I don'...|non-suicide|\n",
      "|  4|\"Finally 2020 is ...|non-suicide|\n",
      "|  8|i need helpjust h...|    suicide|\n",
      "| 18|My life is over a...|    suicide|\n",
      "| 19|I took the rest o...|    suicide|\n",
      "| 21|Do you think gett...|    suicide|\n",
      "| 23|Been arrested - f...|    suicide|\n",
      "| 24|Fuck the verizon ...|non-suicide|\n",
      "| 31|Me: I know I have...|non-suicide|\n",
      "| 37|Guys I want frien...|non-suicide|\n",
      "| 39|I’m trashLol I no...|    suicide|\n",
      "| 41|What is the best ...|    suicide|\n",
      "| 43|Today's fact is R...|non-suicide|\n",
      "| 44|I feel like I am ...|    suicide|\n",
      "| 45|Is it worth it?Is...|    suicide|\n",
      "| 47|I triple nipple d...|non-suicide|\n",
      "| 54|Hey, im gonna sle...|non-suicide|\n",
      "| 57|I learnt a new sk...|non-suicide|\n",
      "| 62|Why does no one u...|non-suicide|\n",
      "+---+--------------------+-----------+\n",
      "only showing top 20 rows\n",
      "\n"
     ]
    }
   ],
   "source": [
    "from pyspark.sql.functions import col\n",
    "\n",
    "# Filter the DataFrame to include only 'suicide' and 'non-suicide' labels\n",
    "df = df.filter((col('Label') == 'suicide') | (col('Label') == 'non-suicide'))\n",
    "\n",
    "# Show the resulting DataFrame\n",
    "df.show()"
   ]
  },
  {
   "cell_type": "code",
   "execution_count": 9,
   "id": "b49e8a5b",
   "metadata": {},
   "outputs": [
    {
     "name": "stderr",
     "output_type": "stream",
     "text": [
      "[Stage 6:==============>                                            (1 + 3) / 4]\r"
     ]
    },
    {
     "name": "stdout",
     "output_type": "stream",
     "text": [
      "+-----------+-----+\n",
      "|      Label|count|\n",
      "+-----------+-----+\n",
      "|non-suicide|76506|\n",
      "|    suicide|53612|\n",
      "+-----------+-----+\n",
      "\n"
     ]
    },
    {
     "name": "stderr",
     "output_type": "stream",
     "text": [
      "\r",
      "                                                                                \r"
     ]
    }
   ],
   "source": [
    "# Assuming 'df' is your DataFrame and 'Label' is the column of interest\n",
    "label_counts = df.groupBy(\"Label\").count().orderBy(col(\"count\").desc())\n",
    "\n",
    "# Show the label counts\n",
    "label_counts.show()"
   ]
  },
  {
   "cell_type": "code",
   "execution_count": 10,
   "id": "4c750ce3",
   "metadata": {},
   "outputs": [
    {
     "name": "stdout",
     "output_type": "stream",
     "text": [
      "+---+-------------------------------------------------------------------------------------------------------------------------------------------------------------------------------------------------------------------------------------------------------------------------------------------------------------------------------------------------------------------------------------------------------------------------------------------------------------------------------------------------------------------------------------------------------------------------------------------------------------------------------------------------------------------------------------------------------------------------------------------+-----------+\n",
      "|ID |Text                                                                                                                                                                                                                                                                                                                                                                                                                                                                                                                                                                                                                                                                                                                                       |Label      |\n",
      "+---+-------------------------------------------------------------------------------------------------------------------------------------------------------------------------------------------------------------------------------------------------------------------------------------------------------------------------------------------------------------------------------------------------------------------------------------------------------------------------------------------------------------------------------------------------------------------------------------------------------------------------------------------------------------------------------------------------------------------------------------------+-----------+\n",
      "|2  |Ex Wife Threatening SuicideRecently I left my wife for good because she has cheated on me twice and lied to me so much that I have decided to refuse to go back to her. As of a few days ago, she began threatening suicide. I have tirelessly spent these paat few days talking her out of it and she keeps hesitating because she wants to believe I'll come back. I know a lot of people will threaten this in order to get their way, but what happens if she really does? What do I do and how am I supposed to handle her death on my hands? I still love my wife but I cannot deal with getting cheated on again and constantly feeling insecure. I'm worried today may be the day she does it and I hope so much it doesn't happen.|suicide    |\n",
      "|3  |Am I weird I don't get affected by compliments if it's coming from someone I know irl but I feel really good when internet strangers do it                                                                                                                                                                                                                                                                                                                                                                                                                                                                                                                                                                                                 |non-suicide|\n",
      "+---+-------------------------------------------------------------------------------------------------------------------------------------------------------------------------------------------------------------------------------------------------------------------------------------------------------------------------------------------------------------------------------------------------------------------------------------------------------------------------------------------------------------------------------------------------------------------------------------------------------------------------------------------------------------------------------------------------------------------------------------------+-----------+\n",
      "only showing top 2 rows\n",
      "\n"
     ]
    }
   ],
   "source": [
    "df.show(2, truncate=False)"
   ]
  },
  {
   "cell_type": "code",
   "execution_count": 11,
   "id": "51cd238c",
   "metadata": {},
   "outputs": [
    {
     "name": "stdout",
     "output_type": "stream",
     "text": [
      "+---+------------------------------------------------------------------------------------------------------------------------------------------------------------------------------------------------------------------------------------------------------------------------------------------------------------------------------------------------------------------------------------------------------------------------------------------------------------------------------------------------------------------------------------------------------------------------------------------------------------------------------------------------------------------------------------------------------------------------------------------------------------------------------------------------------------------------------------------------------------------------------------------------------------------------------------------------------------------------------------------------------------------------------------------------------------------------------------------------------------------------------------------------------------+-----------+---------------------------------------------------------------------------------------------------------------------------------------------------------------------------------------------------------------------------------------------------------------------------------------------------------------------------------------------------------------------------------------------------------------------------------------------------------------------------------------------------------------------------------------------------------------------------------------------------------------------------------------------------------------------------------------------------------------------------------------------------------------------------------------------------------------------------------------------------------------------------------------------------------------------------------------------------------------------------------------------------------------------------------------------------------------------------------------------------------------------------------------------------------------------------------------------------------------------------------------------------------------------------------------------------------------------------------------------------------------------------------------------+\n",
      "|ID |Text                                                                                                                                                                                                                                                                                                                                                                                                                                                                                                                                                                                                                                                                                                                                                                                                                                                                                                                                                                                                                                                                                                                                                        |Label      |tokens                                                                                                                                                                                                                                                                                                                                                                                                                                                                                                                                                                                                                                                                                                                                                                                                                                                                                                                                                                                                                                                                                                                                                                                                                                                                                                                                                                                       |\n",
      "+---+------------------------------------------------------------------------------------------------------------------------------------------------------------------------------------------------------------------------------------------------------------------------------------------------------------------------------------------------------------------------------------------------------------------------------------------------------------------------------------------------------------------------------------------------------------------------------------------------------------------------------------------------------------------------------------------------------------------------------------------------------------------------------------------------------------------------------------------------------------------------------------------------------------------------------------------------------------------------------------------------------------------------------------------------------------------------------------------------------------------------------------------------------------+-----------+---------------------------------------------------------------------------------------------------------------------------------------------------------------------------------------------------------------------------------------------------------------------------------------------------------------------------------------------------------------------------------------------------------------------------------------------------------------------------------------------------------------------------------------------------------------------------------------------------------------------------------------------------------------------------------------------------------------------------------------------------------------------------------------------------------------------------------------------------------------------------------------------------------------------------------------------------------------------------------------------------------------------------------------------------------------------------------------------------------------------------------------------------------------------------------------------------------------------------------------------------------------------------------------------------------------------------------------------------------------------------------------------+\n",
      "|2  |Ex Wife Threatening SuicideRecently I left my wife for good because she has cheated on me twice and lied to me so much that I have decided to refuse to go back to her. As of a few days ago, she began threatening suicide. I have tirelessly spent these paat few days talking her out of it and she keeps hesitating because she wants to believe I'll come back. I know a lot of people will threaten this in order to get their way, but what happens if she really does? What do I do and how am I supposed to handle her death on my hands? I still love my wife but I cannot deal with getting cheated on again and constantly feeling insecure. I'm worried today may be the day she does it and I hope so much it doesn't happen.                                                                                                                                                                                                                                                                                                                                                                                                                 |suicide    |[ex, wife, threatening, suiciderecently, i, left, my, wife, for, good, because, she, has, cheated, on, me, twice, and, lied, to, me, so, much, that, i, have, decided, to, refuse, to, go, back, to, her., as, of, a, few, days, ago,, she, began, threatening, suicide., i, have, tirelessly, spent, these, paat, few, days, talking, her, out, of, it, and, she, keeps, hesitating, because, she, wants, to, believe, i'll, come, back., i, know, a, lot, of, people, will, threaten, this, in, order, to, get, their, way,, but, what, happens, if, she, really, does?, what, do, i, do, and, how, am, i, supposed, to, handle, her, death, on, my, hands?, i, still, love, my, wife, but, i, cannot, deal, with, getting, cheated, on, again, and, constantly, feeling, insecure., i'm, worried, today, may, be, the, day, she, does, it, and, i, hope, so, much, it, doesn't, happen.]                                                                                                                                                                                                                                                                                                                                                                                                                                                                                                  |\n",
      "|3  |Am I weird I don't get affected by compliments if it's coming from someone I know irl but I feel really good when internet strangers do it                                                                                                                                                                                                                                                                                                                                                                                                                                                                                                                                                                                                                                                                                                                                                                                                                                                                                                                                                                                                                  |non-suicide|[am, i, weird, i, don't, get, affected, by, compliments, if, it's, coming, from, someone, i, know, irl, but, i, feel, really, good, when, internet, strangers, do, it]                                                                                                                                                                                                                                                                                                                                                                                                                                                                                                                                                                                                                                                                                                                                                                                                                                                                                                                                                                                                                                                                                                                                                                                                                       |\n",
      "|4  |\"Finally 2020 is almost over... So I can never hear \"\"2020 has been a bad year\"\" ever again. I swear to fucking God it's so annoying\"                                                                                                                                                                                                                                                                                                                                                                                                                                                                                                                                                                                                                                                                                                                                                                                                                                                                                                                                                                                                                       |non-suicide|[\"finally, 2020, is, almost, over..., so, i, can, never, hear, \"\"2020, has, been, a, bad, year\"\", ever, again., i, swear, to, fucking, god, it's, so, annoying\"]                                                                                                                                                                                                                                                                                                                                                                                                                                                                                                                                                                                                                                                                                                                                                                                                                                                                                                                                                                                                                                                                                                                                                                                                                             |\n",
      "|8  |i need helpjust help me im crying so hard                                                                                                                                                                                                                                                                                                                                                                                                                                                                                                                                                                                                                                                                                                                                                                                                                                                                                                                                                                                                                                                                                                                   |suicide    |[i, need, helpjust, help, me, im, crying, so, hard]                                                                                                                                                                                                                                                                                                                                                                                                                                                                                                                                                                                                                                                                                                                                                                                                                                                                                                                                                                                                                                                                                                                                                                                                                                                                                                                                          |\n",
      "|18 |My life is over at 20 years oldHello all. I am a 20 year old balding male. My hairline is trash and to make matters worse my head is HUGE. I have bipolar, depression and crippling social anxiety. Balding has been the cherry on top. I wear a hat 24/7 even in my room when I’m alone because I can’t stop thinking about it. I pop Xanax all day to try and numb the pain and it works for a little bit but it all comes crashing back twice as hard once I come down. I don’t know how to communicate with people anymore and I don’t know how to keep a relationship. I used to be one of the “popular kids” but after my dad passed away I feel into a deep dark hole. I’ve been arrested numerous times, been in rehab, mental hospitals, you name it. The only reason I haven’t killed myself yet is because of my mom and brothers. If I didn’t have them I’d be dead long ago. But it’s getting to the point where even their love and support isn’t going to be enough to keep me alive anymore. I’m either going to be the guy who killed himself, or the guy who went bald and 20 and looks like a child molestor. Which one would you choose?|suicide    |[my, life, is, over, at, 20, years, oldhello, all., i, am, a, 20, year, old, balding, male., my, hairline, is, trash, and, to, make, matters, worse, my, head, is, huge., i, have, bipolar,, depression, and, crippling, social, anxiety., balding, has, been, the, cherry, on, top., i, wear, a, hat, 24/7, even, in, my, room, when, i’m, alone, because, i, can’t, stop, thinking, about, it., i, pop, xanax, all, day, to, try, and, numb, the, pain, and, it, works, for, a, little, bit, but, it, all, comes, crashing, back, twice, as, hard, once, i, come, down., i, don’t, know, how, to, communicate, with, people, anymore, and, i, don’t, know, how, to, keep, a, relationship., i, used, to, be, one, of, the, “popular, kids”, but, after, my, dad, passed, away, i, feel, into, a, deep, dark, hole., i’ve, been, arrested, numerous, times,, been, in, rehab,, mental, hospitals,, you, name, it., the, only, reason, i, haven’t, killed, myself, yet, is, because, of, my, mom, and, brothers., if, i, didn’t, have, them, i’d, be, dead, long, ago., but, it’s, getting, to, the, point, where, even, their, love, and, support, isn’t, going, to, be, enough, to, keep, me, alive, anymore., i’m, either, going, to, be, the, guy, who, killed, himself,, or, the, guy, who, went, bald, and, 20, and, looks, like, a, child, molestor., which, one, would, you, choose?]|\n",
      "|19 |I took the rest of my sleeping pills and my painkillersI can’t wait for it to end, I’ve struggled for the past 6 years and I’m finally ending it.                                                                                                                                                                                                                                                                                                                                                                                                                                                                                                                                                                                                                                                                                                                                                                                                                                                                                                                                                                                                           |suicide    |[i, took, the, rest, of, my, sleeping, pills, and, my, painkillersi, can’t, wait, for, it, to, end,, i’ve, struggled, for, the, past, 6, years, and, i’m, finally, ending, it.]                                                                                                                                                                                                                                                                                                                                                                                                                                                                                                                                                                                                                                                                                                                                                                                                                                                                                                                                                                                                                                                                                                                                                                                                              |\n",
      "|21 |Do you think getting hit by a train would be painful?Guns are hard to come by in my country but trains are not. I just don't want to suffer though, do you think this would be a painless method of suicide?                                                                                                                                                                                                                                                                                                                                                                                                                                                                                                                                                                                                                                                                                                                                                                                                                                                                                                                                                |suicide    |[do, you, think, getting, hit, by, a, train, would, be, painful?guns, are, hard, to, come, by, in, my, country, but, trains, are, not., i, just, don't, want, to, suffer, though,, do, you, think, this, would, be, a, painless, method, of, suicide?]                                                                                                                                                                                                                                                                                                                                                                                                                                                                                                                                                                                                                                                                                                                                                                                                                                                                                                                                                                                                                                                                                                                                       |\n",
      "|23 |Been arrested - feeling suicidalEdit                                                                                                                                                                                                                                                                                                                                                                                                                                                                                                                                                                                                                                                                                                                                                                                                                                                                                                                                                                                                                                                                                                                        |suicide    |[been, arrested, -, feeling, suicidaledit]                                                                                                                                                                                                                                                                                                                                                                                                                                                                                                                                                                                                                                                                                                                                                                                                                                                                                                                                                                                                                                                                                                                                                                                                                                                                                                                                                   |\n",
      "|24 |Fuck the verizon smart family app I can’t even watch porn privately anymore wtf why is that a feature                                                                                                                                                                                                                                                                                                                                                                                                                                                                                                                                                                                                                                                                                                                                                                                                                                                                                                                                                                                                                                                       |non-suicide|[fuck, the, verizon, smart, family, app, i, can’t, even, watch, porn, privately, anymore, wtf, why, is, that, a, feature]                                                                                                                                                                                                                                                                                                                                                                                                                                                                                                                                                                                                                                                                                                                                                                                                                                                                                                                                                                                                                                                                                                                                                                                                                                                                    |\n",
      "|31 |Me: I know I have a really toxic house and I do my best to cope with with it by going to school, etc Rona: hahahaha, stay at home forcefully go brrrrrrrrr                                                                                                                                                                                                                                                                                                                                                                                                                                                                                                                                                                                                                                                                                                                                                                                                                                                                                                                                                                                                  |non-suicide|[me:, i, know, i, have, a, really, toxic, house, and, i, do, my, best, to, cope, with, with, it, by, going, to, school,, etc, rona:, hahahaha,, stay, at, home, forcefully, go, brrrrrrrrr]                                                                                                                                                                                                                                                                                                                                                                                                                                                                                                                                                                                                                                                                                                                                                                                                                                                                                                                                                                                                                                                                                                                                                                                                  |\n",
      "|37 |Guys I want friends That’s it , I’m alone and don’t talk to anyone dm me or anything, I’m just tired of only talking to my dad and sister, literally only my dad and sister , I like animated series but I’m flexible to anything the last series I watch was Santa Clarita’s diet and the last animated series I watch was the hollow and shera ( I was watching them at the same time ), and I have a very extended music repertoire I can draw you anything you ask ( or at least I’ll try ) you can text me at any hour of the day , I pretty much only do that , I have weird family anecdotes and stories I can tell you  , but if you are not interested in anything I mentioned it doesn’t matter I’m just here to be a friend                                                                                                                                                                                                                                                                                                                                                                                                                      |non-suicide|[guys, i, want, friends, that’s, it, ,, i’m, alone, and, don’t, talk, to, anyone, dm, me, or, anything,, i’m, just, tired, of, only, talking, to, my, dad, and, sister,, literally, only, my, dad, and, sister, ,, i, like, animated, series, but, i’m, flexible, to, anything, the, last, series, i, watch, was, santa, clarita’s, diet, and, the, last, animated, series, i, watch, was, the, hollow, and, shera, (, i, was, watching, them, at, the, same, time, ),, and, i, have, a, very, extended, music, repertoire, i, can, draw, you, anything, you, ask, (, or, at, least, i’ll, try, ), you, can, text, me, at, any, hour, of, the, day, ,, i, pretty, much, only, do, that, ,, i, have, weird, family, anecdotes, and, stories, i, can, tell, you, , ,, but, if, you, are, not, interested, in, anything, i, mentioned, it, doesn’t, matter, i’m, just, here, to, be, a, friend]                                                                                                                                                                                                                                                                                                                                                                                                                                                                                                 |\n",
      "|39 |I’m trashLol I normally cringe at the self loathing posts here but honestly I’m such trash. Like literally everything about me.  I just wish I could muster up the courage to just follow through. This is it and I’m okay with that that:  everyday here is worst than the last.  I appreciate this community for letting me know I’m not alone.                                                                                                                                                                                                                                                                                                                                                                                                                                                                                                                                                                                                                                                                                                                                                                                                           |suicide    |[i’m, trashlol, i, normally, cringe, at, the, self, loathing, posts, here, but, honestly, i’m, such, trash., like, literally, everything, about, me., , i, just, wish, i, could, muster, up, the, courage, to, just, follow, through., this, is, it, and, i’m, okay, with, that, that:, , everyday, here, is, worst, than, the, last., , i, appreciate, this, community, for, letting, me, know, i’m, not, alone.]                                                                                                                                                                                                                                                                                                                                                                                                                                                                                                                                                                                                                                                                                                                                                                                                                                                                                                                                                                           |\n",
      "|41 |What is the best way to do it?I’m not looking to be talked out of it. What would be the most effective, easiest way to go?                                                                                                                                                                                                                                                                                                                                                                                                                                                                                                                                                                                                                                                                                                                                                                                                                                                                                                                                                                                                                                  |suicide    |[what, is, the, best, way, to, do, it?i’m, not, looking, to, be, talked, out, of, it., what, would, be, the, most, effective,, easiest, way, to, go?]                                                                                                                                                                                                                                                                                                                                                                                                                                                                                                                                                                                                                                                                                                                                                                                                                                                                                                                                                                                                                                                                                                                                                                                                                                        |\n",
      "|43 |Today's fact is Reddit awards are expensive emojis                                                                                                                                                                                                                                                                                                                                                                                                                                                                                                                                                                                                                                                                                                                                                                                                                                                                                                                                                                                                                                                                                                          |non-suicide|[today's, fact, is, reddit, awards, are, expensive, emojis]                                                                                                                                                                                                                                                                                                                                                                                                                                                                                                                                                                                                                                                                                                                                                                                                                                                                                                                                                                                                                                                                                                                                                                                                                                                                                                                                  |\n",
      "|44 |I feel like I am drowningI used to go to school at a state university, then I had to drop out for financial issues. It's been a year since then and I haven't moved anywhere in my life. I have one job (15 hours a week, so I don't make enough money for essentials like food, soap, toothpaste, etc..) and I am trying to find another job but I can't find one. I feel like I'm going to be stuck in this hole forever and  part of me just wants everything to be over. I apply to 5-6 jobs a day and make sure to call back but all I get is an explanation as to why they don't need me. I also haven't been able to afford a haircut for 3 months and I'm self-conscious about it because my hair never gets long and it feels gross. I spent all of this month with my bank account overdrafted and I have no clue how I will pay rent. Sorry for rambling, but I can't stop thinking of killing myself and I really want help.                                                                                                                                                                                                                    |suicide    |[i, feel, like, i, am, drowningi, used, to, go, to, school, at, a, state, university,, then, i, had, to, drop, out, for, financial, issues., it's, been, a, year, since, then, and, i, haven't, moved, anywhere, in, my, life., i, have, one, job, (15, hours, a, week,, so, i, don't, make, enough, money, for, essentials, like, food,, soap,, toothpaste,, etc..), and, i, am, trying, to, find, another, job, but, i, can't, find, one., i, feel, like, i'm, going, to, be, stuck, in, this, hole, forever, and, , part, of, me, just, wants, everything, to, be, over., i, apply, to, 5-6, jobs, a, day, and, make, sure, to, call, back, but, all, i, get, is, an, explanation, as, to, why, they, don't, need, me., i, also, haven't, been, able, to, afford, a, haircut, for, 3, months, and, i'm, self-conscious, about, it, because, my, hair, never, gets, long, and, it, feels, gross., i, spent, all, of, this, month, with, my, bank, account, overdrafted, and, i, have, no, clue, how, i, will, pay, rent., sorry, for, rambling,, but, i, can't, stop, thinking, of, killing, myself, and, i, really, want, help.]                                                                                                                                                                                                                                                          |\n",
      "|45 |Is it worth it?Is all the trouble, work and anxiety really worth living for.                                                                                                                                                                                                                                                                                                                                                                                                                                                                                                                                                                                                                                                                                                                                                                                                                                                                                                                                                                                                                                                                                |suicide    |[is, it, worth, it?is, all, the, trouble,, work, and, anxiety, really, worth, living, for.]                                                                                                                                                                                                                                                                                                                                                                                                                                                                                                                                                                                                                                                                                                                                                                                                                                                                                                                                                                                                                                                                                                                                                                                                                                                                                                  |\n",
      "|47 |I triple nipple dock dare you To ask out your crush, or if you're taken tell them that you love them                                                                                                                                                                                                                                                                                                                                                                                                                                                                                                                                                                                                                                                                                                                                                                                                                                                                                                                                                                                                                                                        |non-suicide|[i, triple, nipple, dock, dare, you, to, ask, out, your, crush,, or, if, you're, taken, tell, them, that, you, love, them]                                                                                                                                                                                                                                                                                                                                                                                                                                                                                                                                                                                                                                                                                                                                                                                                                                                                                                                                                                                                                                                                                                                                                                                                                                                                   |\n",
      "|54 |Hey, im gonna sleep with socks Whatcha gonna do? Put them off?! Good luck ima gonna sleep with warm feet                                                                                                                                                                                                                                                                                                                                                                                                                                                                                                                                                                                                                                                                                                                                                                                                                                                                                                                                                                                                                                                    |non-suicide|[hey,, im, gonna, sleep, with, socks, whatcha, gonna, do?, put, them, off?!, good, luck, ima, gonna, sleep, with, warm, feet]                                                                                                                                                                                                                                                                                                                                                                                                                                                                                                                                                                                                                                                                                                                                                                                                                                                                                                                                                                                                                                                                                                                                                                                                                                                                |\n",
      "|57 |I learnt a new skill today! I learnt how to change a light bulb, only thing that happened was I cocked up the first time and it went out after 5 minutes, so I tightened it a bit and it now works. My room had been lightless for quite a long time and I finally have a bulb in the light.                                                                                                                                                                                                                                                                                                                                                                                                                                                                                                                                                                                                                                                                                                                                                                                                                                                                |non-suicide|[i, learnt, a, new, skill, today!, i, learnt, how, to, change, a, light, bulb,, only, thing, that, happened, was, i, cocked, up, the, first, time, and, it, went, out, after, 5, minutes,, so, i, tightened, it, a, bit, and, it, now, works., my, room, had, been, lightless, for, quite, a, long, time, and, i, finally, have, a, bulb, in, the, light.]                                                                                                                                                                                                                                                                                                                                                                                                                                                                                                                                                                                                                                                                                                                                                                                                                                                                                                                                                                                                                                   |\n",
      "|62 |Why does no one use the email function of reddit It's kinda sad, so underappreciated, edit- have y'all never used the email function, how uncultured                                                                                                                                                                                                                                                                                                                                                                                                                                                                                                                                                                                                                                                                                                                                                                                                                                                                                                                                                                                                        |non-suicide|[why, does, no, one, use, the, email, function, of, reddit, it's, kinda, sad,, so, underappreciated,, edit-, have, y'all, never, used, the, email, function,, how, uncultured]                                                                                                                                                                                                                                                                                                                                                                                                                                                                                                                                                                                                                                                                                                                                                                                                                                                                                                                                                                                                                                                                                                                                                                                                               |\n",
      "+---+------------------------------------------------------------------------------------------------------------------------------------------------------------------------------------------------------------------------------------------------------------------------------------------------------------------------------------------------------------------------------------------------------------------------------------------------------------------------------------------------------------------------------------------------------------------------------------------------------------------------------------------------------------------------------------------------------------------------------------------------------------------------------------------------------------------------------------------------------------------------------------------------------------------------------------------------------------------------------------------------------------------------------------------------------------------------------------------------------------------------------------------------------------+-----------+---------------------------------------------------------------------------------------------------------------------------------------------------------------------------------------------------------------------------------------------------------------------------------------------------------------------------------------------------------------------------------------------------------------------------------------------------------------------------------------------------------------------------------------------------------------------------------------------------------------------------------------------------------------------------------------------------------------------------------------------------------------------------------------------------------------------------------------------------------------------------------------------------------------------------------------------------------------------------------------------------------------------------------------------------------------------------------------------------------------------------------------------------------------------------------------------------------------------------------------------------------------------------------------------------------------------------------------------------------------------------------------------+\n",
      "only showing top 20 rows\n",
      "\n"
     ]
    }
   ],
   "source": [
    "from pyspark.ml.feature import Tokenizer\n",
    "\n",
    "# Create a Tokenizer object\n",
    "tokenizer = Tokenizer(inputCol=\"Text\", outputCol=\"tokens\")\n",
    "\n",
    "# Tokenize the \"processed_text\" column\n",
    "df = tokenizer.transform(df)\n",
    "\n",
    "# Show the result\n",
    "df.show(truncate=False)"
   ]
  },
  {
   "cell_type": "code",
   "execution_count": 12,
   "id": "da8c1fb2",
   "metadata": {},
   "outputs": [
    {
     "name": "stdout",
     "output_type": "stream",
     "text": [
      "+---------------------------------------------------------------------------------------------------------------------------------------------------------------------------------------------------------------------------------------------------------------------------------------------------------------------------------------------------------------------------------------------------------------------------------------------------------------------------------------------------------------------------------------------------------------------------------------------------------------------------------------------------------------------------------------------------------------------------------------------------------------------------------------------------------------------------------------------------------------------------------------------------------------------------------------------------------------------------------------------------------------------------------------------------------------------------------------------------------------------------------------------------------------------------------------------------------------------------------------------------------------------------------------------------------------------------------------------------------------------------------------------+\n",
      "|tokens                                                                                                                                                                                                                                                                                                                                                                                                                                                                                                                                                                                                                                                                                                                                                                                                                                                                                                                                                                                                                                                                                                                                                                                                                                                                                                                                                                                       |\n",
      "+---------------------------------------------------------------------------------------------------------------------------------------------------------------------------------------------------------------------------------------------------------------------------------------------------------------------------------------------------------------------------------------------------------------------------------------------------------------------------------------------------------------------------------------------------------------------------------------------------------------------------------------------------------------------------------------------------------------------------------------------------------------------------------------------------------------------------------------------------------------------------------------------------------------------------------------------------------------------------------------------------------------------------------------------------------------------------------------------------------------------------------------------------------------------------------------------------------------------------------------------------------------------------------------------------------------------------------------------------------------------------------------------+\n",
      "|[ex, wife, threatening, suiciderecently, i, left, my, wife, for, good, because, she, has, cheated, on, me, twice, and, lied, to, me, so, much, that, i, have, decided, to, refuse, to, go, back, to, her., as, of, a, few, days, ago,, she, began, threatening, suicide., i, have, tirelessly, spent, these, paat, few, days, talking, her, out, of, it, and, she, keeps, hesitating, because, she, wants, to, believe, i'll, come, back., i, know, a, lot, of, people, will, threaten, this, in, order, to, get, their, way,, but, what, happens, if, she, really, does?, what, do, i, do, and, how, am, i, supposed, to, handle, her, death, on, my, hands?, i, still, love, my, wife, but, i, cannot, deal, with, getting, cheated, on, again, and, constantly, feeling, insecure., i'm, worried, today, may, be, the, day, she, does, it, and, i, hope, so, much, it, doesn't, happen.]                                                                                                                                                                                                                                                                                                                                                                                                                                                                                                  |\n",
      "|[am, i, weird, i, don't, get, affected, by, compliments, if, it's, coming, from, someone, i, know, irl, but, i, feel, really, good, when, internet, strangers, do, it]                                                                                                                                                                                                                                                                                                                                                                                                                                                                                                                                                                                                                                                                                                                                                                                                                                                                                                                                                                                                                                                                                                                                                                                                                       |\n",
      "|[\"finally, 2020, is, almost, over..., so, i, can, never, hear, \"\"2020, has, been, a, bad, year\"\", ever, again., i, swear, to, fucking, god, it's, so, annoying\"]                                                                                                                                                                                                                                                                                                                                                                                                                                                                                                                                                                                                                                                                                                                                                                                                                                                                                                                                                                                                                                                                                                                                                                                                                             |\n",
      "|[i, need, helpjust, help, me, im, crying, so, hard]                                                                                                                                                                                                                                                                                                                                                                                                                                                                                                                                                                                                                                                                                                                                                                                                                                                                                                                                                                                                                                                                                                                                                                                                                                                                                                                                          |\n",
      "|[my, life, is, over, at, 20, years, oldhello, all., i, am, a, 20, year, old, balding, male., my, hairline, is, trash, and, to, make, matters, worse, my, head, is, huge., i, have, bipolar,, depression, and, crippling, social, anxiety., balding, has, been, the, cherry, on, top., i, wear, a, hat, 24/7, even, in, my, room, when, i’m, alone, because, i, can’t, stop, thinking, about, it., i, pop, xanax, all, day, to, try, and, numb, the, pain, and, it, works, for, a, little, bit, but, it, all, comes, crashing, back, twice, as, hard, once, i, come, down., i, don’t, know, how, to, communicate, with, people, anymore, and, i, don’t, know, how, to, keep, a, relationship., i, used, to, be, one, of, the, “popular, kids”, but, after, my, dad, passed, away, i, feel, into, a, deep, dark, hole., i’ve, been, arrested, numerous, times,, been, in, rehab,, mental, hospitals,, you, name, it., the, only, reason, i, haven’t, killed, myself, yet, is, because, of, my, mom, and, brothers., if, i, didn’t, have, them, i’d, be, dead, long, ago., but, it’s, getting, to, the, point, where, even, their, love, and, support, isn’t, going, to, be, enough, to, keep, me, alive, anymore., i’m, either, going, to, be, the, guy, who, killed, himself,, or, the, guy, who, went, bald, and, 20, and, looks, like, a, child, molestor., which, one, would, you, choose?]|\n",
      "|[i, took, the, rest, of, my, sleeping, pills, and, my, painkillersi, can’t, wait, for, it, to, end,, i’ve, struggled, for, the, past, 6, years, and, i’m, finally, ending, it.]                                                                                                                                                                                                                                                                                                                                                                                                                                                                                                                                                                                                                                                                                                                                                                                                                                                                                                                                                                                                                                                                                                                                                                                                              |\n",
      "|[do, you, think, getting, hit, by, a, train, would, be, painful?guns, are, hard, to, come, by, in, my, country, but, trains, are, not., i, just, don't, want, to, suffer, though,, do, you, think, this, would, be, a, painless, method, of, suicide?]                                                                                                                                                                                                                                                                                                                                                                                                                                                                                                                                                                                                                                                                                                                                                                                                                                                                                                                                                                                                                                                                                                                                       |\n",
      "|[been, arrested, -, feeling, suicidaledit]                                                                                                                                                                                                                                                                                                                                                                                                                                                                                                                                                                                                                                                                                                                                                                                                                                                                                                                                                                                                                                                                                                                                                                                                                                                                                                                                                   |\n",
      "|[fuck, the, verizon, smart, family, app, i, can’t, even, watch, porn, privately, anymore, wtf, why, is, that, a, feature]                                                                                                                                                                                                                                                                                                                                                                                                                                                                                                                                                                                                                                                                                                                                                                                                                                                                                                                                                                                                                                                                                                                                                                                                                                                                    |\n",
      "|[me:, i, know, i, have, a, really, toxic, house, and, i, do, my, best, to, cope, with, with, it, by, going, to, school,, etc, rona:, hahahaha,, stay, at, home, forcefully, go, brrrrrrrrr]                                                                                                                                                                                                                                                                                                                                                                                                                                                                                                                                                                                                                                                                                                                                                                                                                                                                                                                                                                                                                                                                                                                                                                                                  |\n",
      "|[guys, i, want, friends, that’s, it, ,, i’m, alone, and, don’t, talk, to, anyone, dm, me, or, anything,, i’m, just, tired, of, only, talking, to, my, dad, and, sister,, literally, only, my, dad, and, sister, ,, i, like, animated, series, but, i’m, flexible, to, anything, the, last, series, i, watch, was, santa, clarita’s, diet, and, the, last, animated, series, i, watch, was, the, hollow, and, shera, (, i, was, watching, them, at, the, same, time, ),, and, i, have, a, very, extended, music, repertoire, i, can, draw, you, anything, you, ask, (, or, at, least, i’ll, try, ), you, can, text, me, at, any, hour, of, the, day, ,, i, pretty, much, only, do, that, ,, i, have, weird, family, anecdotes, and, stories, i, can, tell, you, , ,, but, if, you, are, not, interested, in, anything, i, mentioned, it, doesn’t, matter, i’m, just, here, to, be, a, friend]                                                                                                                                                                                                                                                                                                                                                                                                                                                                                                 |\n",
      "|[i’m, trashlol, i, normally, cringe, at, the, self, loathing, posts, here, but, honestly, i’m, such, trash., like, literally, everything, about, me., , i, just, wish, i, could, muster, up, the, courage, to, just, follow, through., this, is, it, and, i’m, okay, with, that, that:, , everyday, here, is, worst, than, the, last., , i, appreciate, this, community, for, letting, me, know, i’m, not, alone.]                                                                                                                                                                                                                                                                                                                                                                                                                                                                                                                                                                                                                                                                                                                                                                                                                                                                                                                                                                           |\n",
      "|[what, is, the, best, way, to, do, it?i’m, not, looking, to, be, talked, out, of, it., what, would, be, the, most, effective,, easiest, way, to, go?]                                                                                                                                                                                                                                                                                                                                                                                                                                                                                                                                                                                                                                                                                                                                                                                                                                                                                                                                                                                                                                                                                                                                                                                                                                        |\n",
      "|[today's, fact, is, reddit, awards, are, expensive, emojis]                                                                                                                                                                                                                                                                                                                                                                                                                                                                                                                                                                                                                                                                                                                                                                                                                                                                                                                                                                                                                                                                                                                                                                                                                                                                                                                                  |\n",
      "|[i, feel, like, i, am, drowningi, used, to, go, to, school, at, a, state, university,, then, i, had, to, drop, out, for, financial, issues., it's, been, a, year, since, then, and, i, haven't, moved, anywhere, in, my, life., i, have, one, job, (15, hours, a, week,, so, i, don't, make, enough, money, for, essentials, like, food,, soap,, toothpaste,, etc..), and, i, am, trying, to, find, another, job, but, i, can't, find, one., i, feel, like, i'm, going, to, be, stuck, in, this, hole, forever, and, , part, of, me, just, wants, everything, to, be, over., i, apply, to, 5-6, jobs, a, day, and, make, sure, to, call, back, but, all, i, get, is, an, explanation, as, to, why, they, don't, need, me., i, also, haven't, been, able, to, afford, a, haircut, for, 3, months, and, i'm, self-conscious, about, it, because, my, hair, never, gets, long, and, it, feels, gross., i, spent, all, of, this, month, with, my, bank, account, overdrafted, and, i, have, no, clue, how, i, will, pay, rent., sorry, for, rambling,, but, i, can't, stop, thinking, of, killing, myself, and, i, really, want, help.]                                                                                                                                                                                                                                                          |\n",
      "|[is, it, worth, it?is, all, the, trouble,, work, and, anxiety, really, worth, living, for.]                                                                                                                                                                                                                                                                                                                                                                                                                                                                                                                                                                                                                                                                                                                                                                                                                                                                                                                                                                                                                                                                                                                                                                                                                                                                                                  |\n",
      "|[i, triple, nipple, dock, dare, you, to, ask, out, your, crush,, or, if, you're, taken, tell, them, that, you, love, them]                                                                                                                                                                                                                                                                                                                                                                                                                                                                                                                                                                                                                                                                                                                                                                                                                                                                                                                                                                                                                                                                                                                                                                                                                                                                   |\n",
      "|[hey,, im, gonna, sleep, with, socks, whatcha, gonna, do?, put, them, off?!, good, luck, ima, gonna, sleep, with, warm, feet]                                                                                                                                                                                                                                                                                                                                                                                                                                                                                                                                                                                                                                                                                                                                                                                                                                                                                                                                                                                                                                                                                                                                                                                                                                                                |\n",
      "|[i, learnt, a, new, skill, today!, i, learnt, how, to, change, a, light, bulb,, only, thing, that, happened, was, i, cocked, up, the, first, time, and, it, went, out, after, 5, minutes,, so, i, tightened, it, a, bit, and, it, now, works., my, room, had, been, lightless, for, quite, a, long, time, and, i, finally, have, a, bulb, in, the, light.]                                                                                                                                                                                                                                                                                                                                                                                                                                                                                                                                                                                                                                                                                                                                                                                                                                                                                                                                                                                                                                   |\n",
      "|[why, does, no, one, use, the, email, function, of, reddit, it's, kinda, sad,, so, underappreciated,, edit-, have, y'all, never, used, the, email, function,, how, uncultured]                                                                                                                                                                                                                                                                                                                                                                                                                                                                                                                                                                                                                                                                                                                                                                                                                                                                                                                                                                                                                                                                                                                                                                                                               |\n",
      "+---------------------------------------------------------------------------------------------------------------------------------------------------------------------------------------------------------------------------------------------------------------------------------------------------------------------------------------------------------------------------------------------------------------------------------------------------------------------------------------------------------------------------------------------------------------------------------------------------------------------------------------------------------------------------------------------------------------------------------------------------------------------------------------------------------------------------------------------------------------------------------------------------------------------------------------------------------------------------------------------------------------------------------------------------------------------------------------------------------------------------------------------------------------------------------------------------------------------------------------------------------------------------------------------------------------------------------------------------------------------------------------------+\n",
      "only showing top 20 rows\n",
      "\n"
     ]
    }
   ],
   "source": [
    "# Show the \"tokens\" column\n",
    "token_df = df.select(\"tokens\")\n",
    "\n",
    "token_df.show(truncate=False)"
   ]
  },
  {
   "cell_type": "code",
   "execution_count": 13,
   "id": "c35bdf3b",
   "metadata": {
    "scrolled": true
   },
   "outputs": [
    {
     "name": "stdout",
     "output_type": "stream",
     "text": [
      "+---+--------------------+-----------+--------------------+\n",
      "| ID|                Text|      Label|              tokens|\n",
      "+---+--------------------+-----------+--------------------+\n",
      "|  2|Ex Wife Threateni...|    suicide|[ex, wife, threat...|\n",
      "|  3|Am I weird I don'...|non-suicide|[am, i, weird, i,...|\n",
      "|  4|\"Finally 2020 is ...|non-suicide|[\"finally, 2020, ...|\n",
      "|  8|i need helpjust h...|    suicide|[i, need, helpjus...|\n",
      "| 18|My life is over a...|    suicide|[my, life, is, ov...|\n",
      "+---+--------------------+-----------+--------------------+\n",
      "only showing top 5 rows\n",
      "\n"
     ]
    }
   ],
   "source": [
    "df.show(5, truncate=True)"
   ]
  },
  {
   "cell_type": "code",
   "execution_count": 14,
   "id": "5d7b1594",
   "metadata": {},
   "outputs": [],
   "source": [
    "from pyspark.sql.functions import explode, desc\n",
    "from pyspark.sql import functions as F\n",
    "\n",
    "# Explode the tokens into separate rows\n",
    "counting_df = df.withColumn(\"word\", explode(df[\"tokens\"]))\n",
    "\n",
    "# Group by words and count their occurrences\n",
    "word_counts = counting_df.groupBy(\"word\").count()\n",
    "\n",
    "# Order the word counts in descending order\n",
    "word_counts = word_counts.orderBy(desc(\"count\"))\n",
    "\n",
    "# Select the top 50 words\n",
    "top_50_words = word_counts.limit(50)"
   ]
  },
  {
   "cell_type": "code",
   "execution_count": 15,
   "id": "37d17f5f",
   "metadata": {},
   "outputs": [
    {
     "name": "stderr",
     "output_type": "stream",
     "text": [
      "[Stage 13:===========================================>              (3 + 1) / 4]\r"
     ]
    },
    {
     "name": "stdout",
     "output_type": "stream",
     "text": [
      "+-------+------+\n",
      "|   word| count|\n",
      "+-------+------+\n",
      "|      i|476118|\n",
      "|     to|277623|\n",
      "|    and|236422|\n",
      "|    the|167139|\n",
      "|     my|165837|\n",
      "|      a|164026|\n",
      "|     of|106558|\n",
      "|     it| 87695|\n",
      "|     me| 85530|\n",
      "|   just| 83531|\n",
      "|     is| 79251|\n",
      "|     in| 78412|\n",
      "|    but| 77786|\n",
      "|   that| 72752|\n",
      "|   have| 72492|\n",
      "|    for| 70323|\n",
      "|     so| 66496|\n",
      "|   this| 57312|\n",
      "|   like| 54352|\n",
      "|    i'm| 53014|\n",
      "|     be| 51307|\n",
      "|   want| 48788|\n",
      "|   with| 48505|\n",
      "|    you| 47600|\n",
      "|     do| 45516|\n",
      "|    was| 44319|\n",
      "|     on| 43693|\n",
      "|    not| 40132|\n",
      "|    i’m| 39662|\n",
      "|     if| 37987|\n",
      "|   feel| 36059|\n",
      "|   know| 35882|\n",
      "|  about| 34641|\n",
      "|     or| 34344|\n",
      "|    all| 33957|\n",
      "|   what| 33199|\n",
      "|    get| 33182|\n",
      "|  don't| 32684|\n",
      "| filler| 31819|\n",
      "|     no| 30422|\n",
      "|     at| 29498|\n",
      "|because| 27107|\n",
      "|    out| 26843|\n",
      "|     am| 26665|\n",
      "|    how| 26211|\n",
      "|   been| 25391|\n",
      "|    can| 25217|\n",
      "|   they| 25155|\n",
      "|    are| 24378|\n",
      "|       | 24034|\n",
      "+-------+------+\n",
      "\n"
     ]
    },
    {
     "name": "stderr",
     "output_type": "stream",
     "text": [
      "\r",
      "                                                                                \r"
     ]
    }
   ],
   "source": [
    "# Show the top 50 words and their counts\n",
    "top_50_words.show(50)"
   ]
  },
  {
   "cell_type": "code",
   "execution_count": 16,
   "id": "e678bf88",
   "metadata": {},
   "outputs": [
    {
     "name": "stdout",
     "output_type": "stream",
     "text": [
      "root\n",
      " |-- ID: integer (nullable = true)\n",
      " |-- Text: string (nullable = true)\n",
      " |-- Label: string (nullable = true)\n",
      " |-- tokens: array (nullable = true)\n",
      " |    |-- element: string (containsNull = true)\n",
      "\n"
     ]
    }
   ],
   "source": [
    "df.printSchema()"
   ]
  },
  {
   "cell_type": "code",
   "execution_count": 17,
   "id": "856c750d",
   "metadata": {},
   "outputs": [
    {
     "name": "stderr",
     "output_type": "stream",
     "text": [
      "\r",
      "[Stage 17:>                                                         (0 + 1) / 1]\r"
     ]
    },
    {
     "name": "stdout",
     "output_type": "stream",
     "text": [
      "+---+---------------------------------------------------------------------------------------------------------------------------------------------------------------------------------------------------------------------------------------------------------------------------------------------------------------------------------------------------------------------------------------------------------------------------------------------------------------------------------------------------------------------------------------------------------------------------------------------------------------------------------------------------------------------------------------------------------------------------------------------------------------------------------------------------------------------------------------------------------------------------------------------------------------------------------------------------------------------------------------------------------------------------------------------------------------------------------------------------------------------------------------------------------------------------------------------------------------------------------------------------------------------------------------------------------------------------------------------------------------------------------------------+-----------+\n",
      "|ID |padded_tokens                                                                                                                                                                                                                                                                                                                                                                                                                                                                                                                                                                                                                                                                                                                                                                                                                                                                                                                                                                                                                                                                                                                                                                                                                                                                                                                                                                                |Label      |\n",
      "+---+---------------------------------------------------------------------------------------------------------------------------------------------------------------------------------------------------------------------------------------------------------------------------------------------------------------------------------------------------------------------------------------------------------------------------------------------------------------------------------------------------------------------------------------------------------------------------------------------------------------------------------------------------------------------------------------------------------------------------------------------------------------------------------------------------------------------------------------------------------------------------------------------------------------------------------------------------------------------------------------------------------------------------------------------------------------------------------------------------------------------------------------------------------------------------------------------------------------------------------------------------------------------------------------------------------------------------------------------------------------------------------------------+-----------+\n",
      "|2  |[ex, wife, threatening, suiciderecently, i, left, my, wife, for, good, because, she, has, cheated, on, me, twice, and, lied, to, me, so, much, that, i, have, decided, to, refuse, to, go, back, to, her., as, of, a, few, days, ago,, she, began, threatening, suicide., i, have, tirelessly, spent, these, paat, few, days, talking, her, out, of, it, and, she, keeps, hesitating, because, she, wants, to, believe, i'll, come, back., i, know, a, lot, of, people, will, threaten, this, in, order, to, get, their, way,, but, what, happens, if, she, really, does?, what, do, i, do, and, how, am, i, supposed, to, handle, her, death, on, my, hands?, i, still, love, my, wife, but, i, cannot, deal, with, getting, cheated, on, again, and, constantly, feeling, insecure., i'm, worried, today, may, be, the, day, she, does, it, and, i, hope, so, much, it, doesn't, happen.]                                                                                                                                                                                                                                                                                                                                                                                                                                                                                                  |suicide    |\n",
      "|3  |[am, i, weird, i, don't, get, affected, by, compliments, if, it's, coming, from, someone, i, know, irl, but, i, feel, really, good, when, internet, strangers, do, it, , , , , , , , , , , , , , , , , , , , , , , ]                                                                                                                                                                                                                                                                                                                                                                                                                                                                                                                                                                                                                                                                                                                                                                                                                                                                                                                                                                                                                                                                                                                                                                         |non-suicide|\n",
      "|4  |[\"finally, 2020, is, almost, over..., so, i, can, never, hear, \"\"2020, has, been, a, bad, year\"\", ever, again., i, swear, to, fucking, god, it's, so, annoying\", , , , , , , , , , , , , , , , , , , , , , , , ]                                                                                                                                                                                                                                                                                                                                                                                                                                                                                                                                                                                                                                                                                                                                                                                                                                                                                                                                                                                                                                                                                                                                                                             |non-suicide|\n",
      "|8  |[i, need, helpjust, help, me, im, crying, so, hard, , , , , , , , , , , , , , , , , , , , , , , , , , , , , , , , , , , , , , , , , ]                                                                                                                                                                                                                                                                                                                                                                                                                                                                                                                                                                                                                                                                                                                                                                                                                                                                                                                                                                                                                                                                                                                                                                                                                                                        |suicide    |\n",
      "|18 |[my, life, is, over, at, 20, years, oldhello, all., i, am, a, 20, year, old, balding, male., my, hairline, is, trash, and, to, make, matters, worse, my, head, is, huge., i, have, bipolar,, depression, and, crippling, social, anxiety., balding, has, been, the, cherry, on, top., i, wear, a, hat, 24/7, even, in, my, room, when, i’m, alone, because, i, can’t, stop, thinking, about, it., i, pop, xanax, all, day, to, try, and, numb, the, pain, and, it, works, for, a, little, bit, but, it, all, comes, crashing, back, twice, as, hard, once, i, come, down., i, don’t, know, how, to, communicate, with, people, anymore, and, i, don’t, know, how, to, keep, a, relationship., i, used, to, be, one, of, the, “popular, kids”, but, after, my, dad, passed, away, i, feel, into, a, deep, dark, hole., i’ve, been, arrested, numerous, times,, been, in, rehab,, mental, hospitals,, you, name, it., the, only, reason, i, haven’t, killed, myself, yet, is, because, of, my, mom, and, brothers., if, i, didn’t, have, them, i’d, be, dead, long, ago., but, it’s, getting, to, the, point, where, even, their, love, and, support, isn’t, going, to, be, enough, to, keep, me, alive, anymore., i’m, either, going, to, be, the, guy, who, killed, himself,, or, the, guy, who, went, bald, and, 20, and, looks, like, a, child, molestor., which, one, would, you, choose?]|suicide    |\n",
      "+---+---------------------------------------------------------------------------------------------------------------------------------------------------------------------------------------------------------------------------------------------------------------------------------------------------------------------------------------------------------------------------------------------------------------------------------------------------------------------------------------------------------------------------------------------------------------------------------------------------------------------------------------------------------------------------------------------------------------------------------------------------------------------------------------------------------------------------------------------------------------------------------------------------------------------------------------------------------------------------------------------------------------------------------------------------------------------------------------------------------------------------------------------------------------------------------------------------------------------------------------------------------------------------------------------------------------------------------------------------------------------------------------------+-----------+\n",
      "only showing top 5 rows\n",
      "\n"
     ]
    },
    {
     "name": "stderr",
     "output_type": "stream",
     "text": [
      "\r",
      "                                                                                \r"
     ]
    }
   ],
   "source": [
    "from pyspark.sql.functions import size\n",
    "from pyspark.sql import types as T\n",
    "\n",
    "# Define the maximum sequence length you want\n",
    "max_sequence_length = 50\n",
    "\n",
    "# Define a function to pad sequences\n",
    "def pad_sequence(tokens, length):\n",
    "    return tokens + [\"\"] * (length - len(tokens))\n",
    "\n",
    "# Create a UDF to apply the padding function\n",
    "pad_udf = F.udf(lambda tokens: pad_sequence(tokens, max_sequence_length), T.ArrayType(T.StringType()))\n",
    "\n",
    "# Apply the UDF to pad the sequences\n",
    "df = df.withColumn(\"padded_tokens\", pad_udf(df[\"tokens\"]))\n",
    "\n",
    "# Select the relevant columns: ID, padded_tokens, and Label\n",
    "final_df = df.select(\"ID\", \"padded_tokens\", \"Label\")\n",
    "\n",
    "# Show the resulting DataFrame\n",
    "final_df.show(5, truncate=False)"
   ]
  },
  {
   "cell_type": "code",
   "execution_count": 18,
   "id": "39a32115",
   "metadata": {},
   "outputs": [
    {
     "name": "stdout",
     "output_type": "stream",
     "text": [
      "+---+--------------------+-----------+\n",
      "| ID|       padded_tokens|      Label|\n",
      "+---+--------------------+-----------+\n",
      "|  2|[ex, wife, threat...|    suicide|\n",
      "|  3|[am, i, weird, i,...|non-suicide|\n",
      "|  4|[\"finally, 2020, ...|non-suicide|\n",
      "|  8|[i, need, helpjus...|    suicide|\n",
      "| 18|[my, life, is, ov...|    suicide|\n",
      "+---+--------------------+-----------+\n",
      "only showing top 5 rows\n",
      "\n"
     ]
    }
   ],
   "source": [
    "final_df.show(5, truncate=True)"
   ]
  },
  {
   "cell_type": "code",
   "execution_count": 26,
   "id": "e6fbd179",
   "metadata": {},
   "outputs": [
    {
     "name": "stderr",
     "output_type": "stream",
     "text": [
      "                                                                                \r"
     ]
    },
    {
     "name": "stdout",
     "output_type": "stream",
     "text": [
      "+---+--------------------+-----------+--------------------+--------------------+----------+\n",
      "| ID|                Text|      Label|              tokens|       padded_tokens|LabelIndex|\n",
      "+---+--------------------+-----------+--------------------+--------------------+----------+\n",
      "|  2|Ex Wife Threateni...|    suicide|[ex, wife, threat...|[ex, wife, threat...|       1.0|\n",
      "|  3|Am I weird I don'...|non-suicide|[am, i, weird, i,...|[am, i, weird, i,...|       0.0|\n",
      "+---+--------------------+-----------+--------------------+--------------------+----------+\n",
      "only showing top 2 rows\n",
      "\n"
     ]
    },
    {
     "name": "stderr",
     "output_type": "stream",
     "text": [
      "Traceback (most recent call last):\n",
      "  File \"/usr/local/spark/python/lib/pyspark.zip/pyspark/daemon.py\", line 186, in manager\n",
      "  File \"/usr/local/spark/python/lib/pyspark.zip/pyspark/daemon.py\", line 74, in worker\n",
      "  File \"/usr/local/spark/python/lib/pyspark.zip/pyspark/worker.py\", line 663, in main\n",
      "    if read_int(infile) == SpecialLengths.END_OF_STREAM:\n",
      "  File \"/usr/local/spark/python/lib/pyspark.zip/pyspark/serializers.py\", line 564, in read_int\n",
      "    raise EOFError\n",
      "EOFError\n",
      "[Stage 41:>                                                         (0 + 1) / 1]\r"
     ]
    }
   ],
   "source": [
    "from pyspark.ml.feature import StringIndexer\n",
    "\n",
    "# Initialize the StringIndexer\n",
    "label_indexer = StringIndexer(inputCol=\"Label\", outputCol=\"LabelIndex\")\n",
    "\n",
    "# Fit the StringIndexer on your DataFrame\n",
    "indexed_df = label_indexer.fit(df).transform(df)\n",
    "\n",
    "# Show the resulting DataFrame\n",
    "indexed_df.show(2, truncate=True)"
   ]
  },
  {
   "cell_type": "code",
   "execution_count": 28,
   "id": "0a9db725",
   "metadata": {},
   "outputs": [
    {
     "name": "stderr",
     "output_type": "stream",
     "text": [
      "                                                                                \r"
     ]
    },
    {
     "name": "stdout",
     "output_type": "stream",
     "text": [
      "Train Data Count:  91213\n"
     ]
    },
    {
     "name": "stderr",
     "output_type": "stream",
     "text": [
      "                                                                                \r"
     ]
    },
    {
     "name": "stdout",
     "output_type": "stream",
     "text": [
      "Validation Data Count:  19476\n"
     ]
    },
    {
     "name": "stderr",
     "output_type": "stream",
     "text": [
      "[Stage 41:>                 (0 + 1) / 1][Stage 53:=============>    (3 + 1) / 4]\r"
     ]
    },
    {
     "name": "stdout",
     "output_type": "stream",
     "text": [
      "Test Data Count:  19429\n"
     ]
    },
    {
     "name": "stderr",
     "output_type": "stream",
     "text": [
      "[Stage 41:>                                                         (0 + 1) / 1]\r"
     ]
    }
   ],
   "source": [
    "# Show the sizes of the splits\n",
    "print(\"Train Data Count: \", train_data.count())\n",
    "print(\"Validation Data Count: \", validation_data.count())\n",
    "print(\"Test Data Count: \", test_data.count())"
   ]
  },
  {
   "cell_type": "code",
   "execution_count": 29,
   "id": "dd7dfac6",
   "metadata": {},
   "outputs": [],
   "source": [
    "from pyspark.ml.feature import Word2Vec\n",
    "\n",
    "# Define Word2Vec parameters\n",
    "word2vec = Word2Vec(\n",
    "    vectorSize=100,       # Set the size of the word vectors\n",
    "    seed=42,              # Set a seed for reproducibility\n",
    "    inputCol=\"padded_tokens\",  # Specify the input column with your tokenized and padded text\n",
    "    outputCol=\"word_vectors\"   # Specify the output column for word vectors\n",
    ")"
   ]
  },
  {
   "cell_type": "code",
   "execution_count": 30,
   "id": "af5e6f4a",
   "metadata": {},
   "outputs": [
    {
     "name": "stderr",
     "output_type": "stream",
     "text": [
      "                                                                                \r"
     ]
    }
   ],
   "source": [
    "# Train the Word2Vec model\n",
    "word2vec_model = word2vec.fit(indexed_df)"
   ]
  },
  {
   "cell_type": "code",
   "execution_count": 31,
   "id": "fd57cbc8",
   "metadata": {},
   "outputs": [],
   "source": [
    "# Transform your DataFrame to include word vectors\n",
    "df = word2vec_model.transform(indexed_df)"
   ]
  },
  {
   "cell_type": "code",
   "execution_count": 34,
   "id": "fa25af82",
   "metadata": {},
   "outputs": [
    {
     "name": "stdout",
     "output_type": "stream",
     "text": [
      "+---+--------------------+-------+--------------------+--------------------+----------+--------------------+\n",
      "| ID|                Text|  Label|              tokens|       padded_tokens|LabelIndex|        word_vectors|\n",
      "+---+--------------------+-------+--------------------+--------------------+----------+--------------------+\n",
      "|  2|Ex Wife Threateni...|suicide|[ex, wife, threat...|[ex, wife, threat...|       1.0|[0.10913591500423...|\n",
      "+---+--------------------+-------+--------------------+--------------------+----------+--------------------+\n",
      "only showing top 1 row\n",
      "\n"
     ]
    }
   ],
   "source": [
    "df.show(1, truncate=True)"
   ]
  },
  {
   "cell_type": "code",
   "execution_count": 35,
   "id": "f84ff2a7",
   "metadata": {},
   "outputs": [],
   "source": [
    "from pyspark.ml.feature import StandardScaler\n",
    "from pyspark.ml import Pipeline\n",
    "\n",
    "# Initialize the StandardScaler\n",
    "scaler = StandardScaler(inputCol=\"word_vectors\", outputCol=\"scaled_word_vectors\", withMean=True, withStd=True)"
   ]
  },
  {
   "cell_type": "code",
   "execution_count": 36,
   "id": "105fd5ac",
   "metadata": {},
   "outputs": [],
   "source": [
    "# Create a Pipeline to apply the scaler\n",
    "pipeline = Pipeline(stages=[scaler])"
   ]
  },
  {
   "cell_type": "code",
   "execution_count": 37,
   "id": "a4c72ad7",
   "metadata": {},
   "outputs": [
    {
     "name": "stderr",
     "output_type": "stream",
     "text": [
      "                                                                                \r"
     ]
    }
   ],
   "source": [
    "# Fit and transform your DataFrame using the pipeline\n",
    "scaled_df = pipeline.fit(df).transform(df)"
   ]
  },
  {
   "cell_type": "code",
   "execution_count": 38,
   "id": "47240faa",
   "metadata": {},
   "outputs": [
    {
     "name": "stdout",
     "output_type": "stream",
     "text": [
      "+---+--------------------+-----------+--------------------+--------------------+----------+--------------------+--------------------+\n",
      "| ID|                Text|      Label|              tokens|       padded_tokens|LabelIndex|        word_vectors| scaled_word_vectors|\n",
      "+---+--------------------+-----------+--------------------+--------------------+----------+--------------------+--------------------+\n",
      "|  2|Ex Wife Threateni...|    suicide|[ex, wife, threat...|[ex, wife, threat...|       1.0|[0.10913591500423...|[1.26365459506834...|\n",
      "|  3|Am I weird I don'...|non-suicide|[am, i, weird, i,...|[am, i, weird, i,...|       0.0|[-0.2058760570921...|[-0.3663998223869...|\n",
      "|  4|\"Finally 2020 is ...|non-suicide|[\"finally, 2020, ...|[\"finally, 2020, ...|       0.0|[-0.2428014789707...|[-0.5574733446064...|\n",
      "|  8|i need helpjust h...|    suicide|[i, need, helpjus...|[i, need, helpjus...|       1.0|[-0.4018417432811...|[-1.3804397978084...|\n",
      "| 18|My life is over a...|    suicide|[my, life, is, ov...|[my, life, is, ov...|       1.0|[0.04078174688246...|[0.90995053437218...|\n",
      "+---+--------------------+-----------+--------------------+--------------------+----------+--------------------+--------------------+\n",
      "only showing top 5 rows\n",
      "\n"
     ]
    }
   ],
   "source": [
    "scaled_df.show(5, truncate=True)"
   ]
  },
  {
   "cell_type": "code",
   "execution_count": 46,
   "id": "e7224435",
   "metadata": {},
   "outputs": [
    {
     "name": "stdout",
     "output_type": "stream",
     "text": [
      "root\n",
      " |-- ID: integer (nullable = true)\n",
      " |-- Text: string (nullable = true)\n",
      " |-- Label: string (nullable = true)\n",
      " |-- tokens: array (nullable = true)\n",
      " |    |-- element: string (containsNull = true)\n",
      " |-- padded_tokens: array (nullable = true)\n",
      " |    |-- element: string (containsNull = true)\n",
      " |-- LabelIndex: double (nullable = false)\n",
      " |-- word_vectors: vector (nullable = true)\n",
      " |-- scaled_word_vectors: vector (nullable = true)\n",
      "\n"
     ]
    }
   ],
   "source": [
    "scaled_df.printSchema()"
   ]
  },
  {
   "cell_type": "code",
   "execution_count": 48,
   "id": "45d29262",
   "metadata": {},
   "outputs": [],
   "source": [
    "from pyspark.ml.feature import VectorAssembler\n",
    "\n",
    "assembler = VectorAssembler(\n",
    "    inputCols=[\"scaled_word_vectors\"],  # Use the column with word vectors\n",
    "    outputCol=\"features\"  # Create a new column called \"features\"\n",
    ")\n",
    "\n",
    "# Transform the DataFrame to include the \"features\" column\n",
    "df_with_features = assembler.transform(scaled_df)"
   ]
  },
  {
   "cell_type": "code",
   "execution_count": 57,
   "id": "3044805c",
   "metadata": {},
   "outputs": [],
   "source": [
    "train_ratio = 0.8\n",
    "validation_ratio = 0.1\n",
    "test_ratio = 0.1\n",
    "\n",
    "train_data, validation_data, test_data = df_with_features.randomSplit([train_ratio, validation_ratio, test_ratio], seed=42)\n"
   ]
  },
  {
   "cell_type": "code",
   "execution_count": 52,
   "id": "438baa46",
   "metadata": {},
   "outputs": [
    {
     "name": "stdout",
     "output_type": "stream",
     "text": [
      "Using TensorFlow backend\n"
     ]
    },
    {
     "name": "stderr",
     "output_type": "stream",
     "text": [
      "2023-10-01 01:20:29.293253: I tensorflow/tsl/cuda/cudart_stub.cc:28] Could not find cuda drivers on your machine, GPU will not be used.\n",
      "2023-10-01 01:20:32.539588: E tensorflow/compiler/xla/stream_executor/cuda/cuda_dnn.cc:9342] Unable to register cuDNN factory: Attempting to register factory for plugin cuDNN when one has already been registered\n",
      "2023-10-01 01:20:32.539644: E tensorflow/compiler/xla/stream_executor/cuda/cuda_fft.cc:609] Unable to register cuFFT factory: Attempting to register factory for plugin cuFFT when one has already been registered\n",
      "2023-10-01 01:20:32.581674: E tensorflow/compiler/xla/stream_executor/cuda/cuda_blas.cc:1518] Unable to register cuBLAS factory: Attempting to register factory for plugin cuBLAS when one has already been registered\n",
      "2023-10-01 01:20:34.294203: I tensorflow/tsl/cuda/cudart_stub.cc:28] Could not find cuda drivers on your machine, GPU will not be used.\n",
      "2023-10-01 01:20:34.303899: I tensorflow/core/platform/cpu_feature_guard.cc:182] This TensorFlow binary is optimized to use available CPU instructions in performance-critical operations.\n",
      "To enable the following instructions: AVX2, in other operations, rebuild TensorFlow with the appropriate compiler flags.\n",
      "2023-10-01 01:20:44.569387: W tensorflow/compiler/tf2tensorrt/utils/py_utils.cc:38] TF-TRT Warning: Could not find TensorRT\n"
     ]
    }
   ],
   "source": [
    "import kerastuner as kt\n",
    "from tensorflow import keras\n",
    "from tensorflow.keras import layers"
   ]
  },
  {
   "cell_type": "code",
   "execution_count": 64,
   "id": "2960bb66",
   "metadata": {},
   "outputs": [],
   "source": [
    "def build_model(hp):\n",
    "    model = keras.Sequential()\n",
    "    \n",
    "    # Tune the number of units in the first RNN layer\n",
    "    hp_units = hp.Int('units', min_value=32, max_value=128, step=32)\n",
    "    \n",
    "    # Input shape for text classification (input_dim is the length of word vectors)\n",
    "    input_shape = (200, 1)  # Replace input_dim with the actual length of your word vectors\n",
    "    \n",
    "    model.add(layers.SimpleRNN(units=hp_units, activation='relu', input_shape=input_shape))\n",
    "    \n",
    "    # Output layer\n",
    "    model.add(layers.Dense(2, activation='softmax'))\n",
    "    \n",
    "    # Compile the model\n",
    "    hp_learning_rate = hp.Choice('learning_rate', values=[1e-2, 1e-3, 1e-4])\n",
    "    model.compile(optimizer=keras.optimizers.Adam(learning_rate=hp_learning_rate),\n",
    "                  loss='sparse_categorical_crossentropy',\n",
    "                  metrics=['accuracy'])\n",
    "    \n",
    "    return model"
   ]
  },
  {
   "cell_type": "code",
   "execution_count": 65,
   "id": "8429377d",
   "metadata": {},
   "outputs": [],
   "source": [
    "tuner = kt.Hyperband(build_model,\n",
    "                     objective='val_accuracy',  # You can choose a different metric\n",
    "                     max_epochs=10,\n",
    "                     factor=2,\n",
    "                     directory='keras_tuner_dir',\n",
    "                     project_name='simple_rnn')"
   ]
  },
  {
   "cell_type": "code",
   "execution_count": 66,
   "id": "7b8b59f8",
   "metadata": {},
   "outputs": [
    {
     "name": "stdout",
     "output_type": "stream",
     "text": [
      "Trial 2 Complete [00h 00m 00s]\n",
      "\n",
      "Best val_accuracy So Far: None\n",
      "Total elapsed time: 00h 00m 02s\n",
      "\n",
      "Search: Running Trial #3\n",
      "\n",
      "Value             |Best Value So Far |Hyperparameter\n",
      "96                |128               |units\n",
      "0.01              |0.0001            |learning_rate\n",
      "2                 |2                 |tuner/epochs\n",
      "0                 |0                 |tuner/initial_epoch\n",
      "3                 |3                 |tuner/bracket\n",
      "0                 |0                 |tuner/round\n",
      "\n"
     ]
    },
    {
     "name": "stderr",
     "output_type": "stream",
     "text": [
      "Traceback (most recent call last):\n",
      "  File \"/home/hduser/.local/lib/python3.10/site-packages/keras_tuner/src/engine/base_tuner.py\", line 270, in _try_run_and_update_trial\n",
      "    self._run_and_update_trial(trial, *fit_args, **fit_kwargs)\n",
      "  File \"/home/hduser/.local/lib/python3.10/site-packages/keras_tuner/src/engine/base_tuner.py\", line 235, in _run_and_update_trial\n",
      "    results = self.run_trial(trial, *fit_args, **fit_kwargs)\n",
      "  File \"/home/hduser/.local/lib/python3.10/site-packages/keras_tuner/src/tuners/hyperband.py\", line 427, in run_trial\n",
      "    return super().run_trial(trial, *fit_args, **fit_kwargs)\n",
      "  File \"/home/hduser/.local/lib/python3.10/site-packages/keras_tuner/src/engine/tuner.py\", line 314, in run_trial\n",
      "    obj_value = self._build_and_fit_model(trial, *args, **copied_kwargs)\n",
      "  File \"/home/hduser/.local/lib/python3.10/site-packages/keras_tuner/src/engine/tuner.py\", line 233, in _build_and_fit_model\n",
      "    results = self.hypermodel.fit(hp, model, *args, **kwargs)\n",
      "  File \"/home/hduser/.local/lib/python3.10/site-packages/keras_tuner/src/engine/hypermodel.py\", line 144, in fit\n",
      "    return model.fit(*args, **kwargs)\n",
      "  File \"/home/hduser/.local/lib/python3.10/site-packages/keras/src/utils/traceback_utils.py\", line 70, in error_handler\n",
      "    raise e.with_traceback(filtered_tb) from None\n",
      "  File \"/home/hduser/.local/lib/python3.10/site-packages/keras/src/engine/data_adapter.py\", line 1105, in select_data_adapter\n",
      "    raise ValueError(\n",
      "ValueError: Failed to find data adapter that can handle input: <class 'pyspark.sql.dataframe.DataFrame'>, <class 'NoneType'>\n"
     ]
    },
    {
     "ename": "RuntimeError",
     "evalue": "Number of consecutive failures exceeded the limit of 3.\nTraceback (most recent call last):\n  File \"/home/hduser/.local/lib/python3.10/site-packages/keras_tuner/src/engine/base_tuner.py\", line 270, in _try_run_and_update_trial\n    self._run_and_update_trial(trial, *fit_args, **fit_kwargs)\n  File \"/home/hduser/.local/lib/python3.10/site-packages/keras_tuner/src/engine/base_tuner.py\", line 235, in _run_and_update_trial\n    results = self.run_trial(trial, *fit_args, **fit_kwargs)\n  File \"/home/hduser/.local/lib/python3.10/site-packages/keras_tuner/src/tuners/hyperband.py\", line 427, in run_trial\n    return super().run_trial(trial, *fit_args, **fit_kwargs)\n  File \"/home/hduser/.local/lib/python3.10/site-packages/keras_tuner/src/engine/tuner.py\", line 314, in run_trial\n    obj_value = self._build_and_fit_model(trial, *args, **copied_kwargs)\n  File \"/home/hduser/.local/lib/python3.10/site-packages/keras_tuner/src/engine/tuner.py\", line 233, in _build_and_fit_model\n    results = self.hypermodel.fit(hp, model, *args, **kwargs)\n  File \"/home/hduser/.local/lib/python3.10/site-packages/keras_tuner/src/engine/hypermodel.py\", line 144, in fit\n    return model.fit(*args, **kwargs)\n  File \"/home/hduser/.local/lib/python3.10/site-packages/keras/src/utils/traceback_utils.py\", line 70, in error_handler\n    raise e.with_traceback(filtered_tb) from None\n  File \"/home/hduser/.local/lib/python3.10/site-packages/keras/src/engine/data_adapter.py\", line 1105, in select_data_adapter\n    raise ValueError(\nValueError: Failed to find data adapter that can handle input: <class 'pyspark.sql.dataframe.DataFrame'>, <class 'NoneType'>\n",
     "output_type": "error",
     "traceback": [
      "\u001b[0;31m---------------------------------------------------------------------------\u001b[0m",
      "\u001b[0;31mRuntimeError\u001b[0m                              Traceback (most recent call last)",
      "\u001b[0;32m/tmp/ipykernel_10911/3269379865.py\u001b[0m in \u001b[0;36m<module>\u001b[0;34m\u001b[0m\n\u001b[1;32m      3\u001b[0m \u001b[0;34m\u001b[0m\u001b[0m\n\u001b[1;32m      4\u001b[0m \u001b[0;31m# Perform the hyperparameter search\u001b[0m\u001b[0;34m\u001b[0m\u001b[0;34m\u001b[0m\u001b[0m\n\u001b[0;32m----> 5\u001b[0;31m \u001b[0mtuner\u001b[0m\u001b[0;34m.\u001b[0m\u001b[0msearch\u001b[0m\u001b[0;34m(\u001b[0m\u001b[0mtrain_data\u001b[0m\u001b[0;34m,\u001b[0m \u001b[0mvalidation_data\u001b[0m\u001b[0;34m=\u001b[0m\u001b[0mvalidation_data\u001b[0m\u001b[0;34m,\u001b[0m \u001b[0mepochs\u001b[0m\u001b[0;34m=\u001b[0m\u001b[0;36m10\u001b[0m\u001b[0;34m,\u001b[0m \u001b[0mcallbacks\u001b[0m\u001b[0;34m=\u001b[0m\u001b[0mcallbacks\u001b[0m\u001b[0;34m)\u001b[0m\u001b[0;34m\u001b[0m\u001b[0;34m\u001b[0m\u001b[0m\n\u001b[0m\u001b[1;32m      6\u001b[0m \u001b[0;34m\u001b[0m\u001b[0m\n\u001b[1;32m      7\u001b[0m \u001b[0;31m# Get the best hyperparameters\u001b[0m\u001b[0;34m\u001b[0m\u001b[0;34m\u001b[0m\u001b[0m\n",
      "\u001b[0;32m~/.local/lib/python3.10/site-packages/keras_tuner/src/engine/base_tuner.py\u001b[0m in \u001b[0;36msearch\u001b[0;34m(self, *fit_args, **fit_kwargs)\u001b[0m\n\u001b[1;32m    229\u001b[0m             \u001b[0mself\u001b[0m\u001b[0;34m.\u001b[0m\u001b[0mon_trial_begin\u001b[0m\u001b[0;34m(\u001b[0m\u001b[0mtrial\u001b[0m\u001b[0;34m)\u001b[0m\u001b[0;34m\u001b[0m\u001b[0;34m\u001b[0m\u001b[0m\n\u001b[1;32m    230\u001b[0m             \u001b[0mself\u001b[0m\u001b[0;34m.\u001b[0m\u001b[0m_try_run_and_update_trial\u001b[0m\u001b[0;34m(\u001b[0m\u001b[0mtrial\u001b[0m\u001b[0;34m,\u001b[0m \u001b[0;34m*\u001b[0m\u001b[0mfit_args\u001b[0m\u001b[0;34m,\u001b[0m \u001b[0;34m**\u001b[0m\u001b[0mfit_kwargs\u001b[0m\u001b[0;34m)\u001b[0m\u001b[0;34m\u001b[0m\u001b[0;34m\u001b[0m\u001b[0m\n\u001b[0;32m--> 231\u001b[0;31m             \u001b[0mself\u001b[0m\u001b[0;34m.\u001b[0m\u001b[0mon_trial_end\u001b[0m\u001b[0;34m(\u001b[0m\u001b[0mtrial\u001b[0m\u001b[0;34m)\u001b[0m\u001b[0;34m\u001b[0m\u001b[0;34m\u001b[0m\u001b[0m\n\u001b[0m\u001b[1;32m    232\u001b[0m         \u001b[0mself\u001b[0m\u001b[0;34m.\u001b[0m\u001b[0mon_search_end\u001b[0m\u001b[0;34m(\u001b[0m\u001b[0;34m)\u001b[0m\u001b[0;34m\u001b[0m\u001b[0;34m\u001b[0m\u001b[0m\n\u001b[1;32m    233\u001b[0m \u001b[0;34m\u001b[0m\u001b[0m\n",
      "\u001b[0;32m~/.local/lib/python3.10/site-packages/keras_tuner/src/engine/base_tuner.py\u001b[0m in \u001b[0;36mon_trial_end\u001b[0;34m(self, trial)\u001b[0m\n\u001b[1;32m    333\u001b[0m             \u001b[0mtrial\u001b[0m\u001b[0;34m:\u001b[0m \u001b[0mA\u001b[0m\u001b[0;31m \u001b[0m\u001b[0;31m`\u001b[0m\u001b[0mTrial\u001b[0m\u001b[0;31m`\u001b[0m \u001b[0minstance\u001b[0m\u001b[0;34m.\u001b[0m\u001b[0;34m\u001b[0m\u001b[0;34m\u001b[0m\u001b[0m\n\u001b[1;32m    334\u001b[0m         \"\"\"\n\u001b[0;32m--> 335\u001b[0;31m         \u001b[0mself\u001b[0m\u001b[0;34m.\u001b[0m\u001b[0moracle\u001b[0m\u001b[0;34m.\u001b[0m\u001b[0mend_trial\u001b[0m\u001b[0;34m(\u001b[0m\u001b[0mtrial\u001b[0m\u001b[0;34m)\u001b[0m\u001b[0;34m\u001b[0m\u001b[0;34m\u001b[0m\u001b[0m\n\u001b[0m\u001b[1;32m    336\u001b[0m         \u001b[0;31m# Display needs the updated trial scored by the Oracle.\u001b[0m\u001b[0;34m\u001b[0m\u001b[0;34m\u001b[0m\u001b[0m\n\u001b[1;32m    337\u001b[0m         \u001b[0mself\u001b[0m\u001b[0;34m.\u001b[0m\u001b[0m_display\u001b[0m\u001b[0;34m.\u001b[0m\u001b[0mon_trial_end\u001b[0m\u001b[0;34m(\u001b[0m\u001b[0mself\u001b[0m\u001b[0;34m.\u001b[0m\u001b[0moracle\u001b[0m\u001b[0;34m.\u001b[0m\u001b[0mget_trial\u001b[0m\u001b[0;34m(\u001b[0m\u001b[0mtrial\u001b[0m\u001b[0;34m.\u001b[0m\u001b[0mtrial_id\u001b[0m\u001b[0;34m)\u001b[0m\u001b[0;34m)\u001b[0m\u001b[0;34m\u001b[0m\u001b[0;34m\u001b[0m\u001b[0m\n",
      "\u001b[0;32m~/.local/lib/python3.10/site-packages/keras_tuner/src/engine/oracle.py\u001b[0m in \u001b[0;36mwrapped_func\u001b[0;34m(*args, **kwargs)\u001b[0m\n\u001b[1;32m    105\u001b[0m             \u001b[0mLOCKS\u001b[0m\u001b[0;34m[\u001b[0m\u001b[0moracle\u001b[0m\u001b[0;34m]\u001b[0m\u001b[0;34m.\u001b[0m\u001b[0macquire\u001b[0m\u001b[0;34m(\u001b[0m\u001b[0;34m)\u001b[0m\u001b[0;34m\u001b[0m\u001b[0;34m\u001b[0m\u001b[0m\n\u001b[1;32m    106\u001b[0m             \u001b[0mTHREADS\u001b[0m\u001b[0;34m[\u001b[0m\u001b[0moracle\u001b[0m\u001b[0;34m]\u001b[0m \u001b[0;34m=\u001b[0m \u001b[0mthread_name\u001b[0m\u001b[0;34m\u001b[0m\u001b[0;34m\u001b[0m\u001b[0m\n\u001b[0;32m--> 107\u001b[0;31m         \u001b[0mret_val\u001b[0m \u001b[0;34m=\u001b[0m \u001b[0mfunc\u001b[0m\u001b[0;34m(\u001b[0m\u001b[0;34m*\u001b[0m\u001b[0margs\u001b[0m\u001b[0;34m,\u001b[0m \u001b[0;34m**\u001b[0m\u001b[0mkwargs\u001b[0m\u001b[0;34m)\u001b[0m\u001b[0;34m\u001b[0m\u001b[0;34m\u001b[0m\u001b[0m\n\u001b[0m\u001b[1;32m    108\u001b[0m         \u001b[0;32mif\u001b[0m \u001b[0mneed_acquire\u001b[0m\u001b[0;34m:\u001b[0m\u001b[0;34m\u001b[0m\u001b[0;34m\u001b[0m\u001b[0m\n\u001b[1;32m    109\u001b[0m             \u001b[0mTHREADS\u001b[0m\u001b[0;34m[\u001b[0m\u001b[0moracle\u001b[0m\u001b[0;34m]\u001b[0m \u001b[0;34m=\u001b[0m \u001b[0;32mNone\u001b[0m\u001b[0;34m\u001b[0m\u001b[0;34m\u001b[0m\u001b[0m\n",
      "\u001b[0;32m~/.local/lib/python3.10/site-packages/keras_tuner/src/engine/oracle.py\u001b[0m in \u001b[0;36mend_trial\u001b[0;34m(self, trial)\u001b[0m\n\u001b[1;32m    427\u001b[0m         \u001b[0;32mif\u001b[0m \u001b[0;32mnot\u001b[0m \u001b[0mself\u001b[0m\u001b[0;34m.\u001b[0m\u001b[0m_retry\u001b[0m\u001b[0;34m(\u001b[0m\u001b[0mtrial\u001b[0m\u001b[0;34m)\u001b[0m\u001b[0;34m:\u001b[0m\u001b[0;34m\u001b[0m\u001b[0;34m\u001b[0m\u001b[0m\n\u001b[1;32m    428\u001b[0m             \u001b[0mself\u001b[0m\u001b[0;34m.\u001b[0m\u001b[0mend_order\u001b[0m\u001b[0;34m.\u001b[0m\u001b[0mappend\u001b[0m\u001b[0;34m(\u001b[0m\u001b[0mtrial\u001b[0m\u001b[0;34m.\u001b[0m\u001b[0mtrial_id\u001b[0m\u001b[0;34m)\u001b[0m\u001b[0;34m\u001b[0m\u001b[0;34m\u001b[0m\u001b[0m\n\u001b[0;32m--> 429\u001b[0;31m             \u001b[0mself\u001b[0m\u001b[0;34m.\u001b[0m\u001b[0m_check_consecutive_failures\u001b[0m\u001b[0;34m(\u001b[0m\u001b[0;34m)\u001b[0m\u001b[0;34m\u001b[0m\u001b[0;34m\u001b[0m\u001b[0m\n\u001b[0m\u001b[1;32m    430\u001b[0m \u001b[0;34m\u001b[0m\u001b[0m\n\u001b[1;32m    431\u001b[0m         \u001b[0mself\u001b[0m\u001b[0;34m.\u001b[0m\u001b[0m_save_trial\u001b[0m\u001b[0;34m(\u001b[0m\u001b[0mtrial\u001b[0m\u001b[0;34m)\u001b[0m\u001b[0;34m\u001b[0m\u001b[0;34m\u001b[0m\u001b[0m\n",
      "\u001b[0;32m~/.local/lib/python3.10/site-packages/keras_tuner/src/engine/oracle.py\u001b[0m in \u001b[0;36m_check_consecutive_failures\u001b[0;34m(self)\u001b[0m\n\u001b[1;32m    384\u001b[0m                 \u001b[0mconsecutive_failures\u001b[0m \u001b[0;34m=\u001b[0m \u001b[0;36m0\u001b[0m\u001b[0;34m\u001b[0m\u001b[0;34m\u001b[0m\u001b[0m\n\u001b[1;32m    385\u001b[0m             \u001b[0;32mif\u001b[0m \u001b[0mconsecutive_failures\u001b[0m \u001b[0;34m==\u001b[0m \u001b[0mself\u001b[0m\u001b[0;34m.\u001b[0m\u001b[0mmax_consecutive_failed_trials\u001b[0m\u001b[0;34m:\u001b[0m\u001b[0;34m\u001b[0m\u001b[0;34m\u001b[0m\u001b[0m\n\u001b[0;32m--> 386\u001b[0;31m                 raise RuntimeError(\n\u001b[0m\u001b[1;32m    387\u001b[0m                     \u001b[0;34m\"Number of consecutive failures exceeded the limit \"\u001b[0m\u001b[0;34m\u001b[0m\u001b[0;34m\u001b[0m\u001b[0m\n\u001b[1;32m    388\u001b[0m                     \u001b[0;34mf\"of {self.max_consecutive_failed_trials}.\\n\"\u001b[0m\u001b[0;34m\u001b[0m\u001b[0;34m\u001b[0m\u001b[0m\n",
      "\u001b[0;31mRuntimeError\u001b[0m: Number of consecutive failures exceeded the limit of 3.\nTraceback (most recent call last):\n  File \"/home/hduser/.local/lib/python3.10/site-packages/keras_tuner/src/engine/base_tuner.py\", line 270, in _try_run_and_update_trial\n    self._run_and_update_trial(trial, *fit_args, **fit_kwargs)\n  File \"/home/hduser/.local/lib/python3.10/site-packages/keras_tuner/src/engine/base_tuner.py\", line 235, in _run_and_update_trial\n    results = self.run_trial(trial, *fit_args, **fit_kwargs)\n  File \"/home/hduser/.local/lib/python3.10/site-packages/keras_tuner/src/tuners/hyperband.py\", line 427, in run_trial\n    return super().run_trial(trial, *fit_args, **fit_kwargs)\n  File \"/home/hduser/.local/lib/python3.10/site-packages/keras_tuner/src/engine/tuner.py\", line 314, in run_trial\n    obj_value = self._build_and_fit_model(trial, *args, **copied_kwargs)\n  File \"/home/hduser/.local/lib/python3.10/site-packages/keras_tuner/src/engine/tuner.py\", line 233, in _build_and_fit_model\n    results = self.hypermodel.fit(hp, model, *args, **kwargs)\n  File \"/home/hduser/.local/lib/python3.10/site-packages/keras_tuner/src/engine/hypermodel.py\", line 144, in fit\n    return model.fit(*args, **kwargs)\n  File \"/home/hduser/.local/lib/python3.10/site-packages/keras/src/utils/traceback_utils.py\", line 70, in error_handler\n    raise e.with_traceback(filtered_tb) from None\n  File \"/home/hduser/.local/lib/python3.10/site-packages/keras/src/engine/data_adapter.py\", line 1105, in select_data_adapter\n    raise ValueError(\nValueError: Failed to find data adapter that can handle input: <class 'pyspark.sql.dataframe.DataFrame'>, <class 'NoneType'>\n"
     ]
    }
   ],
   "source": [
    "# Define callbacks, e.g., early stopping\n",
    "callbacks = [keras.callbacks.EarlyStopping(patience=3)]\n",
    "\n",
    "# Perform the hyperparameter search\n",
    "tuner.search(train_data, validation_data=validation_data, epochs=10, callbacks=callbacks)\n",
    "\n",
    "# Get the best hyperparameters\n",
    "best_hps = tuner.get_best_hyperparameters(num_trials=1)[0]"
   ]
  },
  {
   "cell_type": "code",
   "execution_count": 67,
   "id": "b5bf8a33",
   "metadata": {},
   "outputs": [
    {
     "ename": "NameError",
     "evalue": "name 'best_hps' is not defined",
     "output_type": "error",
     "traceback": [
      "\u001b[0;31m---------------------------------------------------------------------------\u001b[0m",
      "\u001b[0;31mNameError\u001b[0m                                 Traceback (most recent call last)",
      "\u001b[0;32m/tmp/ipykernel_10911/2734306705.py\u001b[0m in \u001b[0;36m<module>\u001b[0;34m\u001b[0m\n\u001b[1;32m      1\u001b[0m \u001b[0;31m# Build the model with the best hyperparameters\u001b[0m\u001b[0;34m\u001b[0m\u001b[0;34m\u001b[0m\u001b[0m\n\u001b[0;32m----> 2\u001b[0;31m \u001b[0mfinal_model\u001b[0m \u001b[0;34m=\u001b[0m \u001b[0mtuner\u001b[0m\u001b[0;34m.\u001b[0m\u001b[0mhypermodel\u001b[0m\u001b[0;34m.\u001b[0m\u001b[0mbuild\u001b[0m\u001b[0;34m(\u001b[0m\u001b[0mbest_hps\u001b[0m\u001b[0;34m)\u001b[0m\u001b[0;34m\u001b[0m\u001b[0;34m\u001b[0m\u001b[0m\n\u001b[0m\u001b[1;32m      3\u001b[0m \u001b[0;34m\u001b[0m\u001b[0m\n\u001b[1;32m      4\u001b[0m \u001b[0;31m# Train the model\u001b[0m\u001b[0;34m\u001b[0m\u001b[0;34m\u001b[0m\u001b[0m\n\u001b[1;32m      5\u001b[0m \u001b[0mfinal_model\u001b[0m\u001b[0;34m.\u001b[0m\u001b[0mfit\u001b[0m\u001b[0;34m(\u001b[0m\u001b[0mtrain_data\u001b[0m\u001b[0;34m,\u001b[0m \u001b[0mvalidation_data\u001b[0m\u001b[0;34m=\u001b[0m\u001b[0mvalidation_data\u001b[0m\u001b[0;34m,\u001b[0m \u001b[0mepochs\u001b[0m\u001b[0;34m=\u001b[0m\u001b[0;36m10\u001b[0m\u001b[0;34m,\u001b[0m \u001b[0mcallbacks\u001b[0m\u001b[0;34m=\u001b[0m\u001b[0mcallbacks\u001b[0m\u001b[0;34m)\u001b[0m\u001b[0;34m\u001b[0m\u001b[0;34m\u001b[0m\u001b[0m\n",
      "\u001b[0;31mNameError\u001b[0m: name 'best_hps' is not defined"
     ]
    }
   ],
   "source": [
    "# Build the model with the best hyperparameters\n",
    "final_model = tuner.hypermodel.build(best_hps)\n",
    "\n",
    "# Train the model\n",
    "final_model.fit(train_data, validation_data=validation_data, epochs=10, callbacks=callbacks)"
   ]
  },
  {
   "cell_type": "code",
   "execution_count": null,
   "id": "512e104e",
   "metadata": {},
   "outputs": [],
   "source": [
    "test_loss, test_accuracy = final_model.evaluate(test_data)\n",
    "print(f\"Test Accuracy: {test_accuracy:.4f}\")\n"
   ]
  },
  {
   "cell_type": "code",
   "execution_count": null,
   "id": "c35b0a49",
   "metadata": {},
   "outputs": [],
   "source": []
  },
  {
   "cell_type": "code",
   "execution_count": null,
   "id": "e2fb225a",
   "metadata": {},
   "outputs": [],
   "source": []
  },
  {
   "cell_type": "code",
   "execution_count": null,
   "id": "d82ef500",
   "metadata": {},
   "outputs": [],
   "source": []
  },
  {
   "cell_type": "code",
   "execution_count": null,
   "id": "92cd3bb4",
   "metadata": {},
   "outputs": [],
   "source": []
  },
  {
   "cell_type": "code",
   "execution_count": null,
   "id": "7bac4592",
   "metadata": {},
   "outputs": [],
   "source": []
  },
  {
   "cell_type": "code",
   "execution_count": null,
   "id": "583a1e65",
   "metadata": {},
   "outputs": [],
   "source": []
  },
  {
   "cell_type": "code",
   "execution_count": null,
   "id": "5e8772bf",
   "metadata": {},
   "outputs": [],
   "source": []
  },
  {
   "cell_type": "code",
   "execution_count": null,
   "id": "f15b68c8",
   "metadata": {},
   "outputs": [],
   "source": []
  },
  {
   "cell_type": "code",
   "execution_count": 10,
   "id": "20d61512",
   "metadata": {},
   "outputs": [
    {
     "name": "stderr",
     "output_type": "stream",
     "text": [
      "[nltk_data] Downloading package wordnet to /home/hduser/nltk_data...\n",
      "[nltk_data]   Package wordnet is already up-to-date!\n",
      "[nltk_data] Downloading package stopwords to /home/hduser/nltk_data...\n",
      "[nltk_data]   Package stopwords is already up-to-date!\n",
      "[nltk_data] Downloading package punkt to /home/hduser/nltk_data...\n",
      "[nltk_data]   Package punkt is already up-to-date!\n"
     ]
    }
   ],
   "source": [
    "from pyspark.sql.functions import udf\n",
    "from pyspark.sql.types import StringType\n",
    "\n",
    "import nltk\n",
    "from nltk.corpus import stopwords\n",
    "from nltk.tokenize import word_tokenize\n",
    "from nltk.stem import WordNetLemmatizer\n",
    "\n",
    "nltk.download('wordnet')\n",
    "nltk.download('stopwords')\n",
    "nltk.download('punkt')\n",
    "lists = stopwords.words('english')"
   ]
  },
  {
   "cell_type": "code",
   "execution_count": 11,
   "id": "1ba7635a",
   "metadata": {},
   "outputs": [],
   "source": [
    "def tokenize(text):\n",
    "    return word_tokenize(text)\n",
    "\n",
    "def remove_stopwords(tokens):\n",
    "    stop_words = set(stopwords.words('english'))\n",
    "    return [word for word in tokens if word.lower() not in stop_words]\n",
    "\n",
    "def lemmatize(tokens):\n",
    "    lemmatizer = WordNetLemmatizer()\n",
    "    return [lemmatizer.lemmatize(word) for word in tokens]"
   ]
  },
  {
   "cell_type": "code",
   "execution_count": 12,
   "id": "95b86b38",
   "metadata": {},
   "outputs": [],
   "source": [
    "# UDFs with Spark\n",
    "tokenize_udf = udf(tokenize, StringType())\n",
    "remove_stopwords_udf = udf(remove_stopwords, StringType())\n",
    "lemmatize_udf = udf(lemmatize, StringType())"
   ]
  },
  {
   "cell_type": "code",
   "execution_count": 13,
   "id": "816688b9",
   "metadata": {},
   "outputs": [],
   "source": [
    "# Tokenize, remove stopwords, and lemmatize the \"text\" column\n",
    "df = df.withColumn(\"tokens\", tokenize_udf(df[\"text\"]))\n",
    "df = df.withColumn(\"filtered_tokens\", remove_stopwords_udf(df[\"tokens\"]))\n",
    "df = df.withColumn(\"processed_text\", lemmatize_udf(df[\"filtered_tokens\"]))"
   ]
  },
  {
   "cell_type": "code",
   "execution_count": 14,
   "id": "b124c463",
   "metadata": {
    "scrolled": true
   },
   "outputs": [
    {
     "name": "stderr",
     "output_type": "stream",
     "text": [
      "/usr/lib/python3/dist-packages/scipy/__init__.py:146: UserWarning: A NumPy version >=1.17.3 and <1.25.0 is required for this version of SciPy (detected version 1.26.0\n",
      "  warnings.warn(f\"A NumPy version >={np_minversion} and <{np_maxversion}\"\n"
     ]
    },
    {
     "name": "stdout",
     "output_type": "stream",
     "text": [
      "+-----------------------------------------------------------------------------------------------------------------------------------------------------------------------------------------------------------------------------------------------------------------------------------------------------------------------------------------------------------------------------------------------------------------------------------------------------------------------------------------------------------+\n",
      "|processed_text                                                                                                                                                                                                                                                                                                                                                                                                                                                                                             |\n",
      "+-----------------------------------------------------------------------------------------------------------------------------------------------------------------------------------------------------------------------------------------------------------------------------------------------------------------------------------------------------------------------------------------------------------------------------------------------------------------------------------------------------------+\n",
      "|[Ex, Wife, Threatening, SuicideRecently, left, wife, good, cheated, twice, lied, much, decided, refuse, go, back, ., day, ago, ,, began, threatening, suicide, ., tirelessly, spent, paat, day, talking, keep, hesitating, want, believe, 'll, come, back, ., know, lot, people, threaten, order, get, way, ,, happens, really, ?, supposed, handle, death, hand, ?, still, love, wife, deal, getting, cheated, constantly, feeling, insecure, ., 'm, worried, today, may, day, hope, much, n't, happen, .]|\n",
      "+-----------------------------------------------------------------------------------------------------------------------------------------------------------------------------------------------------------------------------------------------------------------------------------------------------------------------------------------------------------------------------------------------------------------------------------------------------------------------------------------------------------+\n",
      "only showing top 1 row\n",
      "\n"
     ]
    },
    {
     "name": "stderr",
     "output_type": "stream",
     "text": [
      "\r",
      "                                                                                \r"
     ]
    }
   ],
   "source": [
    "df.select(\"processed_text\").show(1, truncate=False)"
   ]
  },
  {
   "cell_type": "markdown",
   "id": "0e428d8a",
   "metadata": {},
   "source": [
    "First row original Text:\n",
    "\n",
    "Ex Wife Threatening SuicideRecently I left my wife for good because she has cheated on me twice and lied to me so much that I have decided to refuse to go back to her. As of a few days ago, she began threatening suicide. I have tirelessly spent these paat few days talking her out of it and she keeps hesitating because she wants to believe I'll come back. I know a lot of people will threaten this in order to get their way, but what happens if she really does? What do I do and how am I supposed to handle her death on my hands? I still love my wife but I cannot deal with getting cheated on again and constantly feeling insecure. I'm worried today may be the day she does it and I hope so much it doesn't happen.\n",
    "\n",
    "First row after Tokenization, Lemmatization and Removing Stopwords:\n",
    "\n",
    "Ex, Wife, Threatening, SuicideRecently, left, wife, good, cheated, twice, lied, much, decided, refuse, go, back, ., day, ago, ,, began, threatening, suicide, ., tirelessly, spent, paat, day, talking, keep, hesitating, want, believe, 'll, come, back, ., know, lot, people, threaten, order, get, way, ,, happens, really, ?, supposed, handle, death, hand, ?, still, love, wife, deal, getting, cheated, constantly, feeling, insecure, ., 'm, worried, today, may, day, hope, much, n't, happen, ."
   ]
  },
  {
   "cell_type": "code",
   "execution_count": 36,
   "id": "510edd57",
   "metadata": {
    "scrolled": true
   },
   "outputs": [
    {
     "name": "stderr",
     "output_type": "stream",
     "text": [
      "/usr/lib/python3/dist-packages/scipy/__init__.py:146: UserWarning: A NumPy version >=1.17.3 and <1.25.0 is required for this version of SciPy (detected version 1.26.0\n",
      "  warnings.warn(f\"A NumPy version >={np_minversion} and <{np_maxversion}\"\n",
      "[Stage 28:>                                                         (0 + 1) / 1]\r"
     ]
    },
    {
     "name": "stdout",
     "output_type": "stream",
     "text": [
      "+---+--------------------+-----------+--------------------+--------------------+--------------------+\n",
      "| ID|                Text|      Label|              tokens|     filtered_tokens|      processed_text|\n",
      "+---+--------------------+-----------+--------------------+--------------------+--------------------+\n",
      "|  2|Ex Wife Threateni...|    suicide|[Ex, Wife, Threat...|[Ex, Wife, Threat...|[Ex, Wife, Threat...|\n",
      "|  3|Am I weird I don'...|non-suicide|[Am, I, weird, I,...|[weird, n't, get,...|[weird, n't, get,...|\n",
      "|  4|\"Finally 2020 is ...|non-suicide|[``, Finally, 202...|[``, Finally, 202...|[``, Finally, 202...|\n",
      "|  8|i need helpjust h...|    suicide|[i, need, helpjus...|[need, helpjust, ...|[need, helpjust, ...|\n",
      "| 18|My life is over a...|    suicide|[My, life, is, ov...|[life, 20, years,...|[life, 20, year, ...|\n",
      "+---+--------------------+-----------+--------------------+--------------------+--------------------+\n",
      "only showing top 5 rows\n",
      "\n"
     ]
    },
    {
     "name": "stderr",
     "output_type": "stream",
     "text": [
      "\r",
      "                                                                                \r"
     ]
    }
   ],
   "source": [
    "df.show(5)"
   ]
  },
  {
   "cell_type": "code",
   "execution_count": 37,
   "id": "f27cb4a5",
   "metadata": {},
   "outputs": [
    {
     "name": "stderr",
     "output_type": "stream",
     "text": [
      "/usr/lib/python3/dist-packages/scipy/__init__.py:146: UserWarning: A NumPy version >=1.17.3 and <1.25.0 is required for this version of SciPy (detected version 1.26.0\n",
      "  warnings.warn(f\"A NumPy version >={np_minversion} and <{np_maxversion}\"\n",
      "[Stage 29:>                                                         (0 + 1) / 1]\r"
     ]
    },
    {
     "name": "stdout",
     "output_type": "stream",
     "text": [
      "+---+-----------+--------------------+\n",
      "| ID|      Label|      processed_text|\n",
      "+---+-----------+--------------------+\n",
      "|  2|    suicide|[Ex, Wife, Threat...|\n",
      "|  3|non-suicide|[weird, n't, get,...|\n",
      "+---+-----------+--------------------+\n",
      "only showing top 2 rows\n",
      "\n"
     ]
    },
    {
     "name": "stderr",
     "output_type": "stream",
     "text": [
      "\r",
      "                                                                                \r"
     ]
    }
   ],
   "source": [
    "# List of columns to remove\n",
    "columns_to_remove = [\"Text\", \"tokens\", \"filtered_tokens\", \"lemmatized_tokens\"]\n",
    "\n",
    "# Remove the specified columns\n",
    "df = df.drop(*columns_to_remove)\n",
    "\n",
    "df.show(2)"
   ]
  },
  {
   "cell_type": "code",
   "execution_count": 38,
   "id": "7bbd8408",
   "metadata": {},
   "outputs": [
    {
     "name": "stderr",
     "output_type": "stream",
     "text": [
      "/usr/lib/python3/dist-packages/scipy/__init__.py:146: UserWarning: A NumPy version >=1.17.3 and <1.25.0 is required for this version of SciPy (detected version 1.26.0\n",
      "  warnings.warn(f\"A NumPy version >={np_minversion} and <{np_maxversion}\"\n",
      "[Stage 30:>                                                         (0 + 1) / 1]\r"
     ]
    },
    {
     "name": "stdout",
     "output_type": "stream",
     "text": [
      "+---+--------------------+-----------+\n",
      "| ID|      processed_text|      Label|\n",
      "+---+--------------------+-----------+\n",
      "|  2|[Ex, Wife, Threat...|    suicide|\n",
      "|  3|[weird, n't, get,...|non-suicide|\n",
      "|  4|[``, Finally, 202...|non-suicide|\n",
      "|  8|[need, helpjust, ...|    suicide|\n",
      "| 18|[life, 20, year, ...|    suicide|\n",
      "+---+--------------------+-----------+\n",
      "only showing top 5 rows\n",
      "\n"
     ]
    },
    {
     "name": "stderr",
     "output_type": "stream",
     "text": [
      "\r",
      "                                                                                \r"
     ]
    }
   ],
   "source": [
    "from pyspark.sql.functions import col\n",
    "\n",
    "# Reorder the columns\n",
    "df = df.select(\"ID\", \"processed_text\", \"Label\")\n",
    "\n",
    "df.show(5)"
   ]
  },
  {
   "cell_type": "code",
   "execution_count": 39,
   "id": "7dc2ba56",
   "metadata": {
    "scrolled": true
   },
   "outputs": [],
   "source": [
    "from pyspark.sql.functions import lower, regexp_replace\n",
    "from functools import reduce\n",
    "\n",
    "# List of preprocessing functions\n",
    "preprocessing_functions = [\n",
    "    lambda text: lower(text),                                     # Convert text to lowercase\n",
    "    lambda text: regexp_replace(text, r'\\S+@\\S+', ''),           # Remove email addresses\n",
    "    lambda text: regexp_replace(text, r'<.*?>', ''),             # Remove HTML tags\n",
    "    lambda text: regexp_replace(text, r'[^a-zA-Z0-9\\s,.]', ' '), # Remove special characters except , and .\n",
    "    lambda text: regexp_replace(text, r'[^\\x00-\\x7F]+', ''),     # Remove accented characters\n",
    "    lambda text: regexp_replace(text, r'\\s+', ' ')              # Remove extra spaces\n",
    "]\n",
    "\n",
    "# Apply preprocessing functions to the \"processed_text\" column\n",
    "for func in preprocessing_functions:\n",
    "    df = df.withColumn(\"processed_text\", func(df[\"processed_text\"]))"
   ]
  },
  {
   "cell_type": "code",
   "execution_count": 40,
   "id": "8da8aca2",
   "metadata": {
    "scrolled": false
   },
   "outputs": [
    {
     "name": "stderr",
     "output_type": "stream",
     "text": [
      "/usr/lib/python3/dist-packages/scipy/__init__.py:146: UserWarning: A NumPy version >=1.17.3 and <1.25.0 is required for this version of SciPy (detected version 1.26.0\n",
      "  warnings.warn(f\"A NumPy version >={np_minversion} and <{np_maxversion}\"\n",
      "[Stage 31:>                                                         (0 + 1) / 1]\r"
     ]
    },
    {
     "name": "stdout",
     "output_type": "stream",
     "text": [
      "+---+--------------------+-----------+\n",
      "| ID|      processed_text|      Label|\n",
      "+---+--------------------+-----------+\n",
      "|  2| ex, wife, threat...|    suicide|\n",
      "|  3| weird, n t, get,...|non-suicide|\n",
      "|  4|   , finally, 202...|non-suicide|\n",
      "|  8| need, helpjust, ...|    suicide|\n",
      "| 18| life, 20, year, ...|    suicide|\n",
      "| 19| took, rest, slee...|    suicide|\n",
      "| 21| think, getting, ...|    suicide|\n",
      "| 23| arrested,  , fee...|    suicide|\n",
      "| 24| fuck, verizon, s...|non-suicide|\n",
      "| 31|  , know, really,...|non-suicide|\n",
      "| 37| guys, want, frie...|non-suicide|\n",
      "| 39|  , trashlol, nor...|    suicide|\n",
      "| 41| best, way,  ,  ,...|    suicide|\n",
      "| 43| today,  s, fact,...|non-suicide|\n",
      "| 44| feel, like, drow...|    suicide|\n",
      "| 45| worth,  , troubl...|    suicide|\n",
      "| 47| triple, nipple, ...|non-suicide|\n",
      "| 54| hey, ,, im, gon,...|non-suicide|\n",
      "| 57| learnt, new, ski...|non-suicide|\n",
      "| 62| one, use, email,...|non-suicide|\n",
      "+---+--------------------+-----------+\n",
      "only showing top 20 rows\n",
      "\n"
     ]
    },
    {
     "name": "stderr",
     "output_type": "stream",
     "text": [
      "\r",
      "                                                                                \r"
     ]
    }
   ],
   "source": [
    "# Show the updated DataFrame\n",
    "df.show(20, truncate=True)"
   ]
  },
  {
   "cell_type": "code",
   "execution_count": 41,
   "id": "1504e92c",
   "metadata": {},
   "outputs": [
    {
     "name": "stderr",
     "output_type": "stream",
     "text": [
      "/usr/lib/python3/dist-packages/scipy/__init__.py:146: UserWarning: A NumPy version >=1.17.3 and <1.25.0 is required for this version of SciPy (detected version 1.26.0\n",
      "  warnings.warn(f\"A NumPy version >={np_minversion} and <{np_maxversion}\"\n",
      "[Stage 32:>                                                         (0 + 1) / 1]\r"
     ]
    },
    {
     "name": "stdout",
     "output_type": "stream",
     "text": [
      "+---+--------------------+-------+\n",
      "| ID|      processed_text|  Label|\n",
      "+---+--------------------+-------+\n",
      "|  2| ex, wife, threat...|suicide|\n",
      "|  8| need, helpjust, ...|suicide|\n",
      "| 18| life, 20, year, ...|suicide|\n",
      "| 19| took, rest, slee...|suicide|\n",
      "| 21| think, getting, ...|suicide|\n",
      "+---+--------------------+-------+\n",
      "only showing top 5 rows\n",
      "\n"
     ]
    },
    {
     "name": "stderr",
     "output_type": "stream",
     "text": [
      "\r",
      "                                                                                \r"
     ]
    }
   ],
   "source": [
    "from pyspark.sql.functions import col\n",
    "\n",
    "# Filter the labels\n",
    "df = df.filter(col('Label') == 'suicide')\n",
    "\n",
    "# Show the resulting DataFrame\n",
    "df.show(5)"
   ]
  },
  {
   "cell_type": "code",
   "execution_count": 45,
   "id": "d9d6429b",
   "metadata": {},
   "outputs": [
    {
     "name": "stderr",
     "output_type": "stream",
     "text": [
      "/usr/lib/python3/dist-packages/scipy/__init__.py:146: UserWarning: A NumPy version >=1.17.3 and <1.25.0 is required for this version of SciPy (detected version 1.26.0\n",
      "  warnings.warn(f\"A NumPy version >={np_minversion} and <{np_maxversion}\"\n",
      "/usr/lib/python3/dist-packages/scipy/__init__.py:146: UserWarning: A NumPy version >=1.17.3 and <1.25.0 is required for this version of SciPy (detected version 1.26.0\n",
      "  warnings.warn(f\"A NumPy version >={np_minversion} and <{np_maxversion}\"\n"
     ]
    },
    {
     "name": "stdout",
     "output_type": "stream",
     "text": [
      "+-------+--------------------+\n",
      "|  Label|              tokens|\n",
      "+-------+--------------------+\n",
      "|suicide|[, ex,, wife,, th...|\n",
      "|suicide|[, ex,, wife,, th...|\n",
      "|suicide|[, ex,, wife,, th...|\n",
      "|suicide|[, ex,, wife,, th...|\n",
      "|suicide|[, ex,, wife,, th...|\n",
      "|suicide|[, ex,, wife,, th...|\n",
      "|suicide|[, ex,, wife,, th...|\n",
      "|suicide|[, ex,, wife,, th...|\n",
      "|suicide|[, ex,, wife,, th...|\n",
      "|suicide|[, ex,, wife,, th...|\n",
      "|suicide|[, ex,, wife,, th...|\n",
      "|suicide|[, ex,, wife,, th...|\n",
      "|suicide|[, ex,, wife,, th...|\n",
      "|suicide|[, ex,, wife,, th...|\n",
      "|suicide|[, ex,, wife,, th...|\n",
      "|suicide|[, ex,, wife,, th...|\n",
      "|suicide|[, ex,, wife,, th...|\n",
      "|suicide|[, ex,, wife,, th...|\n",
      "|suicide|[, ex,, wife,, th...|\n",
      "|suicide|[, ex,, wife,, th...|\n",
      "+-------+--------------------+\n",
      "only showing top 20 rows\n",
      "\n"
     ]
    },
    {
     "name": "stderr",
     "output_type": "stream",
     "text": [
      "\r",
      "                                                                                \r"
     ]
    }
   ],
   "source": [
    "from pyspark.ml.feature import Tokenizer\n",
    "\n",
    "# Create a Tokenizer instance\n",
    "tokenizer = Tokenizer(inputCol=\"processed_text\", outputCol=\"tokens\")\n",
    "\n",
    "# Tokenize the \"processed_text\" column\n",
    "tokenized_df = tokenizer.transform(df)\n",
    "\n",
    "# Show the resulting DataFrame\n",
    "tokenized_df.select(\"Label\", \"tokens\").show(truncate=True)"
   ]
  },
  {
   "cell_type": "code",
   "execution_count": 43,
   "id": "f4c493f1",
   "metadata": {
    "scrolled": false
   },
   "outputs": [
    {
     "name": "stderr",
     "output_type": "stream",
     "text": [
      "/usr/lib/python3/dist-packages/scipy/__init__.py:146: UserWarning: A NumPy version >=1.17.3 and <1.25.0 is required for this version of SciPy (detected version 1.26.0\n",
      "  warnings.warn(f\"A NumPy version >={np_minversion} and <{np_maxversion}\"\n",
      "/usr/lib/python3/dist-packages/scipy/__init__.py:146: UserWarning: A NumPy version >=1.17.3 and <1.25.0 is required for this version of SciPy (detected version 1.26.0\n",
      "  warnings.warn(f\"A NumPy version >={np_minversion} and <{np_maxversion}\"\n",
      "/usr/lib/python3/dist-packages/scipy/__init__.py:146: UserWarning: A NumPy version >=1.17.3 and <1.25.0 is required for this version of SciPy (detected version 1.26.0\n",
      "  warnings.warn(f\"A NumPy version >={np_minversion} and <{np_maxversion}\"\n",
      "/usr/lib/python3/dist-packages/scipy/__init__.py:146: UserWarning: A NumPy version >=1.17.3 and <1.25.0 is required for this version of SciPy (detected version 1.26.0\n",
      "  warnings.warn(f\"A NumPy version >={np_minversion} and <{np_maxversion}\"\n",
      "/usr/lib/python3/dist-packages/scipy/__init__.py:146: UserWarning: A NumPy version >=1.17.3 and <1.25.0 is required for this version of SciPy (detected version 1.26.0\n",
      "  warnings.warn(f\"A NumPy version >={np_minversion} and <{np_maxversion}\"\n",
      "/usr/lib/python3/dist-packages/scipy/__init__.py:146: UserWarning: A NumPy version >=1.17.3 and <1.25.0 is required for this version of SciPy (detected version 1.26.0\n",
      "  warnings.warn(f\"A NumPy version >={np_minversion} and <{np_maxversion}\"\n",
      "/usr/lib/python3/dist-packages/scipy/__init__.py:146: UserWarning: A NumPy version >=1.17.3 and <1.25.0 is required for this version of SciPy (detected version 1.26.0\n",
      "  warnings.warn(f\"A NumPy version >={np_minversion} and <{np_maxversion}\"\n",
      "/usr/lib/python3/dist-packages/scipy/__init__.py:146: UserWarning: A NumPy version >=1.17.3 and <1.25.0 is required for this version of SciPy (detected version 1.26.0\n",
      "  warnings.warn(f\"A NumPy version >={np_minversion} and <{np_maxversion}\"\n",
      "[Stage 36:===========================================>              (3 + 1) / 4]\r"
     ]
    },
    {
     "name": "stdout",
     "output_type": "stream",
     "text": [
      "+------+---------+\n",
      "|  word|    count|\n",
      "+------+---------+\n",
      "|      |621274847|\n",
      "|    .,| 50609365|\n",
      "|     ,| 24103133|\n",
      "|    ,,| 21640827|\n",
      "|  get,| 14320406|\n",
      "| head,| 11650145|\n",
      "|     n|  8481705|\n",
      "|    t,|  7577626|\n",
      "|    m,|  5363490|\n",
      "| want,|  4832710|\n",
      "| like,|  4607995|\n",
      "| feel,|  4305347|\n",
      "| life,|  3961358|\n",
      "| know,|  3700578|\n",
      "|    s,|  2748871|\n",
      "| time,|  2672449|\n",
      "| even,|  2556040|\n",
      "|would,|  2493871|\n",
      "|  one,|  2401013|\n",
      "|     .|  2382773|\n",
      "+------+---------+\n",
      "only showing top 20 rows\n",
      "\n"
     ]
    },
    {
     "name": "stderr",
     "output_type": "stream",
     "text": [
      "\r",
      "                                                                                \r"
     ]
    }
   ],
   "source": [
    "from pyspark.sql.functions import split, explode, col\n",
    "\n",
    "# Split the processed_text column into individual words\n",
    "df = df.withColumn(\"words\", split(col(\"processed_text\"), \" \"))\n",
    "\n",
    "# Explode the words column to create a row for each word\n",
    "df = df.withColumn(\"word\", explode(col(\"words\")))\n",
    "\n",
    "# Group by words and count their occurrences\n",
    "word_counts = df.groupBy(\"word\").count()\n",
    "\n",
    "# Order the word counts in descending order\n",
    "word_counts = word_counts.orderBy(col(\"count\").desc())\n",
    "\n",
    "# Show the top 20 words and their counts\n",
    "word_counts.show(20)"
   ]
  },
  {
   "cell_type": "code",
   "execution_count": null,
   "id": "b195f4cc",
   "metadata": {},
   "outputs": [],
   "source": [
    "X = df['processed_text']\n",
    "y = df['Label']"
   ]
  },
  {
   "cell_type": "code",
   "execution_count": null,
   "id": "3242cf40",
   "metadata": {},
   "outputs": [],
   "source": [
    "from pyspark.sql import SparkSession\n",
    "from pyspark.ml.feature import Tokenizer, Word2Vec, CountVectorizer\n",
    "from pyspark.ml import Pipeline"
   ]
  },
  {
   "cell_type": "code",
   "execution_count": null,
   "id": "07cb7c90",
   "metadata": {},
   "outputs": [],
   "source": [
    "# Step 1: Tokenize the text data\n",
    "tokenizer = Tokenizer(inputCol=\"processed_text\", outputCol=\"tokens\")"
   ]
  },
  {
   "cell_type": "code",
   "execution_count": null,
   "id": "643ccebd",
   "metadata": {},
   "outputs": [],
   "source": [
    "# Step 2: Create a vocabulary from the tokens\n",
    "count_vectorizer = CountVectorizer(inputCol=\"tokens\", outputCol=\"features\")"
   ]
  },
  {
   "cell_type": "code",
   "execution_count": null,
   "id": "e3fa1295",
   "metadata": {},
   "outputs": [],
   "source": [
    "# Define a pipeline to execute these steps\n",
    "pipeline = Pipeline(stages=[tokenizer, count_vectorizer])"
   ]
  },
  {
   "cell_type": "code",
   "execution_count": null,
   "id": "0d0dfcb6",
   "metadata": {},
   "outputs": [],
   "source": [
    "# Fit and transform the data using the pipeline\n",
    "model = pipeline.fit(df)\n",
    "transformed_df = model.transform(df)"
   ]
  },
  {
   "cell_type": "code",
   "execution_count": null,
   "id": "f1230f98",
   "metadata": {},
   "outputs": [],
   "source": [
    "word2Vec = Word2Vec(vectorSize=100, minCount=5, inputCol=\"words\", outputCol=\"word_vectors\")\n",
    "model = word2Vec.fit(wordsData)\n",
    "result = model.transform(wordsData)"
   ]
  },
  {
   "cell_type": "code",
   "execution_count": null,
   "id": "ec4b509c",
   "metadata": {},
   "outputs": [],
   "source": [
    "# Assuming you have a label column named \"label\" and features column named \"word_vectors\"\n",
    "labeledData = result.select(\"ID\", \"word_vectors\",\"Label\")"
   ]
  },
  {
   "cell_type": "code",
   "execution_count": null,
   "id": "c55d69b0",
   "metadata": {
    "scrolled": false
   },
   "outputs": [],
   "source": [
    "labeledData.show(5, truncate=True)"
   ]
  },
  {
   "cell_type": "code",
   "execution_count": null,
   "id": "fef52833",
   "metadata": {},
   "outputs": [],
   "source": [
    "word_vectors = labeledData.select(\"word_vectors\").rdd.map(lambda x: x[0]).collect()"
   ]
  },
  {
   "cell_type": "code",
   "execution_count": null,
   "id": "e02d9101",
   "metadata": {},
   "outputs": [],
   "source": [
    "num_words = len(word_vectors[0])"
   ]
  },
  {
   "cell_type": "code",
   "execution_count": null,
   "id": "1b982898",
   "metadata": {},
   "outputs": [],
   "source": [
    "from tensorflow.keras.models import Sequential\n",
    "from tensorflow.keras.layers import LSTM, Dense\n",
    "from tensorflow.keras.utils import to_categorical\n",
    "from sklearn.metrics import accuracy_score"
   ]
  },
  {
   "cell_type": "code",
   "execution_count": null,
   "id": "86474992",
   "metadata": {},
   "outputs": [],
   "source": [
    "labeledData.show(2, truncate=True)"
   ]
  },
  {
   "cell_type": "code",
   "execution_count": null,
   "id": "0075a480",
   "metadata": {},
   "outputs": [],
   "source": [
    "X = labeledData.select(\"word_vectors\")"
   ]
  },
  {
   "cell_type": "code",
   "execution_count": null,
   "id": "455b25f7",
   "metadata": {},
   "outputs": [],
   "source": [
    "# Define the split ratios (80% for training, 10% for testing, 10% for validation)\n",
    "train_ratio = 0.8\n",
    "test_ratio = 0.1\n",
    "validation_ratio = 0.1\n",
    "\n",
    "# Split the data into training, testing, and validation\n",
    "train_data, test_data, validation_data = df.randomSplit([train_ratio, test_ratio, validation_ratio], seed=42)"
   ]
  },
  {
   "cell_type": "code",
   "execution_count": null,
   "id": "9126c25b",
   "metadata": {
    "scrolled": true
   },
   "outputs": [],
   "source": [
    "#  The number of rows in each split\n",
    "print(\"Train Data Count: \", train_data.count())\n",
    "print(\"Test Data Count: \", test_data.count())\n",
    "print(\"Validation Data Count: \", validation_data.count())"
   ]
  },
  {
   "cell_type": "code",
   "execution_count": null,
   "id": "c034dae3",
   "metadata": {},
   "outputs": [],
   "source": [
    "from tensorflow.keras.layers import Embedding\n",
    "from tensorflow.keras.models import Sequential\n",
    "from tensorflow.keras.layers import Dropout, SimpleRNN, Dense\n"
   ]
  },
  {
   "cell_type": "code",
   "execution_count": null,
   "id": "6c2bf240",
   "metadata": {},
   "outputs": [],
   "source": [
    "# Assuming num_words is the number of unique words in your vocabulary\n",
    "num_columns = len(X.columns)\n",
    "\n",
    "EMBEDDING_DIM = 100\n",
    "\n",
    "model.add(Embedding(input_dim=num_words,\n",
    "                    output_dim=EMBEDDING_DIM,\n",
    "                    input_length=num_columns,\n",
    "                    weights=[gensim_weight_matrix],\n",
    "                    trainable=False))\n",
    "model.add(SimpleRNN(100, return_sequences=True, input_shape=(None, num_words)))  # Input shape adjusted\n",
    "model.add(Dropout(0.2))\n",
    "model.add(SimpleRNN(200, return_sequences=True))\n",
    "model.add(Dropout(0.4))\n",
    "model.add(SimpleRNN(100, return_sequences=False))\n",
    "model.add(Dense(2, activation='softmax'))  # Output dimension adjusted for binary classification\n",
    "\n",
    "model.compile(loss='categorical_crossentropy', optimizer='adam', metrics=['accuracy'])\n",
    "model.summary()"
   ]
  },
  {
   "cell_type": "code",
   "execution_count": null,
   "id": "0253044f",
   "metadata": {},
   "outputs": [],
   "source": [
    "from tensorflow.keras.callbacks import EarlyStopping, ModelCheckpoint\n",
    "\n",
    "#EarlyStopping and ModelCheckpoint\n",
    "from keras.callbacks import EarlyStopping, ModelCheckpoint\n",
    "es = EarlyStopping(monitor = 'val_loss', mode = 'min', verbose = 1, patience = 5)\n",
    "mc = ModelCheckpoint('./model.h5', monitor = 'val_accuracy', mode = 'max', verbose = 1, save_best_only = True)"
   ]
  },
  {
   "cell_type": "code",
   "execution_count": null,
   "id": "03b84dcd",
   "metadata": {},
   "outputs": [],
   "source": [
    "history_embedding = model.fit(train_data, train_labels, \n",
    "                                epochs = 25, batch_size = 128, \n",
    "                                validation_data=(validation_data, validation_labels),\n",
    "                                verbose = 1, callbacks= [es, mc]  )"
   ]
  }
 ],
 "metadata": {
  "kernelspec": {
   "display_name": "Python 3 (ipykernel)",
   "language": "python",
   "name": "python3"
  },
  "language_info": {
   "codemirror_mode": {
    "name": "ipython",
    "version": 3
   },
   "file_extension": ".py",
   "mimetype": "text/x-python",
   "name": "python",
   "nbconvert_exporter": "python",
   "pygments_lexer": "ipython3",
   "version": "3.10.12"
  }
 },
 "nbformat": 4,
 "nbformat_minor": 5
}
