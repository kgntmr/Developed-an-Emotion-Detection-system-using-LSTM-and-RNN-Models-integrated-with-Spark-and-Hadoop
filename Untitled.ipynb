{
 "cells": [
  {
   "cell_type": "code",
   "execution_count": 1,
   "id": "db5de378",
   "metadata": {},
   "outputs": [
    {
     "data": {
      "text/plain": [
       "'local[*]'"
      ]
     },
     "execution_count": 1,
     "metadata": {},
     "output_type": "execute_result"
    }
   ],
   "source": [
    "# sc master running locally\n",
    "sc.master"
   ]
  },
  {
   "cell_type": "code",
   "execution_count": 2,
   "id": "8f4c49a0",
   "metadata": {},
   "outputs": [],
   "source": [
    "import warnings\n",
    "warnings.filterwarnings(\"ignore\")"
   ]
  },
  {
   "cell_type": "code",
   "execution_count": 3,
   "id": "b64c0381",
   "metadata": {},
   "outputs": [],
   "source": [
    "# spark is from the previous example.\n",
    "sc = spark.sparkContext"
   ]
  },
  {
   "cell_type": "code",
   "execution_count": 4,
   "id": "9f465503",
   "metadata": {},
   "outputs": [
    {
     "name": "stderr",
     "output_type": "stream",
     "text": [
      "                                                                                \r"
     ]
    }
   ],
   "source": [
    "path = \"/user1/Suicide_Detection.csv\"\n",
    "df = spark.read.csv(path)"
   ]
  },
  {
   "cell_type": "code",
   "execution_count": 5,
   "id": "f724f3b5",
   "metadata": {},
   "outputs": [
    {
     "name": "stdout",
     "output_type": "stream",
     "text": [
      "root\n",
      " |-- _c0: string (nullable = true)\n",
      " |-- _c1: string (nullable = true)\n",
      " |-- _c2: string (nullable = true)\n",
      "\n"
     ]
    }
   ],
   "source": [
    "# The inferred schema can be visualized using the printSchema() method\n",
    "df.printSchema()"
   ]
  },
  {
   "cell_type": "code",
   "execution_count": 6,
   "id": "0f21d0ec",
   "metadata": {},
   "outputs": [
    {
     "name": "stdout",
     "output_type": "stream",
     "text": [
      "Row(_c0=None, _c1='text', _c2='class')\n",
      "Row(_c0='2', _c1=\"Ex Wife Threatening SuicideRecently I left my wife for good because she has cheated on me twice and lied to me so much that I have decided to refuse to go back to her. As of a few days ago, she began threatening suicide. I have tirelessly spent these paat few days talking her out of it and she keeps hesitating because she wants to believe I'll come back. I know a lot of people will threaten this in order to get their way, but what happens if she really does? What do I do and how am I supposed to handle her death on my hands? I still love my wife but I cannot deal with getting cheated on again and constantly feeling insecure. I'm worried today may be the day she does it and I hope so much it doesn't happen.\", _c2='suicide')\n",
      "Row(_c0='3', _c1=\"Am I weird I don't get affected by compliments if it's coming from someone I know irl but I feel really good when internet strangers do it\", _c2='non-suicide')\n"
     ]
    }
   ],
   "source": [
    "# Use take() to get the first 2 rows\n",
    "result = df.take(3)\n",
    "\n",
    "# Display the result\n",
    "for row in result:\n",
    "    print(row)"
   ]
  },
  {
   "cell_type": "code",
   "execution_count": 7,
   "id": "54a62d23",
   "metadata": {},
   "outputs": [
    {
     "name": "stdout",
     "output_type": "stream",
     "text": [
      "+----+--------------------+-----------+\n",
      "|  ID|                Text|      Label|\n",
      "+----+--------------------+-----------+\n",
      "|null|                text|      class|\n",
      "|   2|Ex Wife Threateni...|    suicide|\n",
      "|   3|Am I weird I don'...|non-suicide|\n",
      "|   4|\"Finally 2020 is ...|non-suicide|\n",
      "|   8|i need helpjust h...|    suicide|\n",
      "+----+--------------------+-----------+\n",
      "only showing top 5 rows\n",
      "\n"
     ]
    }
   ],
   "source": [
    "# Rename the columns\n",
    "df = df.withColumnRenamed('_c0', 'ID')      # Rename _c0 to ID\n",
    "df = df.withColumnRenamed('_c1', 'Text')    # Rename _c1 to Text\n",
    "df = df.withColumnRenamed('_c2', 'Label')   # Rename _c2 to Label\n",
    "\n",
    "# Show the DataFrame with renamed columns\n",
    "df.show(5)"
   ]
  },
  {
   "cell_type": "code",
   "execution_count": 8,
   "id": "4f1d7eba",
   "metadata": {},
   "outputs": [],
   "source": [
    "# Remove rows with null values in any column\n",
    "df = df.na.drop()"
   ]
  },
  {
   "cell_type": "code",
   "execution_count": 9,
   "id": "aa8b6e12",
   "metadata": {},
   "outputs": [
    {
     "name": "stderr",
     "output_type": "stream",
     "text": [
      "\r",
      "[Stage 3:>                                                          (0 + 4) / 4]\r"
     ]
    },
    {
     "name": "stdout",
     "output_type": "stream",
     "text": [
      "Total Rows: 281474\n",
      "root\n",
      " |-- ID: string (nullable = true)\n",
      " |-- Text: string (nullable = true)\n",
      " |-- Label: string (nullable = true)\n",
      "\n"
     ]
    },
    {
     "name": "stderr",
     "output_type": "stream",
     "text": [
      "\r",
      "                                                                                \r"
     ]
    }
   ],
   "source": [
    "# Count Rows\n",
    "row_count = df.count()\n",
    "print(\"Total Rows:\", row_count)\n",
    "\n",
    "# Get Schema\n",
    "df.printSchema()"
   ]
  },
  {
   "cell_type": "code",
   "execution_count": 10,
   "id": "20d61512",
   "metadata": {},
   "outputs": [
    {
     "name": "stderr",
     "output_type": "stream",
     "text": [
      "[nltk_data] Downloading package wordnet to /home/hduser/nltk_data...\n",
      "[nltk_data]   Package wordnet is already up-to-date!\n",
      "[nltk_data] Downloading package stopwords to /home/hduser/nltk_data...\n",
      "[nltk_data]   Package stopwords is already up-to-date!\n",
      "[nltk_data] Downloading package punkt to /home/hduser/nltk_data...\n",
      "[nltk_data]   Package punkt is already up-to-date!\n"
     ]
    }
   ],
   "source": [
    "from pyspark.sql.functions import udf\n",
    "from pyspark.sql.types import StringType\n",
    "\n",
    "import nltk\n",
    "from nltk.corpus import stopwords\n",
    "from nltk.tokenize import word_tokenize\n",
    "from nltk.stem import WordNetLemmatizer\n",
    "\n",
    "nltk.download('wordnet')\n",
    "nltk.download('stopwords')\n",
    "nltk.download('punkt')\n",
    "lists = stopwords.words('english')"
   ]
  },
  {
   "cell_type": "code",
   "execution_count": 15,
   "id": "1ba7635a",
   "metadata": {},
   "outputs": [],
   "source": [
    "def tokenize(text):\n",
    "    return word_tokenize(text)\n",
    "\n",
    "def remove_stopwords(tokens):\n",
    "    stop_words = set(stopwords.words('english'))\n",
    "    return [word for word in tokens if word.lower() not in stop_words]\n",
    "\n",
    "def lemmatize(tokens):\n",
    "    lemmatizer = WordNetLemmatizer()\n",
    "    return [lemmatizer.lemmatize(word) for word in tokens]\n",
    "\n",
    "# Register UDFs with Spark\n",
    "tokenize_udf = udf(tokenize, StringType())\n",
    "remove_stopwords_udf = udf(remove_stopwords, StringType())\n",
    "lemmatize_udf = udf(lemmatize, StringType())\n",
    "\n",
    "# Tokenize, remove stopwords, and lemmatize the \"text\" column\n",
    "df = df.withColumn(\"tokens\", tokenize_udf(df[\"text\"]))\n",
    "df = df.withColumn(\"filtered_tokens\", remove_stopwords_udf(df[\"tokens\"]))\n",
    "df = df.withColumn(\"processed_text\", lemmatize_udf(df[\"filtered_tokens\"]))"
   ]
  },
  {
   "cell_type": "code",
   "execution_count": 16,
   "id": "b124c463",
   "metadata": {
    "scrolled": true
   },
   "outputs": [
    {
     "name": "stderr",
     "output_type": "stream",
     "text": [
      "\r",
      "[Stage 8:>                                                          (0 + 1) / 1]\r"
     ]
    },
    {
     "name": "stdout",
     "output_type": "stream",
     "text": [
      "+-----------------------------------------------------------------------------------------------------------------------------------------------------------------------------------------------------------------------------------------------------------------------------------------------------------------------------------------------------------------------------------------------------------------------------------------------------------------------------------------------------------+\n",
      "|processed_text                                                                                                                                                                                                                                                                                                                                                                                                                                                                                             |\n",
      "+-----------------------------------------------------------------------------------------------------------------------------------------------------------------------------------------------------------------------------------------------------------------------------------------------------------------------------------------------------------------------------------------------------------------------------------------------------------------------------------------------------------+\n",
      "|[Ex, Wife, Threatening, SuicideRecently, left, wife, good, cheated, twice, lied, much, decided, refuse, go, back, ., day, ago, ,, began, threatening, suicide, ., tirelessly, spent, paat, day, talking, keep, hesitating, want, believe, 'll, come, back, ., know, lot, people, threaten, order, get, way, ,, happens, really, ?, supposed, handle, death, hand, ?, still, love, wife, deal, getting, cheated, constantly, feeling, insecure, ., 'm, worried, today, may, day, hope, much, n't, happen, .]|\n",
      "+-----------------------------------------------------------------------------------------------------------------------------------------------------------------------------------------------------------------------------------------------------------------------------------------------------------------------------------------------------------------------------------------------------------------------------------------------------------------------------------------------------------+\n",
      "only showing top 1 row\n",
      "\n"
     ]
    },
    {
     "name": "stderr",
     "output_type": "stream",
     "text": [
      "\r",
      "                                                                                \r"
     ]
    }
   ],
   "source": [
    "df.select(\"processed_text\").show(1, truncate=False)"
   ]
  },
  {
   "cell_type": "markdown",
   "id": "389790aa",
   "metadata": {},
   "source": [
    "First row original Text:\n",
    "\n",
    "Ex Wife Threatening SuicideRecently I left my wife for good because she has cheated on me twice and lied to me so much that I have decided to refuse to go back to her. As of a few days ago, she began threatening suicide. I have tirelessly spent these paat few days talking her out of it and she keeps hesitating because she wants to believe I'll come back. I know a lot of people will threaten this in order to get their way, but what happens if she really does? What do I do and how am I supposed to handle her death on my hands? I still love my wife but I cannot deal with getting cheated on again and constantly feeling insecure. I'm worried today may be the day she does it and I hope so much it doesn't happen.\n",
    "\n",
    "First row after Tokenization, Lemmatization and Removing Stopwords:\n",
    "\n",
    "Ex, Wife, Threatening, SuicideRecently, left, wife, good, cheated, twice, lied, much, decided, refuse, go, back, ., day, ago, ,, began, threatening, suicide, ., tirelessly, spent, paat, day, talking, keep, hesitating, want, believe, 'll, come, back, ., know, lot, people, threaten, order, get, way, ,, happens, really, ?, supposed, handle, death, hand, ?, still, love, wife, deal, getting, cheated, constantly, feeling, insecure, ., 'm, worried, today, may, day, hope, much, n't, happen, ."
   ]
  },
  {
   "cell_type": "code",
   "execution_count": 18,
   "id": "84e2713a",
   "metadata": {},
   "outputs": [
    {
     "name": "stderr",
     "output_type": "stream",
     "text": [
      "\r",
      "[Stage 9:>                                                          (0 + 1) / 1]\r"
     ]
    },
    {
     "name": "stdout",
     "output_type": "stream",
     "text": [
      "+---+--------------------+-----------+--------------------+--------------------+--------------------+--------------------+\n",
      "| ID|                Text|      Label|              tokens|     filtered_tokens|   lemmatized_tokens|      processed_text|\n",
      "+---+--------------------+-----------+--------------------+--------------------+--------------------+--------------------+\n",
      "|  2|Ex Wife Threateni...|    suicide|[Ex, Wife, Threat...|[Ex, Wife, Threat...|[Ex, Wife, Threat...|[Ex, Wife, Threat...|\n",
      "|  3|Am I weird I don'...|non-suicide|[Am, I, weird, I,...|[weird, n't, get,...|[weird, n't, get,...|[weird, n't, get,...|\n",
      "+---+--------------------+-----------+--------------------+--------------------+--------------------+--------------------+\n",
      "only showing top 2 rows\n",
      "\n"
     ]
    },
    {
     "name": "stderr",
     "output_type": "stream",
     "text": [
      "\r",
      "                                                                                \r"
     ]
    }
   ],
   "source": [
    "df.show(2)"
   ]
  },
  {
   "cell_type": "code",
   "execution_count": 19,
   "id": "3850de7b",
   "metadata": {},
   "outputs": [
    {
     "name": "stderr",
     "output_type": "stream",
     "text": [
      "\r",
      "[Stage 10:>                                                         (0 + 1) / 1]\r"
     ]
    },
    {
     "name": "stdout",
     "output_type": "stream",
     "text": [
      "+---+-----------+--------------------+\n",
      "| ID|      Label|      processed_text|\n",
      "+---+-----------+--------------------+\n",
      "|  2|    suicide|[Ex, Wife, Threat...|\n",
      "|  3|non-suicide|[weird, n't, get,...|\n",
      "+---+-----------+--------------------+\n",
      "only showing top 2 rows\n",
      "\n"
     ]
    },
    {
     "name": "stderr",
     "output_type": "stream",
     "text": [
      "\r",
      "                                                                                \r"
     ]
    }
   ],
   "source": [
    "# List of columns to remove\n",
    "columns_to_remove = [\"Text\", \"tokens\", \"filtered_tokens\", \"lemmatized_tokens\"]\n",
    "\n",
    "# Remove the specified columns\n",
    "df = df.drop(*columns_to_remove)\n",
    "\n",
    "df.show(2)"
   ]
  },
  {
   "cell_type": "code",
   "execution_count": 20,
   "id": "3ffa72ba",
   "metadata": {},
   "outputs": [
    {
     "name": "stderr",
     "output_type": "stream",
     "text": [
      "\r",
      "[Stage 11:>                                                         (0 + 1) / 1]\r"
     ]
    },
    {
     "name": "stdout",
     "output_type": "stream",
     "text": [
      "+---+--------------------+-----------+\n",
      "| ID|      processed_text|      Label|\n",
      "+---+--------------------+-----------+\n",
      "|  2|[Ex, Wife, Threat...|    suicide|\n",
      "|  3|[weird, n't, get,...|non-suicide|\n",
      "+---+--------------------+-----------+\n",
      "only showing top 2 rows\n",
      "\n"
     ]
    },
    {
     "name": "stderr",
     "output_type": "stream",
     "text": [
      "\r",
      "                                                                                \r"
     ]
    }
   ],
   "source": [
    "from pyspark.sql.functions import col\n",
    "\n",
    "# Reorder the columns\n",
    "df = df.select(\"ID\", \"processed_text\", \"Label\")\n",
    "\n",
    "df.show(2)"
   ]
  },
  {
   "cell_type": "code",
   "execution_count": 21,
   "id": "a4846688",
   "metadata": {},
   "outputs": [
    {
     "name": "stderr",
     "output_type": "stream",
     "text": [
      "\r",
      "[Stage 12:>                                                         (0 + 1) / 1]\r"
     ]
    },
    {
     "name": "stdout",
     "output_type": "stream",
     "text": [
      "+---------------------------------------------------------------------------------------------------------------------------------------------------------------------------------------------------------------------------------------------------+-----------------------------------------------------------------------------------------------------------------------------------------------------------------------------------------------------------------------------------------------------------------------------------------------------------------------------------------------------------------------------------------------------------------------------------------------------------------------------------------------------------------------------------------------------------------------------------------------------------------------------------------------------------------------------------------------------------------------------------------------------------------------------------------------------------------------------------------------------------------+-----------------------------------------------------------------------------------------------------------------------------------------------------------------------------------+\n",
      "|ID                                                                                                                                                                                                                                                 |processed_text                                                                                                                                                                                                                                                                                                                                                                                                                                                                                                                                                                                                                                                                                                                                                                                                                                                   |Label                                                                                                                                                                              |\n",
      "+---------------------------------------------------------------------------------------------------------------------------------------------------------------------------------------------------------------------------------------------------+-----------------------------------------------------------------------------------------------------------------------------------------------------------------------------------------------------------------------------------------------------------------------------------------------------------------------------------------------------------------------------------------------------------------------------------------------------------------------------------------------------------------------------------------------------------------------------------------------------------------------------------------------------------------------------------------------------------------------------------------------------------------------------------------------------------------------------------------------------------------+-----------------------------------------------------------------------------------------------------------------------------------------------------------------------------------+\n",
      "|2                                                                                                                                                                                                                                                  | ex  wife  threatening  suiciderecently  left  wife  good  cheated  twice  lied  much  decided  refuse  go  back     day  ago     began  threatening  suicide     tirelessly  spent  paat  day  talking  keep  hesitating  want  believe   ll  come  back     know  lot  people  threaten  order  get  way     happens  really     supposed  handle  death  hand     still  love  wife  deal  getting  cheated  constantly  feeling  insecure      m  worried  today  may  day  hope  much  n t  happen                                                                                                                                                                                                                                                                                                                                                          |suicide                                                                                                                                                                            |\n",
      "|3                                                                                                                                                                                                                                                  | weird  n t  get  affected  compliment   s  coming  someone  know  irl  feel  really  good  internet  stranger                                                                                                                                                                                                                                                                                                                                                                                                                                                                                                                                                                                                                                                                                                                                                   |non-suicide                                                                                                                                                                        |\n",
      "|4                                                                                                                                                                                                                                                  |     finally  2020  almost       never  hear          2020  bad  year          ever     swear  fucking  god   s  annoying                                                                                                                                                                                                                                                                                                                                                                                                                                                                                                                                                                                                                                                                                                                                        |non-suicide                                                                                                                                                                        |\n",
      "|8                                                                                                                                                                                                                                                  | need  helpjust  help  im  cry  hard                                                                                                                                                                                                                                                                                                                                                                                                                                                                                                                                                                                                                                                                                                                                                                                                                             |suicide                                                                                                                                                                            |\n",
      "|Come to find out as I’ve been putting feeling horrible and afraid/anxious everyday                                                                                                                                                                 | mom     absolutely  amazing  described     happiest     ever  seen                                                                                                                                                                                                                                                                                                                                                                                                                                                                                                                                                                                                                                                                                                                                                                                              | therapy has helped him”                                                                                                                                                           |\n",
      "|Now here with everything going on                                                                                                                                                                                                                  |    afraid     ever        relapsed  cutting  developed  severe  insomnia     day  day  feeling  hopeless                                                                                                                                                                                                                                                                                                                                                                                                                                                                                                                                                                                                                                                                                                                                                        | worthless questioning why am I still here? What’s my motivation to move out of bed and keep going? I ask these to myself nearly every night almost having a break down everytime. |\n",
      "|I’m so scared I might do something drastic                                                                                                                                                                                                         |    shaped  fear  anxiety     idk  anymore                                                                                                                                                                                                                                                                                                                                                                                                                                                                                                                                                                                                                                                                                                                                                                                                                       |suicide                                                                                                                                                                            |\n",
      "|I would do something to end myself but i know im not strong and brave enough to do it                                                                                                                                                              | knowing  im  weak  make  sadder     thing  push  away  emotion  empty                                                                                                                                                                                                                                                                                                                                                                                                                                                                                                                                                                                                                                                                                                                                                                                           | because as bad as it is im used to it                                                                                                                                             |\n",
      "|I know this is just me rambling and i will probably regret posting this as ill think im taking the place of someone having a worse time with a gun to their head. I encoage all people who see this to help them instead of me. Ill probably suvive| might     plus  life  meaningless  future  bleak                                                                                                                                                                                                                                                                                                                                                                                                                                                                                                                                                                                                                                                                                                                                                                                                                | while they could cure cancer or something useful.                                                                                                                                 |\n",
      "|But                                                                                                                                                                                                                                                |    something  stupid  impulse     burned     really  need  help  excuse  father  daughter  know  history     together  12  year         s  seen  worst        always  cut  ankle  wrist                                                                                                                                                                                                                                                                                                                                                                                                                                                                                                                                                                                                                                                                         | I'm thinking the excuse for this would be easier than one for cuts.                                                                                                               |\n",
      "|I do not want to self harm again                                                                                                                                                                                                                   | need  able  explain                                                                                                                                                                                                                                                                                                                                                                                                                                                                                                                                                                                                                                                                                                                                                                                                                                             |suicide                                                                                                                                                                            |\n",
      "|16                                                                                                                                                                                                                                                 |     everyone  want          edgy           s  making  self  conscious  feel  like  n t  stand     draw  yes  play  guitar  honestly  feel  like  stuck  past                                                                                                                                                                                                                                                                                                                                                                                                                                                                                                                                                                                                                                                                                                    | my taste in music are all rock and alt metal from                                                                                                                                 |\n",
      "|18                                                                                                                                                                                                                                                 | life  20  year  oldhello     20  year  old  balding  male     hairline  trash  make  matter  worse  head  huge     bipolar     depression  crippling  social  anxiety     balding  cherry  top     wear  hat  24 7  even  room     alone     stop  thinking     pop  xanax  day  try  numb  pain  work  little  bit  come  crashing  back  twice  hard  come        know  communicate  people  anymore     know  keep  relationship     used  one     popular  kid     dad  passed  away  feel  deep  dark  hole        arrested  numerous  time     rehab     mental  hospital     name     reason     killed  yet  mom  brother           dead  long  ago        getting  point  even  love  support     going  enough  keep  alive  anymore        either  going  guy  killed     guy  went  bald  20  look  like  child  molestor     one  would  choose    |suicide                                                                                                                                                                            |\n",
      "|19                                                                                                                                                                                                                                                 | took  rest  sleeping  pill  painkillersi     wait  end        struggled  past  6  year     finally  ending                                                                                                                                                                                                                                                                                                                                                                                                                                                                                                                                                                                                                                                                                                                                                      |suicide                                                                                                                                                                            |\n",
      "|Can you even imagine yourself there? Absolutely not. Even if I was happy                                                                                                                                                                           |  d  take  life  avoid  this                                                                                                                                                                                                                                                                                                                                                                                                                                                                                                                                                                                                                                                                                                                                                                                                                                     |suicide                                                                                                                                                                            |\n",
      "|21                                                                                                                                                                                                                                                 | think  getting  hit  train  would  painful     guns  hard  come  country  train     n t  want  suffer  though     think  would  painless  method  suicide                                                                                                                                                                                                                                                                                                                                                                                                                                                                                                                                                                                                                                                                                                       |suicide                                                                                                                                                                            |\n",
      "|In the end                                                                                                                                                                                                                                         | desire  self terminate  grows  stronger     little  left                                                                                                                                                                                                                                                                                                                                                                                                                                                                                                                                                                                                                                                                                                                                                                                                        | but still have the same bitterness                                                                                                                                                |\n",
      "|23                                                                                                                                                                                                                                                 | arrested     feeling  suicidaledit                                                                                                                                                                                                                                                                                                                                                                                                                                                                                                                                                                                                                                                                                                                                                                                                                              |suicide                                                                                                                                                                            |\n",
      "|24                                                                                                                                                                                                                                                 | fuck  verizon  smart  family  app     even  watch  porn  privately  anymore  wtf  feature                                                                                                                                                                                                                                                                                                                                                                                                                                                                                                                                                                                                                                                                                                                                                                       |non-suicide                                                                                                                                                                        |\n",
      "|   I cut myself for the first time yesterday                                                                                                                                                                                                       | barely  even  drew  blood     even  fucking  hurt  correctly        think     ever  able  anything  correctly                                                                                                                                                                                                                                                                                                                                                                                                                                                                                                                                                                                                                                                                                                                                                   | I want to pursue music but I know there’s no money to be found in that field unless I become famous but that’s not happening.                                                     |\n",
      "+---------------------------------------------------------------------------------------------------------------------------------------------------------------------------------------------------------------------------------------------------+-----------------------------------------------------------------------------------------------------------------------------------------------------------------------------------------------------------------------------------------------------------------------------------------------------------------------------------------------------------------------------------------------------------------------------------------------------------------------------------------------------------------------------------------------------------------------------------------------------------------------------------------------------------------------------------------------------------------------------------------------------------------------------------------------------------------------------------------------------------------+-----------------------------------------------------------------------------------------------------------------------------------------------------------------------------------+\n",
      "only showing top 20 rows\n",
      "\n"
     ]
    },
    {
     "name": "stderr",
     "output_type": "stream",
     "text": [
      "\r",
      "                                                                                \r"
     ]
    }
   ],
   "source": [
    "from pyspark.sql.functions import lower, regexp_replace\n",
    "from functools import reduce\n",
    "\n",
    "# List of preprocessing functions\n",
    "preprocessing_functions = [\n",
    "    lambda text: lower(text),                                     # Convert text to lowercase\n",
    "    lambda text: regexp_replace(text, r'\\S+@\\S+', ''),           # Remove email addresses\n",
    "    lambda text: regexp_replace(text, r'<.*?>', ''),             # Remove HTML tags\n",
    "    lambda text: regexp_replace(text, r'[^a-zA-Z0-9\\s]', ' '),   # Remove special characters\n",
    "    lambda text: regexp_replace(text, r'[^\\x00-\\x7F]+', '')     # Remove accented characters\n",
    "]\n",
    "\n",
    "# Apply preprocessing functions to the \"processed_text\" column\n",
    "for func in preprocessing_functions:\n",
    "    df = df.withColumn(\"processed_text\", func(df[\"processed_text\"]))\n",
    "\n",
    "# Show the updated DataFrame\n",
    "df.show(2, truncate=False)"
   ]
  },
  {
   "cell_type": "code",
   "execution_count": null,
   "id": "99cfb152",
   "metadata": {},
   "outputs": [],
   "source": []
  }
 ],
 "metadata": {
  "kernelspec": {
   "display_name": "Python 3 (ipykernel)",
   "language": "python",
   "name": "python3"
  },
  "language_info": {
   "codemirror_mode": {
    "name": "ipython",
    "version": 3
   },
   "file_extension": ".py",
   "mimetype": "text/x-python",
   "name": "python",
   "nbconvert_exporter": "python",
   "pygments_lexer": "ipython3",
   "version": "3.10.12"
  }
 },
 "nbformat": 4,
 "nbformat_minor": 5
}
